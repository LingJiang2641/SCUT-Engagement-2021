{
 "cells": [
  {
   "cell_type": "code",
   "execution_count": 1,
   "metadata": {},
   "outputs": [],
   "source": [
    "from IPython.core.interactiveshell import InteractiveShell\n",
    "InteractiveShell.ast_node_interactivity = \"all\" \n",
    "#实现多输出\n",
    "import pandas as pd\n",
    "import numpy as np\n",
    "import matplotlib.mlab as mlab  \n",
    "import matplotlib.pyplot as plt  \n",
    "import jieba\n",
    "import textdistance\n",
    "import random"
   ]
  },
  {
   "cell_type": "code",
   "execution_count": 2,
   "metadata": {},
   "outputs": [],
   "source": [
    "data = pd.read_excel('cleaned_new.xlsx')"
   ]
  },
  {
   "cell_type": "code",
   "execution_count": 3,
   "metadata": {},
   "outputs": [
    {
     "data": {
      "text/html": [
       "<div>\n",
       "<style scoped>\n",
       "    .dataframe tbody tr th:only-of-type {\n",
       "        vertical-align: middle;\n",
       "    }\n",
       "\n",
       "    .dataframe tbody tr th {\n",
       "        vertical-align: top;\n",
       "    }\n",
       "\n",
       "    .dataframe thead th {\n",
       "        text-align: right;\n",
       "    }\n",
       "</style>\n",
       "<table border=\"1\" class=\"dataframe\">\n",
       "  <thead>\n",
       "    <tr style=\"text-align: right;\">\n",
       "      <th></th>\n",
       "      <th>Unnamed: 0</th>\n",
       "      <th>PRIMARY_NAME</th>\n",
       "      <th>ALT_NAME</th>\n",
       "      <th>State</th>\n",
       "      <th>Cosine Similarity</th>\n",
       "      <th>Levenshtein Distance</th>\n",
       "      <th>Jaro-Winkler Distance</th>\n",
       "      <th>Jaccard Index</th>\n",
       "      <th>Monge Elkan</th>\n",
       "      <th>MRA</th>\n",
       "      <th>Longest Common Substring</th>\n",
       "      <th>Longest Common Subsequence</th>\n",
       "      <th>In String Search</th>\n",
       "    </tr>\n",
       "  </thead>\n",
       "  <tbody>\n",
       "    <tr>\n",
       "      <th>0</th>\n",
       "      <td>0</td>\n",
       "      <td>gazprombank upravlenie aktivami</td>\n",
       "      <td>gazprombank asset management zao</td>\n",
       "      <td>Match</td>\n",
       "      <td>0.666751</td>\n",
       "      <td>15</td>\n",
       "      <td>0.847686</td>\n",
       "      <td>0.500000</td>\n",
       "      <td>0.024974</td>\n",
       "      <td>4</td>\n",
       "      <td>12</td>\n",
       "      <td>18</td>\n",
       "      <td>0</td>\n",
       "    </tr>\n",
       "    <tr>\n",
       "      <th>1</th>\n",
       "      <td>1</td>\n",
       "      <td>gazprombank upravlenie aktivami</td>\n",
       "      <td>closed joint-stock company gazprombank-upravle...</td>\n",
       "      <td>Match</td>\n",
       "      <td>0.731083</td>\n",
       "      <td>30</td>\n",
       "      <td>0.683537</td>\n",
       "      <td>0.534483</td>\n",
       "      <td>0.032258</td>\n",
       "      <td>3</td>\n",
       "      <td>19</td>\n",
       "      <td>30</td>\n",
       "      <td>0</td>\n",
       "    </tr>\n",
       "    <tr>\n",
       "      <th>2</th>\n",
       "      <td>2</td>\n",
       "      <td>united instrument manufacturing corporation</td>\n",
       "      <td>jsc-united-instrument-manufacturing-corporation</td>\n",
       "      <td>Match</td>\n",
       "      <td>0.889768</td>\n",
       "      <td>40</td>\n",
       "      <td>0.802099</td>\n",
       "      <td>0.800000</td>\n",
       "      <td>0.021633</td>\n",
       "      <td>3</td>\n",
       "      <td>13</td>\n",
       "      <td>40</td>\n",
       "      <td>0</td>\n",
       "    </tr>\n",
       "    <tr>\n",
       "      <th>3</th>\n",
       "      <td>3</td>\n",
       "      <td>gaz-oil  ooo</td>\n",
       "      <td>gaz-oil</td>\n",
       "      <td>Match</td>\n",
       "      <td>0.763763</td>\n",
       "      <td>7</td>\n",
       "      <td>0.916667</td>\n",
       "      <td>0.583333</td>\n",
       "      <td>0.069444</td>\n",
       "      <td>4</td>\n",
       "      <td>7</td>\n",
       "      <td>7</td>\n",
       "      <td>1</td>\n",
       "    </tr>\n",
       "    <tr>\n",
       "      <th>4</th>\n",
       "      <td>4</td>\n",
       "      <td>ken wong</td>\n",
       "      <td>ken wong kaw</td>\n",
       "      <td>Match</td>\n",
       "      <td>0.816497</td>\n",
       "      <td>8</td>\n",
       "      <td>0.933333</td>\n",
       "      <td>0.666667</td>\n",
       "      <td>0.125000</td>\n",
       "      <td>3</td>\n",
       "      <td>8</td>\n",
       "      <td>8</td>\n",
       "      <td>1</td>\n",
       "    </tr>\n",
       "  </tbody>\n",
       "</table>\n",
       "</div>"
      ],
      "text/plain": [
       "   Unnamed: 0                                 PRIMARY_NAME  \\\n",
       "0           0              gazprombank upravlenie aktivami   \n",
       "1           1              gazprombank upravlenie aktivami   \n",
       "2           2  united instrument manufacturing corporation   \n",
       "3           3                                 gaz-oil  ooo   \n",
       "4           4                                     ken wong   \n",
       "\n",
       "                                            ALT_NAME  State  \\\n",
       "0                   gazprombank asset management zao  Match   \n",
       "1  closed joint-stock company gazprombank-upravle...  Match   \n",
       "2    jsc-united-instrument-manufacturing-corporation  Match   \n",
       "3                                            gaz-oil  Match   \n",
       "4                                       ken wong kaw  Match   \n",
       "\n",
       "   Cosine Similarity  Levenshtein Distance  Jaro-Winkler Distance  \\\n",
       "0           0.666751                    15               0.847686   \n",
       "1           0.731083                    30               0.683537   \n",
       "2           0.889768                    40               0.802099   \n",
       "3           0.763763                     7               0.916667   \n",
       "4           0.816497                     8               0.933333   \n",
       "\n",
       "   Jaccard Index  Monge Elkan  MRA  Longest Common Substring  \\\n",
       "0       0.500000     0.024974    4                        12   \n",
       "1       0.534483     0.032258    3                        19   \n",
       "2       0.800000     0.021633    3                        13   \n",
       "3       0.583333     0.069444    4                         7   \n",
       "4       0.666667     0.125000    3                         8   \n",
       "\n",
       "   Longest Common Subsequence  In String Search  \n",
       "0                          18                 0  \n",
       "1                          30                 0  \n",
       "2                          40                 0  \n",
       "3                           7                 1  \n",
       "4                           8                 1  "
      ]
     },
     "execution_count": 3,
     "metadata": {},
     "output_type": "execute_result"
    }
   ],
   "source": [
    "data.head()"
   ]
  },
  {
   "cell_type": "code",
   "execution_count": 4,
   "metadata": {},
   "outputs": [],
   "source": [
    "from sklearn import feature_extraction  \n",
    "from sklearn.feature_extraction.text import TfidfTransformer  \n",
    "from sklearn.feature_extraction.text import CountVectorizer  "
   ]
  },
  {
   "cell_type": "code",
   "execution_count": 5,
   "metadata": {},
   "outputs": [],
   "source": [
    "vectorizer = CountVectorizer()\n",
    "transformer = TfidfTransformer()"
   ]
  },
  {
   "cell_type": "code",
   "execution_count": 6,
   "metadata": {},
   "outputs": [],
   "source": [
    "sample = random.sample(range(len(data)),10000)\n",
    "name = data.loc[sample]['PRIMARY_NAME'].append(data.loc[sample]['ALT_NAME']).fillna('')\n",
    "x = vectorizer.fit_transform(name)\n",
    "tfidf = transformer.fit_transform(x)\n",
    "word = vectorizer.get_feature_names()"
   ]
  },
  {
   "cell_type": "code",
   "execution_count": 7,
   "metadata": {},
   "outputs": [],
   "source": [
    "weight = tfidf.toarray().astype(np.float16)"
   ]
  },
  {
   "cell_type": "code",
   "execution_count": 8,
   "metadata": {},
   "outputs": [],
   "source": [
    "#降维\n",
    "def PCA(weight, dimension):\n",
    " \n",
    "    from sklearn.decomposition import PCA\n",
    " \n",
    "    print('原有维度: ', len(weight[0]))\n",
    "    print('开始降维:')\n",
    " \n",
    "    pca = PCA(n_components=dimension) # 初始化PCA\n",
    "    X = pca.fit_transform(weight) # 返回降维后的数据\n",
    "    #cumsum=np.cumsum(pca.explained_variance_ratio_)\n",
    "    #d=np.argmax(cumsum>=0.95)+1\n",
    "    print('降维后维度: ', len(X[0]))\n",
    "    print(X)\n",
    "    #print(d)\n",
    "    return X"
   ]
  },
  {
   "cell_type": "code",
   "execution_count": 9,
   "metadata": {},
   "outputs": [
    {
     "name": "stdout",
     "output_type": "stream",
     "text": [
      "原有维度:  11454\n",
      "开始降维:\n",
      "降维后维度:  20\n",
      "[[ 0.03941327 -0.07441442 -0.03784762 ...  0.00301714 -0.03683408\n",
      "  -0.00254237]\n",
      " [ 0.03513255 -0.08755514 -0.06031842 ...  0.01007033 -0.00994188\n",
      "   0.00118153]\n",
      " [-0.15502856  0.09635905 -0.10159186 ...  0.17334391  0.07770223\n",
      "  -0.07519154]\n",
      " ...\n",
      " [ 0.01052455 -0.02050255 -0.01003111 ... -0.00241116  0.01184002\n",
      "  -0.01080792]\n",
      " [ 0.03902981 -0.07603654 -0.02673306 ...  0.0061424  -0.03769171\n",
      "  -0.00297643]\n",
      " [ 0.03508547 -0.06806523 -0.03436891 ...  0.00688829 -0.03398456\n",
      "   0.00244527]]\n",
      "1\n"
     ]
    }
   ],
   "source": [
    "a = PCA(weight, 20)"
   ]
  },
  {
   "cell_type": "code",
   "execution_count": 26,
   "metadata": {},
   "outputs": [
    {
     "data": {
      "text/plain": [
       "20"
      ]
     },
     "execution_count": 26,
     "metadata": {},
     "output_type": "execute_result"
    }
   ],
   "source": [
    "len(a[0])"
   ]
  },
  {
   "cell_type": "code",
   "execution_count": 10,
   "metadata": {},
   "outputs": [],
   "source": [
    "#k均值聚类\n",
    "\n",
    "def kmeans(X, k): # X=weight\n",
    " \n",
    "    from sklearn.cluster import KMeans\n",
    " \n",
    "    print('开始聚类:')\n",
    " \n",
    "    clusterer = KMeans(n_clusters=k, init='k-means++') # 设置聚类模型\n",
    " \n",
    "    # X = clusterer.fit(weight) # 根据文本向量fit\n",
    "    # print X\n",
    "    # print clf.cluster_centers_\n",
    " \n",
    "    # 每个样本所属的簇\n",
    "    y = clusterer.fit_predict(X) # 把weight矩阵扔进去fit一下,输出label\n",
    "    print(y)\n",
    " \n",
    "    # i = 1\n",
    "    # while i <= len(y):\n",
    "    #     i += 1\n",
    " \n",
    "    # 用来评估簇的个数是否合适,距离约小说明簇分得越好,选取临界点的簇的个数\n",
    "    # print clf.inertia_\n",
    " \n",
    "    return y\n",
    "\n"
   ]
  },
  {
   "cell_type": "code",
   "execution_count": 42,
   "metadata": {},
   "outputs": [],
   "source": [
    "k = 4\n",
    "from sklearn.cluster import KMeans\n",
    "s = KMeans(n_clusters=k, init='k-means++').fit(a)\n"
   ]
  },
  {
   "cell_type": "code",
   "execution_count": 11,
   "metadata": {},
   "outputs": [],
   "source": [
    "def Silhouette(X, y):\n",
    " \n",
    "    from sklearn.metrics import silhouette_samples, silhouette_score\n",
    " \n",
    "    print ('计算轮廓系数:')\n",
    " \n",
    "    silhouette_avg = silhouette_score(X, y) # 平均轮廓系数\n",
    "    sample_silhouette_values = silhouette_samples(X, y) # 每个点的轮廓系数\n",
    " \n",
    "    print(silhouette_avg)\n",
    " \n",
    "    return silhouette_avg, sample_silhouette_values\n"
   ]
  },
  {
   "cell_type": "code",
   "execution_count": null,
   "metadata": {},
   "outputs": [],
   "source": [
    "#######################################"
   ]
  },
  {
   "cell_type": "code",
   "execution_count": 48,
   "metadata": {},
   "outputs": [],
   "source": [
    "from sklearn.decomposition import PCA\n",
    "dimension = 20\n",
    "pca = PCA(n_components=dimension)"
   ]
  },
  {
   "cell_type": "code",
   "execution_count": 50,
   "metadata": {},
   "outputs": [
    {
     "data": {
      "text/plain": [
       "PCA(n_components=20)"
      ]
     },
     "execution_count": 50,
     "metadata": {},
     "output_type": "execute_result"
    }
   ],
   "source": [
    "pca.fit(weight)"
   ]
  },
  {
   "cell_type": "code",
   "execution_count": 53,
   "metadata": {},
   "outputs": [
    {
     "data": {
      "text/plain": [
       "array([[-6238.16403621,  1168.789169  , -3054.88141548,   274.87603038,\n",
       "        -4432.64057181,  1804.59406289, -5631.77615581, -3267.14209136,\n",
       "        -2944.45214171, -3911.510614  ,  1965.23708784, -4690.89432381,\n",
       "         4366.49823631, -4723.50996508,   -25.49855689,  4470.48772553,\n",
       "         2943.78088396,  1356.08949865,   852.24149195,  4400.83730971]])"
      ]
     },
     "execution_count": 53,
     "metadata": {},
     "output_type": "execute_result"
    }
   ],
   "source": [
    "pca.transform([[i for i in range(11454)]])"
   ]
  },
  {
   "cell_type": "code",
   "execution_count": null,
   "metadata": {},
   "outputs": [],
   "source": []
  },
  {
   "cell_type": "code",
   "execution_count": null,
   "metadata": {},
   "outputs": [],
   "source": []
  },
  {
   "cell_type": "code",
   "execution_count": null,
   "metadata": {},
   "outputs": [],
   "source": []
  },
  {
   "cell_type": "code",
   "execution_count": null,
   "metadata": {},
   "outputs": [],
   "source": [
    "#################################################"
   ]
  },
  {
   "cell_type": "code",
   "execution_count": 12,
   "metadata": {},
   "outputs": [
    {
     "name": "stdout",
     "output_type": "stream",
     "text": [
      "开始聚类:\n",
      "[1 1 3 ... 1 1 1]\n"
     ]
    }
   ],
   "source": [
    "k = 4\n",
    "x = kmeans(a, k)"
   ]
  },
  {
   "cell_type": "code",
   "execution_count": 13,
   "metadata": {},
   "outputs": [
    {
     "name": "stdout",
     "output_type": "stream",
     "text": [
      "计算轮廓系数:\n",
      "0.31711953187033315\n"
     ]
    }
   ],
   "source": [
    "X = a\n",
    "silhouette_avg1, sample_silhouette_values1 = Silhouette(a, x)"
   ]
  },
  {
   "cell_type": "code",
   "execution_count": 55,
   "metadata": {},
   "outputs": [
    {
     "name": "stderr",
     "output_type": "stream",
     "text": [
      "<ipython-input-55-739a993bd10f>:2: SettingWithCopyWarning: \n",
      "A value is trying to be set on a copy of a slice from a DataFrame.\n",
      "Try using .loc[row_indexer,col_indexer] = value instead\n",
      "\n",
      "See the caveats in the documentation: https://pandas.pydata.org/pandas-docs/stable/user_guide/indexing.html#returning-a-view-versus-a-copy\n",
      "  data1['class_1'] = x[:10000]\n",
      "<ipython-input-55-739a993bd10f>:3: SettingWithCopyWarning: \n",
      "A value is trying to be set on a copy of a slice from a DataFrame.\n",
      "Try using .loc[row_indexer,col_indexer] = value instead\n",
      "\n",
      "See the caveats in the documentation: https://pandas.pydata.org/pandas-docs/stable/user_guide/indexing.html#returning-a-view-versus-a-copy\n",
      "  data1['class_2'] = x[10000:]\n"
     ]
    }
   ],
   "source": [
    "data1 = data.iloc[sample,:]\n",
    "data1['class_1'] = x[:10000]\n",
    "data1['class_2'] = x[10000:]"
   ]
  },
  {
   "cell_type": "code",
   "execution_count": 56,
   "metadata": {},
   "outputs": [
    {
     "data": {
      "text/plain": [
       "129"
      ]
     },
     "execution_count": 56,
     "metadata": {},
     "output_type": "execute_result"
    },
    {
     "data": {
      "text/plain": [
       "0.6035"
      ]
     },
     "execution_count": 56,
     "metadata": {},
     "output_type": "execute_result"
    },
    {
     "data": {
      "text/plain": [
       "119"
      ]
     },
     "execution_count": 56,
     "metadata": {},
     "output_type": "execute_result"
    }
   ],
   "source": [
    "index1 = data1[data1['State'] == 'Match']['State'].index\n",
    "index2 = data1[data1['class_1'] == data1['class_2']]['State'].index\n",
    "len(index1) #总的match数量\n",
    "len(index2)/10000  #聚类之后同一行是一类的数量\n",
    "sum([i in index2 for i in index1]) #聚类之后同一行是一类且match的数量"
   ]
  },
  {
   "cell_type": "code",
   "execution_count": 16,
   "metadata": {},
   "outputs": [],
   "source": [
    "#可以看出只有六个match在聚类之后认为不是同一类。但是因为聚类只能进行抽样，最后用于训练的数据数量大大减少，使得模型的效果不如直接训练。"
   ]
  },
  {
   "cell_type": "code",
   "execution_count": 23,
   "metadata": {},
   "outputs": [
    {
     "data": {
      "text/plain": [
       "11454"
      ]
     },
     "execution_count": 23,
     "metadata": {},
     "output_type": "execute_result"
    }
   ],
   "source": [
    "len(weight[0])"
   ]
  },
  {
   "cell_type": "code",
   "execution_count": 22,
   "metadata": {},
   "outputs": [
    {
     "data": {
      "text/plain": [
       "[0.506, 0.795, 0.335]"
      ]
     },
     "execution_count": 22,
     "metadata": {},
     "output_type": "execute_result"
    }
   ],
   "source": [
    "[i for i in weight[0] if i!=0]"
   ]
  },
  {
   "cell_type": "code",
   "execution_count": null,
   "metadata": {},
   "outputs": [],
   "source": []
  }
 ],
 "metadata": {
  "kernelspec": {
   "display_name": "Python 3",
   "language": "python",
   "name": "python3"
  },
  "language_info": {
   "codemirror_mode": {
    "name": "ipython",
    "version": 3
   },
   "file_extension": ".py",
   "mimetype": "text/x-python",
   "name": "python",
   "nbconvert_exporter": "python",
   "pygments_lexer": "ipython3",
   "version": "3.8.5"
  }
 },
 "nbformat": 4,
 "nbformat_minor": 4
}
