{
 "cells": [
  {
   "cell_type": "code",
   "execution_count": 11,
   "metadata": {},
   "outputs": [],
   "source": [
    "from IPython.core.interactiveshell import InteractiveShell  #执行该代码可以使得当前nb支持多输出\n",
    "InteractiveShell.ast_node_interactivity = \"all\" "
   ]
  },
  {
   "cell_type": "code",
   "execution_count": 12,
   "metadata": {},
   "outputs": [],
   "source": [
    "import requests\n",
    "from bs4 import BeautifulSoup\n",
    "from lxml import etree\n",
    "import pandas as pd\n",
    "from fake_useragent import UserAgent\n",
    "import time"
   ]
  },
  {
   "cell_type": "code",
   "execution_count": 227,
   "metadata": {},
   "outputs": [
    {
     "data": {
      "text/plain": [
       "0     2200650694048\n",
       "1     2200640617541\n",
       "2        3922061057\n",
       "3        3901445305\n",
       "4        3837586220\n",
       "          ...      \n",
       "74    2210228542894\n",
       "75       3014691900\n",
       "76       3010242861\n",
       "77        720439558\n",
       "78        382051931\n",
       "Name: 店铺id, Length: 79, dtype: int64"
      ]
     },
     "execution_count": 227,
     "metadata": {},
     "output_type": "execute_result"
    },
    {
     "data": {
      "text/plain": [
       "0      喵喵的衣服shop\n",
       "1      花花公子贵宾特价店\n",
       "2     富贵鸟纯棉世家男装店\n",
       "3       布丁原创shop\n",
       "4       右米家女装批发店\n",
       "         ...    \n",
       "74        喜儿品质服饰\n",
       "75    运动三叶草品牌折扣店\n",
       "76       峻哲男装服饰店\n",
       "77     阿予家精品女装批发\n",
       "78        媛妃琪の服饰\n",
       "Name: 店铺名称, Length: 79, dtype: object"
      ]
     },
     "execution_count": 227,
     "metadata": {},
     "output_type": "execute_result"
    }
   ],
   "source": [
    "shops = pd.read_excel('店铺列表3.xlsx')\n",
    "shops.iloc[:,1]\n",
    "shops.iloc[:,0]"
   ]
  },
  {
   "cell_type": "code",
   "execution_count": 228,
   "metadata": {},
   "outputs": [],
   "source": [
    "url_shop = 'https://www.dianchacha.com/shop/info/index/uid/'\n",
    "url_serch = 'https://www.dianchacha.com/shop/keyword/index/uid/'\n",
    "url_shop = [url_shop + '{}'.format(i) for i in shops.iloc[:,1]]\n",
    "url_serch = [url_serch + '{}'.format(i) +'?p=5' for i in shops.iloc[:,1]]"
   ]
  },
  {
   "cell_type": "code",
   "execution_count": 191,
   "metadata": {},
   "outputs": [],
   "source": [
    "rate = ['指标','上周同期','较上周']\n",
    "def get_sales(url,j):\n",
    "    resp = requests.get(url,headers = headers)\n",
    "    html = resp.content.decode('utf-8')\n",
    "    e_html = etree.HTML(html)\n",
    "    df1=pd.read_html(html)[0]\n",
    "    rate = ['指标','上周同期','较上周']    \n",
    "    if('没有人关注' not in df1.iloc[0,0]):\n",
    "        for i in range(1,8):\n",
    "            df1[df1.columns[i]+rate[0]] = df1.iloc[:,i].map(lambda x:x.split(' ')[0])\n",
    "            df1[df1.columns[i]+rate[1]] = df1.iloc[:,i].map(lambda x:x.split(' ')[1])\n",
    "            df1[df1.columns[i]+rate[2]] = df1.iloc[:,i].map(lambda x:x.split(' ')[2])\n",
    "        df1.index=pd.MultiIndex.from_product([[shops.iloc[j,0]],['销售额（元）','销售量（件）','宝贝数（款）']])\n",
    "        df1 = df1.drop(df1.iloc[:,:8],axis=1)\n",
    "    return df1"
   ]
  },
  {
   "cell_type": "code",
   "execution_count": 206,
   "metadata": {},
   "outputs": [],
   "source": [
    "def get_hot(url,j):\n",
    "    resp2 = requests.get(url,headers = headers)\n",
    "    html2 = resp2.content.decode('utf-8')\n",
    "    e_html2 = etree.HTML(html2)\n",
    "    df2=pd.read_html(html2)[0]\n",
    "    df2 = df2.drop(['Unnamed: 0','操作'],axis = 1)\n",
    "    df2.index = [[shops.iloc[j,0]]*len(df2)]\n",
    "    return df2"
   ]
  },
  {
   "cell_type": "code",
   "execution_count": 64,
   "metadata": {},
   "outputs": [],
   "source": [
    "#基础信息\n",
    "def get_shopDetails(url1,url2):\n",
    "    resp = requests.get(url1,headers = headers)\n",
    "    html = resp.content.decode('utf-8')\n",
    "    e_html1 = etree.HTML(html)\n",
    "    resp2 = requests.get(url2,headers = headers)\n",
    "    html2 = resp2.content.decode('utf-8')\n",
    "    e_html2 = etree.HTML(html2)\n",
    "    #获取开店时间\n",
    "    open_time = e_html1.xpath('/html/body/div[2]/div[2]/div[2]/div[1]/ul[1]//text()')\n",
    "    #获取店铺信用\n",
    "    credits = e_html1.xpath('/html/body/div[2]/div[2]/div[2]/div[1]/ul[1]/li[1]/div[2]/span[2]/@title')\n",
    "    sale = e_html2.xpath('/html/body/div[2]/div[2]/div[2]/div/div//text()')\n",
    "    info = []\n",
    "    info.append(open_time)\n",
    "    info.append(sale)\n",
    "    result= []\n",
    "    result_dict = {}\n",
    "    for lists in info:\n",
    "        for i in lists:\n",
    "            i = i.replace('\\n','')\n",
    "            i = i.replace(' ','')\n",
    "            if('：' in i):\n",
    "                i = i.replace('：',':')\n",
    "            result.append(i)\n",
    "            while '' in result:\n",
    "                result.remove('')\n",
    "    for i in range(len(result)):\n",
    "        if(':' in result[i]):\n",
    "            result[i] = result[i].replace(':','')\n",
    "            result_dict[result[i]] = result[i+1]\n",
    "\n",
    "    result_dict['卖家信用'] = credits[0]\n",
    "    result_df = pd.DataFrame(result_dict,index=['1'])\n",
    "    result_df = result_df.set_index(['店铺'])\n",
    "    return result_df"
   ]
  },
  {
   "cell_type": "code",
   "execution_count": 229,
   "metadata": {},
   "outputs": [],
   "source": [
    "ua = UserAgent().random\n",
    "cookie = '_dcc_session=iq51o4ab7o1n6rqf2td2dhj132; Hm_lvt_2dc49552d570922026e5fcb79894c7b3=1624680783,1624718399,1624761303,1624776810; Hm_lvt_3a75bcb07225c9d03aae2d67edca6226=1624680783,1624718399,1624761303,1624776810; acw_tc=76b20f4516247907602958208e9a4d984d832edcb40f455fcf5513f31b1dd2; _sess_remember=1e03fc9f06a7e9aed4521b37a914f7df; Hm_lpvt_3a75bcb07225c9d03aae2d67edca6226='+str(int(time.time()))+'; Hm_lpvt_2dc49552d570922026e5fcb79894c7b3='+str(int(time.time()))\n",
    "headers = {\n",
    "    'Accept': '*/*',\n",
    "    'Accept-Language': 'zh-CN,zh;q=0.9',\n",
    "    'Cache-Control': 'max-age=0',\n",
    "    'Cookie':cookie,\n",
    "    'User-Agent':ua,\n",
    "    'Connection': 'keep-alive',\n",
    "    'Referer': 'https://www.dianchacha.com/shop/info/index/uid'\n",
    "}\n",
    "for i in range(79):\n",
    "    sales = pd.concat([sales,get_hot(url_serch[i],i)])\n",
    "    time.sleep(10)"
   ]
  }
 ],
 "metadata": {
  "kernelspec": {
   "display_name": "Python 3",
   "language": "python",
   "name": "python3"
  },
  "language_info": {
   "codemirror_mode": {
    "name": "ipython",
    "version": 3
   },
   "file_extension": ".py",
   "mimetype": "text/x-python",
   "name": "python",
   "nbconvert_exporter": "python",
   "pygments_lexer": "ipython3",
   "version": "3.7.6"
  }
 },
 "nbformat": 4,
 "nbformat_minor": 4
}
