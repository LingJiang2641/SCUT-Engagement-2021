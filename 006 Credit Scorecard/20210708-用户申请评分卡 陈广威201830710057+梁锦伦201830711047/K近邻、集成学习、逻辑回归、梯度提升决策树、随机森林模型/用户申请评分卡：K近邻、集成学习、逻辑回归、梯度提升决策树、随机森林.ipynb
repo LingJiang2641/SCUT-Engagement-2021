{
 "cells": [
  {
   "cell_type": "markdown",
   "metadata": {},
   "source": [
    "## 本模型利用逻辑回归模型数据清洗后的数据application_data_cleaning.csv"
   ]
  },
  {
   "cell_type": "code",
   "execution_count": 1,
   "metadata": {},
   "outputs": [],
   "source": [
    "import numpy as np\n",
    "import pandas as pd\n",
    "import matplotlib.pyplot as plt\n",
    "import seaborn as sns\n",
    "%matplotlib inline\n",
    "from IPython.core.interactiveshell import InteractiveShell\n",
    "InteractiveShell.ast_node_interactivity = \"all\""
   ]
  },
  {
   "cell_type": "code",
   "execution_count": 2,
   "metadata": {},
   "outputs": [
    {
     "data": {
      "text/html": [
       "<div>\n",
       "<style scoped>\n",
       "    .dataframe tbody tr th:only-of-type {\n",
       "        vertical-align: middle;\n",
       "    }\n",
       "\n",
       "    .dataframe tbody tr th {\n",
       "        vertical-align: top;\n",
       "    }\n",
       "\n",
       "    .dataframe thead th {\n",
       "        text-align: right;\n",
       "    }\n",
       "</style>\n",
       "<table border=\"1\" class=\"dataframe\">\n",
       "  <thead>\n",
       "    <tr style=\"text-align: right;\">\n",
       "      <th></th>\n",
       "      <th>SK_ID_CURR</th>\n",
       "      <th>TARGET</th>\n",
       "      <th>NAME_CONTRACT_TYPE</th>\n",
       "      <th>CODE_GENDER</th>\n",
       "      <th>FLAG_OWN_CAR</th>\n",
       "      <th>FLAG_OWN_REALTY</th>\n",
       "      <th>CNT_CHILDREN</th>\n",
       "      <th>AMT_INCOME_TOTAL</th>\n",
       "      <th>AMT_CREDIT</th>\n",
       "      <th>AMT_ANNUITY</th>\n",
       "      <th>...</th>\n",
       "      <th>OBS_60_CNT_SOCIAL_CIRCLE</th>\n",
       "      <th>DEF_60_CNT_SOCIAL_CIRCLE</th>\n",
       "      <th>DAYS_LAST_PHONE_CHANGE</th>\n",
       "      <th>FLAG_DOCUMENT_3</th>\n",
       "      <th>AMT_REQ_CREDIT_BUREAU_HOUR</th>\n",
       "      <th>AMT_REQ_CREDIT_BUREAU_DAY</th>\n",
       "      <th>AMT_REQ_CREDIT_BUREAU_WEEK</th>\n",
       "      <th>AMT_REQ_CREDIT_BUREAU_MON</th>\n",
       "      <th>AMT_REQ_CREDIT_BUREAU_QRT</th>\n",
       "      <th>AMT_REQ_CREDIT_BUREAU_YEAR</th>\n",
       "    </tr>\n",
       "  </thead>\n",
       "  <tbody>\n",
       "    <tr>\n",
       "      <td>0</td>\n",
       "      <td>100002</td>\n",
       "      <td>1</td>\n",
       "      <td>Cash loans</td>\n",
       "      <td>M</td>\n",
       "      <td>N</td>\n",
       "      <td>Y</td>\n",
       "      <td>0</td>\n",
       "      <td>202500.0</td>\n",
       "      <td>406597.5</td>\n",
       "      <td>24700.5</td>\n",
       "      <td>...</td>\n",
       "      <td>2.0</td>\n",
       "      <td>2.0</td>\n",
       "      <td>-1134.0</td>\n",
       "      <td>1</td>\n",
       "      <td>0.0</td>\n",
       "      <td>0.0</td>\n",
       "      <td>0.0</td>\n",
       "      <td>0.0</td>\n",
       "      <td>0.0</td>\n",
       "      <td>1.0</td>\n",
       "    </tr>\n",
       "    <tr>\n",
       "      <td>1</td>\n",
       "      <td>100003</td>\n",
       "      <td>0</td>\n",
       "      <td>Cash loans</td>\n",
       "      <td>F</td>\n",
       "      <td>N</td>\n",
       "      <td>N</td>\n",
       "      <td>0</td>\n",
       "      <td>270000.0</td>\n",
       "      <td>1293502.5</td>\n",
       "      <td>35698.5</td>\n",
       "      <td>...</td>\n",
       "      <td>1.0</td>\n",
       "      <td>0.0</td>\n",
       "      <td>-828.0</td>\n",
       "      <td>1</td>\n",
       "      <td>0.0</td>\n",
       "      <td>0.0</td>\n",
       "      <td>0.0</td>\n",
       "      <td>0.0</td>\n",
       "      <td>0.0</td>\n",
       "      <td>0.0</td>\n",
       "    </tr>\n",
       "    <tr>\n",
       "      <td>2</td>\n",
       "      <td>100004</td>\n",
       "      <td>0</td>\n",
       "      <td>Revolving loans</td>\n",
       "      <td>M</td>\n",
       "      <td>Y</td>\n",
       "      <td>Y</td>\n",
       "      <td>0</td>\n",
       "      <td>67500.0</td>\n",
       "      <td>135000.0</td>\n",
       "      <td>6750.0</td>\n",
       "      <td>...</td>\n",
       "      <td>0.0</td>\n",
       "      <td>0.0</td>\n",
       "      <td>-815.0</td>\n",
       "      <td>0</td>\n",
       "      <td>0.0</td>\n",
       "      <td>0.0</td>\n",
       "      <td>0.0</td>\n",
       "      <td>0.0</td>\n",
       "      <td>0.0</td>\n",
       "      <td>0.0</td>\n",
       "    </tr>\n",
       "    <tr>\n",
       "      <td>3</td>\n",
       "      <td>100006</td>\n",
       "      <td>0</td>\n",
       "      <td>Cash loans</td>\n",
       "      <td>F</td>\n",
       "      <td>N</td>\n",
       "      <td>Y</td>\n",
       "      <td>0</td>\n",
       "      <td>135000.0</td>\n",
       "      <td>312682.5</td>\n",
       "      <td>29686.5</td>\n",
       "      <td>...</td>\n",
       "      <td>2.0</td>\n",
       "      <td>0.0</td>\n",
       "      <td>-617.0</td>\n",
       "      <td>1</td>\n",
       "      <td>NaN</td>\n",
       "      <td>NaN</td>\n",
       "      <td>NaN</td>\n",
       "      <td>NaN</td>\n",
       "      <td>NaN</td>\n",
       "      <td>NaN</td>\n",
       "    </tr>\n",
       "    <tr>\n",
       "      <td>4</td>\n",
       "      <td>100007</td>\n",
       "      <td>0</td>\n",
       "      <td>Cash loans</td>\n",
       "      <td>M</td>\n",
       "      <td>N</td>\n",
       "      <td>Y</td>\n",
       "      <td>0</td>\n",
       "      <td>121500.0</td>\n",
       "      <td>513000.0</td>\n",
       "      <td>21865.5</td>\n",
       "      <td>...</td>\n",
       "      <td>0.0</td>\n",
       "      <td>0.0</td>\n",
       "      <td>-1106.0</td>\n",
       "      <td>0</td>\n",
       "      <td>0.0</td>\n",
       "      <td>0.0</td>\n",
       "      <td>0.0</td>\n",
       "      <td>0.0</td>\n",
       "      <td>0.0</td>\n",
       "      <td>0.0</td>\n",
       "    </tr>\n",
       "    <tr>\n",
       "      <td>...</td>\n",
       "      <td>...</td>\n",
       "      <td>...</td>\n",
       "      <td>...</td>\n",
       "      <td>...</td>\n",
       "      <td>...</td>\n",
       "      <td>...</td>\n",
       "      <td>...</td>\n",
       "      <td>...</td>\n",
       "      <td>...</td>\n",
       "      <td>...</td>\n",
       "      <td>...</td>\n",
       "      <td>...</td>\n",
       "      <td>...</td>\n",
       "      <td>...</td>\n",
       "      <td>...</td>\n",
       "      <td>...</td>\n",
       "      <td>...</td>\n",
       "      <td>...</td>\n",
       "      <td>...</td>\n",
       "      <td>...</td>\n",
       "      <td>...</td>\n",
       "    </tr>\n",
       "    <tr>\n",
       "      <td>307506</td>\n",
       "      <td>456251</td>\n",
       "      <td>0</td>\n",
       "      <td>Cash loans</td>\n",
       "      <td>M</td>\n",
       "      <td>N</td>\n",
       "      <td>N</td>\n",
       "      <td>0</td>\n",
       "      <td>157500.0</td>\n",
       "      <td>254700.0</td>\n",
       "      <td>27558.0</td>\n",
       "      <td>...</td>\n",
       "      <td>0.0</td>\n",
       "      <td>0.0</td>\n",
       "      <td>-273.0</td>\n",
       "      <td>0</td>\n",
       "      <td>NaN</td>\n",
       "      <td>NaN</td>\n",
       "      <td>NaN</td>\n",
       "      <td>NaN</td>\n",
       "      <td>NaN</td>\n",
       "      <td>NaN</td>\n",
       "    </tr>\n",
       "    <tr>\n",
       "      <td>307507</td>\n",
       "      <td>456252</td>\n",
       "      <td>0</td>\n",
       "      <td>Cash loans</td>\n",
       "      <td>F</td>\n",
       "      <td>N</td>\n",
       "      <td>Y</td>\n",
       "      <td>0</td>\n",
       "      <td>72000.0</td>\n",
       "      <td>269550.0</td>\n",
       "      <td>12001.5</td>\n",
       "      <td>...</td>\n",
       "      <td>0.0</td>\n",
       "      <td>0.0</td>\n",
       "      <td>0.0</td>\n",
       "      <td>1</td>\n",
       "      <td>NaN</td>\n",
       "      <td>NaN</td>\n",
       "      <td>NaN</td>\n",
       "      <td>NaN</td>\n",
       "      <td>NaN</td>\n",
       "      <td>NaN</td>\n",
       "    </tr>\n",
       "    <tr>\n",
       "      <td>307508</td>\n",
       "      <td>456253</td>\n",
       "      <td>0</td>\n",
       "      <td>Cash loans</td>\n",
       "      <td>F</td>\n",
       "      <td>N</td>\n",
       "      <td>Y</td>\n",
       "      <td>0</td>\n",
       "      <td>153000.0</td>\n",
       "      <td>677664.0</td>\n",
       "      <td>29979.0</td>\n",
       "      <td>...</td>\n",
       "      <td>6.0</td>\n",
       "      <td>0.0</td>\n",
       "      <td>-1909.0</td>\n",
       "      <td>1</td>\n",
       "      <td>1.0</td>\n",
       "      <td>0.0</td>\n",
       "      <td>0.0</td>\n",
       "      <td>1.0</td>\n",
       "      <td>0.0</td>\n",
       "      <td>1.0</td>\n",
       "    </tr>\n",
       "    <tr>\n",
       "      <td>307509</td>\n",
       "      <td>456254</td>\n",
       "      <td>1</td>\n",
       "      <td>Cash loans</td>\n",
       "      <td>F</td>\n",
       "      <td>N</td>\n",
       "      <td>Y</td>\n",
       "      <td>0</td>\n",
       "      <td>171000.0</td>\n",
       "      <td>370107.0</td>\n",
       "      <td>20205.0</td>\n",
       "      <td>...</td>\n",
       "      <td>0.0</td>\n",
       "      <td>0.0</td>\n",
       "      <td>-322.0</td>\n",
       "      <td>1</td>\n",
       "      <td>0.0</td>\n",
       "      <td>0.0</td>\n",
       "      <td>0.0</td>\n",
       "      <td>0.0</td>\n",
       "      <td>0.0</td>\n",
       "      <td>0.0</td>\n",
       "    </tr>\n",
       "    <tr>\n",
       "      <td>307510</td>\n",
       "      <td>456255</td>\n",
       "      <td>0</td>\n",
       "      <td>Cash loans</td>\n",
       "      <td>F</td>\n",
       "      <td>N</td>\n",
       "      <td>N</td>\n",
       "      <td>0</td>\n",
       "      <td>157500.0</td>\n",
       "      <td>675000.0</td>\n",
       "      <td>49117.5</td>\n",
       "      <td>...</td>\n",
       "      <td>0.0</td>\n",
       "      <td>0.0</td>\n",
       "      <td>-787.0</td>\n",
       "      <td>1</td>\n",
       "      <td>0.0</td>\n",
       "      <td>0.0</td>\n",
       "      <td>0.0</td>\n",
       "      <td>2.0</td>\n",
       "      <td>0.0</td>\n",
       "      <td>1.0</td>\n",
       "    </tr>\n",
       "  </tbody>\n",
       "</table>\n",
       "<p>307511 rows × 54 columns</p>\n",
       "</div>"
      ],
      "text/plain": [
       "        SK_ID_CURR  TARGET NAME_CONTRACT_TYPE CODE_GENDER FLAG_OWN_CAR  \\\n",
       "0           100002       1         Cash loans           M            N   \n",
       "1           100003       0         Cash loans           F            N   \n",
       "2           100004       0    Revolving loans           M            Y   \n",
       "3           100006       0         Cash loans           F            N   \n",
       "4           100007       0         Cash loans           M            N   \n",
       "...            ...     ...                ...         ...          ...   \n",
       "307506      456251       0         Cash loans           M            N   \n",
       "307507      456252       0         Cash loans           F            N   \n",
       "307508      456253       0         Cash loans           F            N   \n",
       "307509      456254       1         Cash loans           F            N   \n",
       "307510      456255       0         Cash loans           F            N   \n",
       "\n",
       "       FLAG_OWN_REALTY  CNT_CHILDREN  AMT_INCOME_TOTAL  AMT_CREDIT  \\\n",
       "0                    Y             0          202500.0    406597.5   \n",
       "1                    N             0          270000.0   1293502.5   \n",
       "2                    Y             0           67500.0    135000.0   \n",
       "3                    Y             0          135000.0    312682.5   \n",
       "4                    Y             0          121500.0    513000.0   \n",
       "...                ...           ...               ...         ...   \n",
       "307506               N             0          157500.0    254700.0   \n",
       "307507               Y             0           72000.0    269550.0   \n",
       "307508               Y             0          153000.0    677664.0   \n",
       "307509               Y             0          171000.0    370107.0   \n",
       "307510               N             0          157500.0    675000.0   \n",
       "\n",
       "        AMT_ANNUITY  ...  OBS_60_CNT_SOCIAL_CIRCLE DEF_60_CNT_SOCIAL_CIRCLE  \\\n",
       "0           24700.5  ...                       2.0                      2.0   \n",
       "1           35698.5  ...                       1.0                      0.0   \n",
       "2            6750.0  ...                       0.0                      0.0   \n",
       "3           29686.5  ...                       2.0                      0.0   \n",
       "4           21865.5  ...                       0.0                      0.0   \n",
       "...             ...  ...                       ...                      ...   \n",
       "307506      27558.0  ...                       0.0                      0.0   \n",
       "307507      12001.5  ...                       0.0                      0.0   \n",
       "307508      29979.0  ...                       6.0                      0.0   \n",
       "307509      20205.0  ...                       0.0                      0.0   \n",
       "307510      49117.5  ...                       0.0                      0.0   \n",
       "\n",
       "       DAYS_LAST_PHONE_CHANGE FLAG_DOCUMENT_3 AMT_REQ_CREDIT_BUREAU_HOUR  \\\n",
       "0                     -1134.0               1                        0.0   \n",
       "1                      -828.0               1                        0.0   \n",
       "2                      -815.0               0                        0.0   \n",
       "3                      -617.0               1                        NaN   \n",
       "4                     -1106.0               0                        0.0   \n",
       "...                       ...             ...                        ...   \n",
       "307506                 -273.0               0                        NaN   \n",
       "307507                    0.0               1                        NaN   \n",
       "307508                -1909.0               1                        1.0   \n",
       "307509                 -322.0               1                        0.0   \n",
       "307510                 -787.0               1                        0.0   \n",
       "\n",
       "       AMT_REQ_CREDIT_BUREAU_DAY  AMT_REQ_CREDIT_BUREAU_WEEK  \\\n",
       "0                            0.0                         0.0   \n",
       "1                            0.0                         0.0   \n",
       "2                            0.0                         0.0   \n",
       "3                            NaN                         NaN   \n",
       "4                            0.0                         0.0   \n",
       "...                          ...                         ...   \n",
       "307506                       NaN                         NaN   \n",
       "307507                       NaN                         NaN   \n",
       "307508                       0.0                         0.0   \n",
       "307509                       0.0                         0.0   \n",
       "307510                       0.0                         0.0   \n",
       "\n",
       "        AMT_REQ_CREDIT_BUREAU_MON  AMT_REQ_CREDIT_BUREAU_QRT  \\\n",
       "0                             0.0                        0.0   \n",
       "1                             0.0                        0.0   \n",
       "2                             0.0                        0.0   \n",
       "3                             NaN                        NaN   \n",
       "4                             0.0                        0.0   \n",
       "...                           ...                        ...   \n",
       "307506                        NaN                        NaN   \n",
       "307507                        NaN                        NaN   \n",
       "307508                        1.0                        0.0   \n",
       "307509                        0.0                        0.0   \n",
       "307510                        2.0                        0.0   \n",
       "\n",
       "        AMT_REQ_CREDIT_BUREAU_YEAR  \n",
       "0                              1.0  \n",
       "1                              0.0  \n",
       "2                              0.0  \n",
       "3                              NaN  \n",
       "4                              0.0  \n",
       "...                            ...  \n",
       "307506                         NaN  \n",
       "307507                         NaN  \n",
       "307508                         1.0  \n",
       "307509                         0.0  \n",
       "307510                         1.0  \n",
       "\n",
       "[307511 rows x 54 columns]"
      ]
     },
     "execution_count": 2,
     "metadata": {},
     "output_type": "execute_result"
    }
   ],
   "source": [
    "data = pd.read_csv('E:\\\\大三汇丰课程\\\\大三下\\\\机器学习（汇丰）\\\\用户申请评分卡\\\\输出数据\\\\application_data_cleaning.csv')\n",
    "data"
   ]
  },
  {
   "cell_type": "code",
   "execution_count": 3,
   "metadata": {},
   "outputs": [
    {
     "data": {
      "text/plain": [
       "['NAME_CONTRACT_TYPE',\n",
       " 'CODE_GENDER',\n",
       " 'FLAG_OWN_CAR',\n",
       " 'FLAG_OWN_REALTY',\n",
       " 'NAME_TYPE_SUITE',\n",
       " 'NAME_INCOME_TYPE',\n",
       " 'NAME_EDUCATION_TYPE',\n",
       " 'NAME_FAMILY_STATUS',\n",
       " 'NAME_HOUSING_TYPE',\n",
       " 'OCCUPATION_TYPE',\n",
       " 'WEEKDAY_APPR_PROCESS_START',\n",
       " 'ORGANIZATION_TYPE',\n",
       " 'EMERGENCYSTATE_MODE']"
      ]
     },
     "execution_count": 3,
     "metadata": {},
     "output_type": "execute_result"
    }
   ],
   "source": [
    "#非数值型变量\n",
    "sta = data.describe().columns\n",
    "li = []\n",
    "for i in data.columns:\n",
    "    if i not in sta:\n",
    "        li.append(i)\n",
    "li"
   ]
  },
  {
   "cell_type": "code",
   "execution_count": 4,
   "metadata": {
    "scrolled": true
   },
   "outputs": [
    {
     "data": {
      "text/plain": [
       "NAME_CONTRACT_TYPE    0.0\n",
       "dtype: float64"
      ]
     },
     "execution_count": 4,
     "metadata": {},
     "output_type": "execute_result"
    },
    {
     "data": {
      "text/plain": [
       "CODE_GENDER    0.0\n",
       "dtype: float64"
      ]
     },
     "execution_count": 4,
     "metadata": {},
     "output_type": "execute_result"
    },
    {
     "data": {
      "text/plain": [
       "FLAG_OWN_CAR    0.0\n",
       "dtype: float64"
      ]
     },
     "execution_count": 4,
     "metadata": {},
     "output_type": "execute_result"
    },
    {
     "data": {
      "text/plain": [
       "FLAG_OWN_REALTY    0.0\n",
       "dtype: float64"
      ]
     },
     "execution_count": 4,
     "metadata": {},
     "output_type": "execute_result"
    },
    {
     "data": {
      "text/plain": [
       "NAME_TYPE_SUITE    0.420148\n",
       "dtype: float64"
      ]
     },
     "execution_count": 4,
     "metadata": {},
     "output_type": "execute_result"
    },
    {
     "data": {
      "text/plain": [
       "NAME_INCOME_TYPE    0.0\n",
       "dtype: float64"
      ]
     },
     "execution_count": 4,
     "metadata": {},
     "output_type": "execute_result"
    },
    {
     "data": {
      "text/plain": [
       "NAME_EDUCATION_TYPE    0.0\n",
       "dtype: float64"
      ]
     },
     "execution_count": 4,
     "metadata": {},
     "output_type": "execute_result"
    },
    {
     "data": {
      "text/plain": [
       "NAME_FAMILY_STATUS    0.0\n",
       "dtype: float64"
      ]
     },
     "execution_count": 4,
     "metadata": {},
     "output_type": "execute_result"
    },
    {
     "data": {
      "text/plain": [
       "NAME_HOUSING_TYPE    0.0\n",
       "dtype: float64"
      ]
     },
     "execution_count": 4,
     "metadata": {},
     "output_type": "execute_result"
    },
    {
     "data": {
      "text/plain": [
       "OCCUPATION_TYPE    31.345545\n",
       "dtype: float64"
      ]
     },
     "execution_count": 4,
     "metadata": {},
     "output_type": "execute_result"
    },
    {
     "data": {
      "text/plain": [
       "WEEKDAY_APPR_PROCESS_START    0.0\n",
       "dtype: float64"
      ]
     },
     "execution_count": 4,
     "metadata": {},
     "output_type": "execute_result"
    },
    {
     "data": {
      "text/plain": [
       "ORGANIZATION_TYPE    0.0\n",
       "dtype: float64"
      ]
     },
     "execution_count": 4,
     "metadata": {},
     "output_type": "execute_result"
    },
    {
     "data": {
      "text/plain": [
       "EMERGENCYSTATE_MODE    47.398304\n",
       "dtype: float64"
      ]
     },
     "execution_count": 4,
     "metadata": {},
     "output_type": "execute_result"
    }
   ],
   "source": [
    "#查看非数值型变量缺失率\n",
    "for i in li:\n",
    "    (data[[i]].isnull().sum()/len(data))*100\n",
    "#NAME_TYPE_SUITE、OCCUPATION_TYPE和EMERGENCYSTATE_MODE存在数据缺失"
   ]
  },
  {
   "cell_type": "code",
   "execution_count": 5,
   "metadata": {},
   "outputs": [],
   "source": [
    "#对以上三个存在缺失值的非数值型数据采用手动填充\n",
    "# 填充分类变量（基于TransformerMixin的自定义填充器，用众数填充）\n",
    "from sklearn.base import TransformerMixin\n",
    "class CustomCategoryzImputer(TransformerMixin):\n",
    "    def __init__(self, cols=None):\n",
    "        self.cols = cols\n",
    "        \n",
    "    def transform(self, df):\n",
    "        X = df.copy()\n",
    "        for col in self.cols:\n",
    "            X[col].fillna(X[col].value_counts().index[0], inplace=True)\n",
    "        return X\n",
    "    \n",
    "    def fit(self, *_):\n",
    "        return self\n",
    "    \n",
    "# 调用自定义的填充器\n",
    "cci = CustomCategoryzImputer(cols=['NAME_TYPE_SUITE','OCCUPATION_TYPE','EMERGENCYSTATE_MODE'])\n",
    "temp = cci.fit_transform(data[['NAME_TYPE_SUITE','OCCUPATION_TYPE','EMERGENCYSTATE_MODE']])\n",
    "data[['NAME_TYPE_SUITE']] = temp[['NAME_TYPE_SUITE']]\n",
    "data[['OCCUPATION_TYPE']] = temp[['OCCUPATION_TYPE']]\n",
    "data[['EMERGENCYSTATE_MODE']] = temp[['EMERGENCYSTATE_MODE']]"
   ]
  },
  {
   "cell_type": "code",
   "execution_count": 6,
   "metadata": {
    "scrolled": true
   },
   "outputs": [],
   "source": [
    "#把非数值型变量转换为数值型\n",
    "for col in li :\n",
    "    ratios = data.groupby(col).apply(lambda x: x['TARGET'].sum() / x['TARGET'].count()).reset_index()\n",
    "    ratios.columns = [col, 'TEMP']\n",
    "    ratios=ratios.sort_values(by = 'TEMP')\n",
    "    liste=ratios[col].values.tolist()\n",
    "    data[col] = data[col].astype('category')\n",
    "    data[col] = data[col].cat.reorder_categories(liste,ordered=True)\n",
    "    data[col] = data[col].cat.codes"
   ]
  },
  {
   "cell_type": "code",
   "execution_count": 7,
   "metadata": {
    "scrolled": true
   },
   "outputs": [
    {
     "data": {
      "text/html": [
       "<div>\n",
       "<style scoped>\n",
       "    .dataframe tbody tr th:only-of-type {\n",
       "        vertical-align: middle;\n",
       "    }\n",
       "\n",
       "    .dataframe tbody tr th {\n",
       "        vertical-align: top;\n",
       "    }\n",
       "\n",
       "    .dataframe thead th {\n",
       "        text-align: right;\n",
       "    }\n",
       "</style>\n",
       "<table border=\"1\" class=\"dataframe\">\n",
       "  <thead>\n",
       "    <tr style=\"text-align: right;\">\n",
       "      <th></th>\n",
       "      <th>count</th>\n",
       "      <th>mean</th>\n",
       "      <th>std</th>\n",
       "      <th>min</th>\n",
       "      <th>25%</th>\n",
       "      <th>50%</th>\n",
       "      <th>75%</th>\n",
       "      <th>max</th>\n",
       "      <th>missing_rate</th>\n",
       "    </tr>\n",
       "  </thead>\n",
       "  <tbody>\n",
       "    <tr>\n",
       "      <td>SK_ID_CURR</td>\n",
       "      <td>307511.0</td>\n",
       "      <td>278180.518577</td>\n",
       "      <td>102790.175348</td>\n",
       "      <td>100002.00000</td>\n",
       "      <td>189145.500000</td>\n",
       "      <td>278202.00000</td>\n",
       "      <td>367142.500000</td>\n",
       "      <td>4.562550e+05</td>\n",
       "      <td>0.000000</td>\n",
       "    </tr>\n",
       "    <tr>\n",
       "      <td>TARGET</td>\n",
       "      <td>307511.0</td>\n",
       "      <td>0.080729</td>\n",
       "      <td>0.272419</td>\n",
       "      <td>0.00000</td>\n",
       "      <td>0.000000</td>\n",
       "      <td>0.00000</td>\n",
       "      <td>0.000000</td>\n",
       "      <td>1.000000e+00</td>\n",
       "      <td>0.000000</td>\n",
       "    </tr>\n",
       "    <tr>\n",
       "      <td>NAME_CONTRACT_TYPE</td>\n",
       "      <td>307511.0</td>\n",
       "      <td>0.904787</td>\n",
       "      <td>0.293509</td>\n",
       "      <td>0.00000</td>\n",
       "      <td>1.000000</td>\n",
       "      <td>1.00000</td>\n",
       "      <td>1.000000</td>\n",
       "      <td>1.000000e+00</td>\n",
       "      <td>0.000000</td>\n",
       "    </tr>\n",
       "    <tr>\n",
       "      <td>CODE_GENDER</td>\n",
       "      <td>307511.0</td>\n",
       "      <td>1.341630</td>\n",
       "      <td>0.474284</td>\n",
       "      <td>0.00000</td>\n",
       "      <td>1.000000</td>\n",
       "      <td>1.00000</td>\n",
       "      <td>2.000000</td>\n",
       "      <td>2.000000e+00</td>\n",
       "      <td>0.000000</td>\n",
       "    </tr>\n",
       "    <tr>\n",
       "      <td>FLAG_OWN_CAR</td>\n",
       "      <td>307511.0</td>\n",
       "      <td>0.659892</td>\n",
       "      <td>0.473746</td>\n",
       "      <td>0.00000</td>\n",
       "      <td>0.000000</td>\n",
       "      <td>1.00000</td>\n",
       "      <td>1.000000</td>\n",
       "      <td>1.000000e+00</td>\n",
       "      <td>0.000000</td>\n",
       "    </tr>\n",
       "    <tr>\n",
       "      <td>FLAG_OWN_REALTY</td>\n",
       "      <td>307511.0</td>\n",
       "      <td>0.306327</td>\n",
       "      <td>0.460968</td>\n",
       "      <td>0.00000</td>\n",
       "      <td>0.000000</td>\n",
       "      <td>0.00000</td>\n",
       "      <td>1.000000</td>\n",
       "      <td>1.000000e+00</td>\n",
       "      <td>0.000000</td>\n",
       "    </tr>\n",
       "    <tr>\n",
       "      <td>CNT_CHILDREN</td>\n",
       "      <td>307511.0</td>\n",
       "      <td>0.417052</td>\n",
       "      <td>0.722121</td>\n",
       "      <td>0.00000</td>\n",
       "      <td>0.000000</td>\n",
       "      <td>0.00000</td>\n",
       "      <td>1.000000</td>\n",
       "      <td>1.900000e+01</td>\n",
       "      <td>0.000000</td>\n",
       "    </tr>\n",
       "    <tr>\n",
       "      <td>AMT_INCOME_TOTAL</td>\n",
       "      <td>307511.0</td>\n",
       "      <td>168797.919297</td>\n",
       "      <td>237123.146279</td>\n",
       "      <td>25650.00000</td>\n",
       "      <td>112500.000000</td>\n",
       "      <td>147150.00000</td>\n",
       "      <td>202500.000000</td>\n",
       "      <td>1.170000e+08</td>\n",
       "      <td>0.000000</td>\n",
       "    </tr>\n",
       "    <tr>\n",
       "      <td>AMT_CREDIT</td>\n",
       "      <td>307511.0</td>\n",
       "      <td>599025.999706</td>\n",
       "      <td>402490.776996</td>\n",
       "      <td>45000.00000</td>\n",
       "      <td>270000.000000</td>\n",
       "      <td>513531.00000</td>\n",
       "      <td>808650.000000</td>\n",
       "      <td>4.050000e+06</td>\n",
       "      <td>0.000000</td>\n",
       "    </tr>\n",
       "    <tr>\n",
       "      <td>AMT_ANNUITY</td>\n",
       "      <td>307499.0</td>\n",
       "      <td>27108.573909</td>\n",
       "      <td>14493.737315</td>\n",
       "      <td>1615.50000</td>\n",
       "      <td>16524.000000</td>\n",
       "      <td>24903.00000</td>\n",
       "      <td>34596.000000</td>\n",
       "      <td>2.580255e+05</td>\n",
       "      <td>0.000039</td>\n",
       "    </tr>\n",
       "    <tr>\n",
       "      <td>AMT_GOODS_PRICE</td>\n",
       "      <td>307233.0</td>\n",
       "      <td>538396.207429</td>\n",
       "      <td>369446.460540</td>\n",
       "      <td>40500.00000</td>\n",
       "      <td>238500.000000</td>\n",
       "      <td>450000.00000</td>\n",
       "      <td>679500.000000</td>\n",
       "      <td>4.050000e+06</td>\n",
       "      <td>0.000904</td>\n",
       "    </tr>\n",
       "    <tr>\n",
       "      <td>NAME_TYPE_SUITE</td>\n",
       "      <td>307511.0</td>\n",
       "      <td>2.693813</td>\n",
       "      <td>0.790592</td>\n",
       "      <td>0.00000</td>\n",
       "      <td>3.000000</td>\n",
       "      <td>3.00000</td>\n",
       "      <td>3.000000</td>\n",
       "      <td>6.000000e+00</td>\n",
       "      <td>0.000000</td>\n",
       "    </tr>\n",
       "    <tr>\n",
       "      <td>NAME_INCOME_TYPE</td>\n",
       "      <td>307511.0</td>\n",
       "      <td>4.085564</td>\n",
       "      <td>1.140697</td>\n",
       "      <td>0.00000</td>\n",
       "      <td>3.000000</td>\n",
       "      <td>5.00000</td>\n",
       "      <td>5.000000</td>\n",
       "      <td>7.000000e+00</td>\n",
       "      <td>0.000000</td>\n",
       "    </tr>\n",
       "    <tr>\n",
       "      <td>NAME_EDUCATION_TYPE</td>\n",
       "      <td>307511.0</td>\n",
       "      <td>2.490493</td>\n",
       "      <td>0.874544</td>\n",
       "      <td>0.00000</td>\n",
       "      <td>2.000000</td>\n",
       "      <td>3.00000</td>\n",
       "      <td>3.000000</td>\n",
       "      <td>4.000000e+00</td>\n",
       "      <td>0.000000</td>\n",
       "    </tr>\n",
       "    <tr>\n",
       "      <td>NAME_FAMILY_STATUS</td>\n",
       "      <td>307511.0</td>\n",
       "      <td>2.597998</td>\n",
       "      <td>1.105255</td>\n",
       "      <td>0.00000</td>\n",
       "      <td>2.000000</td>\n",
       "      <td>2.00000</td>\n",
       "      <td>3.000000</td>\n",
       "      <td>5.000000e+00</td>\n",
       "      <td>0.000000</td>\n",
       "    </tr>\n",
       "    <tr>\n",
       "      <td>NAME_HOUSING_TYPE</td>\n",
       "      <td>307511.0</td>\n",
       "      <td>1.276136</td>\n",
       "      <td>0.877304</td>\n",
       "      <td>0.00000</td>\n",
       "      <td>1.000000</td>\n",
       "      <td>1.00000</td>\n",
       "      <td>1.000000</td>\n",
       "      <td>5.000000e+00</td>\n",
       "      <td>0.000000</td>\n",
       "    </tr>\n",
       "    <tr>\n",
       "      <td>REGION_POPULATION_RELATIVE</td>\n",
       "      <td>307511.0</td>\n",
       "      <td>0.020868</td>\n",
       "      <td>0.013831</td>\n",
       "      <td>0.00029</td>\n",
       "      <td>0.010006</td>\n",
       "      <td>0.01885</td>\n",
       "      <td>0.028663</td>\n",
       "      <td>7.250800e-02</td>\n",
       "      <td>0.000000</td>\n",
       "    </tr>\n",
       "    <tr>\n",
       "      <td>DAYS_BIRTH</td>\n",
       "      <td>307511.0</td>\n",
       "      <td>-16036.995067</td>\n",
       "      <td>4363.988632</td>\n",
       "      <td>-25229.00000</td>\n",
       "      <td>-19682.000000</td>\n",
       "      <td>-15750.00000</td>\n",
       "      <td>-12413.000000</td>\n",
       "      <td>-7.489000e+03</td>\n",
       "      <td>0.000000</td>\n",
       "    </tr>\n",
       "    <tr>\n",
       "      <td>DAYS_EMPLOYED</td>\n",
       "      <td>307511.0</td>\n",
       "      <td>63815.045904</td>\n",
       "      <td>141275.766519</td>\n",
       "      <td>-17912.00000</td>\n",
       "      <td>-2760.000000</td>\n",
       "      <td>-1213.00000</td>\n",
       "      <td>-289.000000</td>\n",
       "      <td>3.652430e+05</td>\n",
       "      <td>0.000000</td>\n",
       "    </tr>\n",
       "    <tr>\n",
       "      <td>DAYS_REGISTRATION</td>\n",
       "      <td>307511.0</td>\n",
       "      <td>-4986.120328</td>\n",
       "      <td>3522.886321</td>\n",
       "      <td>-24672.00000</td>\n",
       "      <td>-7479.500000</td>\n",
       "      <td>-4504.00000</td>\n",
       "      <td>-2010.000000</td>\n",
       "      <td>0.000000e+00</td>\n",
       "      <td>0.000000</td>\n",
       "    </tr>\n",
       "    <tr>\n",
       "      <td>DAYS_ID_PUBLISH</td>\n",
       "      <td>307511.0</td>\n",
       "      <td>-2994.202373</td>\n",
       "      <td>1509.450419</td>\n",
       "      <td>-7197.00000</td>\n",
       "      <td>-4299.000000</td>\n",
       "      <td>-3254.00000</td>\n",
       "      <td>-1720.000000</td>\n",
       "      <td>0.000000e+00</td>\n",
       "      <td>0.000000</td>\n",
       "    </tr>\n",
       "    <tr>\n",
       "      <td>OCCUPATION_TYPE</td>\n",
       "      <td>307511.0</td>\n",
       "      <td>8.817902</td>\n",
       "      <td>4.210172</td>\n",
       "      <td>0.00000</td>\n",
       "      <td>7.000000</td>\n",
       "      <td>10.00000</td>\n",
       "      <td>10.000000</td>\n",
       "      <td>1.700000e+01</td>\n",
       "      <td>0.000000</td>\n",
       "    </tr>\n",
       "    <tr>\n",
       "      <td>CNT_FAM_MEMBERS</td>\n",
       "      <td>307509.0</td>\n",
       "      <td>2.152665</td>\n",
       "      <td>0.910682</td>\n",
       "      <td>1.00000</td>\n",
       "      <td>2.000000</td>\n",
       "      <td>2.00000</td>\n",
       "      <td>3.000000</td>\n",
       "      <td>2.000000e+01</td>\n",
       "      <td>0.000007</td>\n",
       "    </tr>\n",
       "    <tr>\n",
       "      <td>REGION_RATING_CLIENT</td>\n",
       "      <td>307511.0</td>\n",
       "      <td>2.052463</td>\n",
       "      <td>0.509034</td>\n",
       "      <td>1.00000</td>\n",
       "      <td>2.000000</td>\n",
       "      <td>2.00000</td>\n",
       "      <td>2.000000</td>\n",
       "      <td>3.000000e+00</td>\n",
       "      <td>0.000000</td>\n",
       "    </tr>\n",
       "    <tr>\n",
       "      <td>REGION_RATING_CLIENT_W_CITY</td>\n",
       "      <td>307511.0</td>\n",
       "      <td>2.031521</td>\n",
       "      <td>0.502737</td>\n",
       "      <td>1.00000</td>\n",
       "      <td>2.000000</td>\n",
       "      <td>2.00000</td>\n",
       "      <td>2.000000</td>\n",
       "      <td>3.000000e+00</td>\n",
       "      <td>0.000000</td>\n",
       "    </tr>\n",
       "    <tr>\n",
       "      <td>WEEKDAY_APPR_PROCESS_START</td>\n",
       "      <td>307511.0</td>\n",
       "      <td>3.259770</td>\n",
       "      <td>2.080028</td>\n",
       "      <td>0.00000</td>\n",
       "      <td>1.000000</td>\n",
       "      <td>4.00000</td>\n",
       "      <td>5.000000</td>\n",
       "      <td>6.000000e+00</td>\n",
       "      <td>0.000000</td>\n",
       "    </tr>\n",
       "    <tr>\n",
       "      <td>HOUR_APPR_PROCESS_START</td>\n",
       "      <td>307511.0</td>\n",
       "      <td>12.063419</td>\n",
       "      <td>3.265832</td>\n",
       "      <td>0.00000</td>\n",
       "      <td>10.000000</td>\n",
       "      <td>12.00000</td>\n",
       "      <td>14.000000</td>\n",
       "      <td>2.300000e+01</td>\n",
       "      <td>0.000000</td>\n",
       "    </tr>\n",
       "    <tr>\n",
       "      <td>REG_REGION_NOT_LIVE_REGION</td>\n",
       "      <td>307511.0</td>\n",
       "      <td>0.015144</td>\n",
       "      <td>0.122126</td>\n",
       "      <td>0.00000</td>\n",
       "      <td>0.000000</td>\n",
       "      <td>0.00000</td>\n",
       "      <td>0.000000</td>\n",
       "      <td>1.000000e+00</td>\n",
       "      <td>0.000000</td>\n",
       "    </tr>\n",
       "    <tr>\n",
       "      <td>REG_REGION_NOT_WORK_REGION</td>\n",
       "      <td>307511.0</td>\n",
       "      <td>0.050769</td>\n",
       "      <td>0.219526</td>\n",
       "      <td>0.00000</td>\n",
       "      <td>0.000000</td>\n",
       "      <td>0.00000</td>\n",
       "      <td>0.000000</td>\n",
       "      <td>1.000000e+00</td>\n",
       "      <td>0.000000</td>\n",
       "    </tr>\n",
       "    <tr>\n",
       "      <td>LIVE_REGION_NOT_WORK_REGION</td>\n",
       "      <td>307511.0</td>\n",
       "      <td>0.040659</td>\n",
       "      <td>0.197499</td>\n",
       "      <td>0.00000</td>\n",
       "      <td>0.000000</td>\n",
       "      <td>0.00000</td>\n",
       "      <td>0.000000</td>\n",
       "      <td>1.000000e+00</td>\n",
       "      <td>0.000000</td>\n",
       "    </tr>\n",
       "    <tr>\n",
       "      <td>REG_CITY_NOT_LIVE_CITY</td>\n",
       "      <td>307511.0</td>\n",
       "      <td>0.078173</td>\n",
       "      <td>0.268444</td>\n",
       "      <td>0.00000</td>\n",
       "      <td>0.000000</td>\n",
       "      <td>0.00000</td>\n",
       "      <td>0.000000</td>\n",
       "      <td>1.000000e+00</td>\n",
       "      <td>0.000000</td>\n",
       "    </tr>\n",
       "    <tr>\n",
       "      <td>REG_CITY_NOT_WORK_CITY</td>\n",
       "      <td>307511.0</td>\n",
       "      <td>0.230454</td>\n",
       "      <td>0.421124</td>\n",
       "      <td>0.00000</td>\n",
       "      <td>0.000000</td>\n",
       "      <td>0.00000</td>\n",
       "      <td>0.000000</td>\n",
       "      <td>1.000000e+00</td>\n",
       "      <td>0.000000</td>\n",
       "    </tr>\n",
       "    <tr>\n",
       "      <td>LIVE_CITY_NOT_WORK_CITY</td>\n",
       "      <td>307511.0</td>\n",
       "      <td>0.179555</td>\n",
       "      <td>0.383817</td>\n",
       "      <td>0.00000</td>\n",
       "      <td>0.000000</td>\n",
       "      <td>0.00000</td>\n",
       "      <td>0.000000</td>\n",
       "      <td>1.000000e+00</td>\n",
       "      <td>0.000000</td>\n",
       "    </tr>\n",
       "    <tr>\n",
       "      <td>ORGANIZATION_TYPE</td>\n",
       "      <td>307511.0</td>\n",
       "      <td>30.717578</td>\n",
       "      <td>15.195566</td>\n",
       "      <td>0.00000</td>\n",
       "      <td>13.000000</td>\n",
       "      <td>37.00000</td>\n",
       "      <td>42.000000</td>\n",
       "      <td>5.700000e+01</td>\n",
       "      <td>0.000000</td>\n",
       "    </tr>\n",
       "    <tr>\n",
       "      <td>YEARS_BEGINEXPLUATATION_AVG</td>\n",
       "      <td>157504.0</td>\n",
       "      <td>0.977735</td>\n",
       "      <td>0.059223</td>\n",
       "      <td>0.00000</td>\n",
       "      <td>0.976700</td>\n",
       "      <td>0.98160</td>\n",
       "      <td>0.986600</td>\n",
       "      <td>1.000000e+00</td>\n",
       "      <td>0.487810</td>\n",
       "    </tr>\n",
       "    <tr>\n",
       "      <td>FLOORSMAX_AVG</td>\n",
       "      <td>154491.0</td>\n",
       "      <td>0.226282</td>\n",
       "      <td>0.144641</td>\n",
       "      <td>0.00000</td>\n",
       "      <td>0.166700</td>\n",
       "      <td>0.16670</td>\n",
       "      <td>0.333300</td>\n",
       "      <td>1.000000e+00</td>\n",
       "      <td>0.497608</td>\n",
       "    </tr>\n",
       "    <tr>\n",
       "      <td>YEARS_BEGINEXPLUATATION_MODE</td>\n",
       "      <td>157504.0</td>\n",
       "      <td>0.977065</td>\n",
       "      <td>0.064575</td>\n",
       "      <td>0.00000</td>\n",
       "      <td>0.976700</td>\n",
       "      <td>0.98160</td>\n",
       "      <td>0.986600</td>\n",
       "      <td>1.000000e+00</td>\n",
       "      <td>0.487810</td>\n",
       "    </tr>\n",
       "    <tr>\n",
       "      <td>FLOORSMAX_MODE</td>\n",
       "      <td>154491.0</td>\n",
       "      <td>0.222315</td>\n",
       "      <td>0.143709</td>\n",
       "      <td>0.00000</td>\n",
       "      <td>0.166700</td>\n",
       "      <td>0.16670</td>\n",
       "      <td>0.333300</td>\n",
       "      <td>1.000000e+00</td>\n",
       "      <td>0.497608</td>\n",
       "    </tr>\n",
       "    <tr>\n",
       "      <td>YEARS_BEGINEXPLUATATION_MEDI</td>\n",
       "      <td>157504.0</td>\n",
       "      <td>0.977752</td>\n",
       "      <td>0.059897</td>\n",
       "      <td>0.00000</td>\n",
       "      <td>0.976700</td>\n",
       "      <td>0.98160</td>\n",
       "      <td>0.986600</td>\n",
       "      <td>1.000000e+00</td>\n",
       "      <td>0.487810</td>\n",
       "    </tr>\n",
       "    <tr>\n",
       "      <td>FLOORSMAX_MEDI</td>\n",
       "      <td>154491.0</td>\n",
       "      <td>0.225897</td>\n",
       "      <td>0.145067</td>\n",
       "      <td>0.00000</td>\n",
       "      <td>0.166700</td>\n",
       "      <td>0.16670</td>\n",
       "      <td>0.333300</td>\n",
       "      <td>1.000000e+00</td>\n",
       "      <td>0.497608</td>\n",
       "    </tr>\n",
       "    <tr>\n",
       "      <td>TOTALAREA_MODE</td>\n",
       "      <td>159080.0</td>\n",
       "      <td>0.102547</td>\n",
       "      <td>0.107462</td>\n",
       "      <td>0.00000</td>\n",
       "      <td>0.041200</td>\n",
       "      <td>0.06880</td>\n",
       "      <td>0.127600</td>\n",
       "      <td>1.000000e+00</td>\n",
       "      <td>0.482685</td>\n",
       "    </tr>\n",
       "    <tr>\n",
       "      <td>EMERGENCYSTATE_MODE</td>\n",
       "      <td>307511.0</td>\n",
       "      <td>0.007570</td>\n",
       "      <td>0.086679</td>\n",
       "      <td>0.00000</td>\n",
       "      <td>0.000000</td>\n",
       "      <td>0.00000</td>\n",
       "      <td>0.000000</td>\n",
       "      <td>1.000000e+00</td>\n",
       "      <td>0.000000</td>\n",
       "    </tr>\n",
       "    <tr>\n",
       "      <td>OBS_30_CNT_SOCIAL_CIRCLE</td>\n",
       "      <td>306490.0</td>\n",
       "      <td>1.422245</td>\n",
       "      <td>2.400989</td>\n",
       "      <td>0.00000</td>\n",
       "      <td>0.000000</td>\n",
       "      <td>0.00000</td>\n",
       "      <td>2.000000</td>\n",
       "      <td>3.480000e+02</td>\n",
       "      <td>0.003320</td>\n",
       "    </tr>\n",
       "    <tr>\n",
       "      <td>DEF_30_CNT_SOCIAL_CIRCLE</td>\n",
       "      <td>306490.0</td>\n",
       "      <td>0.143421</td>\n",
       "      <td>0.446698</td>\n",
       "      <td>0.00000</td>\n",
       "      <td>0.000000</td>\n",
       "      <td>0.00000</td>\n",
       "      <td>0.000000</td>\n",
       "      <td>3.400000e+01</td>\n",
       "      <td>0.003320</td>\n",
       "    </tr>\n",
       "    <tr>\n",
       "      <td>OBS_60_CNT_SOCIAL_CIRCLE</td>\n",
       "      <td>306490.0</td>\n",
       "      <td>1.405292</td>\n",
       "      <td>2.379803</td>\n",
       "      <td>0.00000</td>\n",
       "      <td>0.000000</td>\n",
       "      <td>0.00000</td>\n",
       "      <td>2.000000</td>\n",
       "      <td>3.440000e+02</td>\n",
       "      <td>0.003320</td>\n",
       "    </tr>\n",
       "    <tr>\n",
       "      <td>DEF_60_CNT_SOCIAL_CIRCLE</td>\n",
       "      <td>306490.0</td>\n",
       "      <td>0.100049</td>\n",
       "      <td>0.362291</td>\n",
       "      <td>0.00000</td>\n",
       "      <td>0.000000</td>\n",
       "      <td>0.00000</td>\n",
       "      <td>0.000000</td>\n",
       "      <td>2.400000e+01</td>\n",
       "      <td>0.003320</td>\n",
       "    </tr>\n",
       "    <tr>\n",
       "      <td>DAYS_LAST_PHONE_CHANGE</td>\n",
       "      <td>307510.0</td>\n",
       "      <td>-962.858788</td>\n",
       "      <td>826.808487</td>\n",
       "      <td>-4292.00000</td>\n",
       "      <td>-1570.000000</td>\n",
       "      <td>-757.00000</td>\n",
       "      <td>-274.000000</td>\n",
       "      <td>0.000000e+00</td>\n",
       "      <td>0.000003</td>\n",
       "    </tr>\n",
       "    <tr>\n",
       "      <td>FLAG_DOCUMENT_3</td>\n",
       "      <td>307511.0</td>\n",
       "      <td>0.710023</td>\n",
       "      <td>0.453752</td>\n",
       "      <td>0.00000</td>\n",
       "      <td>0.000000</td>\n",
       "      <td>1.00000</td>\n",
       "      <td>1.000000</td>\n",
       "      <td>1.000000e+00</td>\n",
       "      <td>0.000000</td>\n",
       "    </tr>\n",
       "    <tr>\n",
       "      <td>AMT_REQ_CREDIT_BUREAU_HOUR</td>\n",
       "      <td>265992.0</td>\n",
       "      <td>0.006402</td>\n",
       "      <td>0.083849</td>\n",
       "      <td>0.00000</td>\n",
       "      <td>0.000000</td>\n",
       "      <td>0.00000</td>\n",
       "      <td>0.000000</td>\n",
       "      <td>4.000000e+00</td>\n",
       "      <td>0.135016</td>\n",
       "    </tr>\n",
       "    <tr>\n",
       "      <td>AMT_REQ_CREDIT_BUREAU_DAY</td>\n",
       "      <td>265992.0</td>\n",
       "      <td>0.007000</td>\n",
       "      <td>0.110757</td>\n",
       "      <td>0.00000</td>\n",
       "      <td>0.000000</td>\n",
       "      <td>0.00000</td>\n",
       "      <td>0.000000</td>\n",
       "      <td>9.000000e+00</td>\n",
       "      <td>0.135016</td>\n",
       "    </tr>\n",
       "    <tr>\n",
       "      <td>AMT_REQ_CREDIT_BUREAU_WEEK</td>\n",
       "      <td>265992.0</td>\n",
       "      <td>0.034362</td>\n",
       "      <td>0.204685</td>\n",
       "      <td>0.00000</td>\n",
       "      <td>0.000000</td>\n",
       "      <td>0.00000</td>\n",
       "      <td>0.000000</td>\n",
       "      <td>8.000000e+00</td>\n",
       "      <td>0.135016</td>\n",
       "    </tr>\n",
       "    <tr>\n",
       "      <td>AMT_REQ_CREDIT_BUREAU_MON</td>\n",
       "      <td>265992.0</td>\n",
       "      <td>0.267395</td>\n",
       "      <td>0.916002</td>\n",
       "      <td>0.00000</td>\n",
       "      <td>0.000000</td>\n",
       "      <td>0.00000</td>\n",
       "      <td>0.000000</td>\n",
       "      <td>2.700000e+01</td>\n",
       "      <td>0.135016</td>\n",
       "    </tr>\n",
       "    <tr>\n",
       "      <td>AMT_REQ_CREDIT_BUREAU_QRT</td>\n",
       "      <td>265992.0</td>\n",
       "      <td>0.265474</td>\n",
       "      <td>0.794056</td>\n",
       "      <td>0.00000</td>\n",
       "      <td>0.000000</td>\n",
       "      <td>0.00000</td>\n",
       "      <td>0.000000</td>\n",
       "      <td>2.610000e+02</td>\n",
       "      <td>0.135016</td>\n",
       "    </tr>\n",
       "    <tr>\n",
       "      <td>AMT_REQ_CREDIT_BUREAU_YEAR</td>\n",
       "      <td>265992.0</td>\n",
       "      <td>1.899974</td>\n",
       "      <td>1.869295</td>\n",
       "      <td>0.00000</td>\n",
       "      <td>0.000000</td>\n",
       "      <td>1.00000</td>\n",
       "      <td>3.000000</td>\n",
       "      <td>2.500000e+01</td>\n",
       "      <td>0.135016</td>\n",
       "    </tr>\n",
       "  </tbody>\n",
       "</table>\n",
       "</div>"
      ],
      "text/plain": [
       "                                 count           mean            std  \\\n",
       "SK_ID_CURR                    307511.0  278180.518577  102790.175348   \n",
       "TARGET                        307511.0       0.080729       0.272419   \n",
       "NAME_CONTRACT_TYPE            307511.0       0.904787       0.293509   \n",
       "CODE_GENDER                   307511.0       1.341630       0.474284   \n",
       "FLAG_OWN_CAR                  307511.0       0.659892       0.473746   \n",
       "FLAG_OWN_REALTY               307511.0       0.306327       0.460968   \n",
       "CNT_CHILDREN                  307511.0       0.417052       0.722121   \n",
       "AMT_INCOME_TOTAL              307511.0  168797.919297  237123.146279   \n",
       "AMT_CREDIT                    307511.0  599025.999706  402490.776996   \n",
       "AMT_ANNUITY                   307499.0   27108.573909   14493.737315   \n",
       "AMT_GOODS_PRICE               307233.0  538396.207429  369446.460540   \n",
       "NAME_TYPE_SUITE               307511.0       2.693813       0.790592   \n",
       "NAME_INCOME_TYPE              307511.0       4.085564       1.140697   \n",
       "NAME_EDUCATION_TYPE           307511.0       2.490493       0.874544   \n",
       "NAME_FAMILY_STATUS            307511.0       2.597998       1.105255   \n",
       "NAME_HOUSING_TYPE             307511.0       1.276136       0.877304   \n",
       "REGION_POPULATION_RELATIVE    307511.0       0.020868       0.013831   \n",
       "DAYS_BIRTH                    307511.0  -16036.995067    4363.988632   \n",
       "DAYS_EMPLOYED                 307511.0   63815.045904  141275.766519   \n",
       "DAYS_REGISTRATION             307511.0   -4986.120328    3522.886321   \n",
       "DAYS_ID_PUBLISH               307511.0   -2994.202373    1509.450419   \n",
       "OCCUPATION_TYPE               307511.0       8.817902       4.210172   \n",
       "CNT_FAM_MEMBERS               307509.0       2.152665       0.910682   \n",
       "REGION_RATING_CLIENT          307511.0       2.052463       0.509034   \n",
       "REGION_RATING_CLIENT_W_CITY   307511.0       2.031521       0.502737   \n",
       "WEEKDAY_APPR_PROCESS_START    307511.0       3.259770       2.080028   \n",
       "HOUR_APPR_PROCESS_START       307511.0      12.063419       3.265832   \n",
       "REG_REGION_NOT_LIVE_REGION    307511.0       0.015144       0.122126   \n",
       "REG_REGION_NOT_WORK_REGION    307511.0       0.050769       0.219526   \n",
       "LIVE_REGION_NOT_WORK_REGION   307511.0       0.040659       0.197499   \n",
       "REG_CITY_NOT_LIVE_CITY        307511.0       0.078173       0.268444   \n",
       "REG_CITY_NOT_WORK_CITY        307511.0       0.230454       0.421124   \n",
       "LIVE_CITY_NOT_WORK_CITY       307511.0       0.179555       0.383817   \n",
       "ORGANIZATION_TYPE             307511.0      30.717578      15.195566   \n",
       "YEARS_BEGINEXPLUATATION_AVG   157504.0       0.977735       0.059223   \n",
       "FLOORSMAX_AVG                 154491.0       0.226282       0.144641   \n",
       "YEARS_BEGINEXPLUATATION_MODE  157504.0       0.977065       0.064575   \n",
       "FLOORSMAX_MODE                154491.0       0.222315       0.143709   \n",
       "YEARS_BEGINEXPLUATATION_MEDI  157504.0       0.977752       0.059897   \n",
       "FLOORSMAX_MEDI                154491.0       0.225897       0.145067   \n",
       "TOTALAREA_MODE                159080.0       0.102547       0.107462   \n",
       "EMERGENCYSTATE_MODE           307511.0       0.007570       0.086679   \n",
       "OBS_30_CNT_SOCIAL_CIRCLE      306490.0       1.422245       2.400989   \n",
       "DEF_30_CNT_SOCIAL_CIRCLE      306490.0       0.143421       0.446698   \n",
       "OBS_60_CNT_SOCIAL_CIRCLE      306490.0       1.405292       2.379803   \n",
       "DEF_60_CNT_SOCIAL_CIRCLE      306490.0       0.100049       0.362291   \n",
       "DAYS_LAST_PHONE_CHANGE        307510.0    -962.858788     826.808487   \n",
       "FLAG_DOCUMENT_3               307511.0       0.710023       0.453752   \n",
       "AMT_REQ_CREDIT_BUREAU_HOUR    265992.0       0.006402       0.083849   \n",
       "AMT_REQ_CREDIT_BUREAU_DAY     265992.0       0.007000       0.110757   \n",
       "AMT_REQ_CREDIT_BUREAU_WEEK    265992.0       0.034362       0.204685   \n",
       "AMT_REQ_CREDIT_BUREAU_MON     265992.0       0.267395       0.916002   \n",
       "AMT_REQ_CREDIT_BUREAU_QRT     265992.0       0.265474       0.794056   \n",
       "AMT_REQ_CREDIT_BUREAU_YEAR    265992.0       1.899974       1.869295   \n",
       "\n",
       "                                       min            25%           50%  \\\n",
       "SK_ID_CURR                    100002.00000  189145.500000  278202.00000   \n",
       "TARGET                             0.00000       0.000000       0.00000   \n",
       "NAME_CONTRACT_TYPE                 0.00000       1.000000       1.00000   \n",
       "CODE_GENDER                        0.00000       1.000000       1.00000   \n",
       "FLAG_OWN_CAR                       0.00000       0.000000       1.00000   \n",
       "FLAG_OWN_REALTY                    0.00000       0.000000       0.00000   \n",
       "CNT_CHILDREN                       0.00000       0.000000       0.00000   \n",
       "AMT_INCOME_TOTAL               25650.00000  112500.000000  147150.00000   \n",
       "AMT_CREDIT                     45000.00000  270000.000000  513531.00000   \n",
       "AMT_ANNUITY                     1615.50000   16524.000000   24903.00000   \n",
       "AMT_GOODS_PRICE                40500.00000  238500.000000  450000.00000   \n",
       "NAME_TYPE_SUITE                    0.00000       3.000000       3.00000   \n",
       "NAME_INCOME_TYPE                   0.00000       3.000000       5.00000   \n",
       "NAME_EDUCATION_TYPE                0.00000       2.000000       3.00000   \n",
       "NAME_FAMILY_STATUS                 0.00000       2.000000       2.00000   \n",
       "NAME_HOUSING_TYPE                  0.00000       1.000000       1.00000   \n",
       "REGION_POPULATION_RELATIVE         0.00029       0.010006       0.01885   \n",
       "DAYS_BIRTH                    -25229.00000  -19682.000000  -15750.00000   \n",
       "DAYS_EMPLOYED                 -17912.00000   -2760.000000   -1213.00000   \n",
       "DAYS_REGISTRATION             -24672.00000   -7479.500000   -4504.00000   \n",
       "DAYS_ID_PUBLISH                -7197.00000   -4299.000000   -3254.00000   \n",
       "OCCUPATION_TYPE                    0.00000       7.000000      10.00000   \n",
       "CNT_FAM_MEMBERS                    1.00000       2.000000       2.00000   \n",
       "REGION_RATING_CLIENT               1.00000       2.000000       2.00000   \n",
       "REGION_RATING_CLIENT_W_CITY        1.00000       2.000000       2.00000   \n",
       "WEEKDAY_APPR_PROCESS_START         0.00000       1.000000       4.00000   \n",
       "HOUR_APPR_PROCESS_START            0.00000      10.000000      12.00000   \n",
       "REG_REGION_NOT_LIVE_REGION         0.00000       0.000000       0.00000   \n",
       "REG_REGION_NOT_WORK_REGION         0.00000       0.000000       0.00000   \n",
       "LIVE_REGION_NOT_WORK_REGION        0.00000       0.000000       0.00000   \n",
       "REG_CITY_NOT_LIVE_CITY             0.00000       0.000000       0.00000   \n",
       "REG_CITY_NOT_WORK_CITY             0.00000       0.000000       0.00000   \n",
       "LIVE_CITY_NOT_WORK_CITY            0.00000       0.000000       0.00000   \n",
       "ORGANIZATION_TYPE                  0.00000      13.000000      37.00000   \n",
       "YEARS_BEGINEXPLUATATION_AVG        0.00000       0.976700       0.98160   \n",
       "FLOORSMAX_AVG                      0.00000       0.166700       0.16670   \n",
       "YEARS_BEGINEXPLUATATION_MODE       0.00000       0.976700       0.98160   \n",
       "FLOORSMAX_MODE                     0.00000       0.166700       0.16670   \n",
       "YEARS_BEGINEXPLUATATION_MEDI       0.00000       0.976700       0.98160   \n",
       "FLOORSMAX_MEDI                     0.00000       0.166700       0.16670   \n",
       "TOTALAREA_MODE                     0.00000       0.041200       0.06880   \n",
       "EMERGENCYSTATE_MODE                0.00000       0.000000       0.00000   \n",
       "OBS_30_CNT_SOCIAL_CIRCLE           0.00000       0.000000       0.00000   \n",
       "DEF_30_CNT_SOCIAL_CIRCLE           0.00000       0.000000       0.00000   \n",
       "OBS_60_CNT_SOCIAL_CIRCLE           0.00000       0.000000       0.00000   \n",
       "DEF_60_CNT_SOCIAL_CIRCLE           0.00000       0.000000       0.00000   \n",
       "DAYS_LAST_PHONE_CHANGE         -4292.00000   -1570.000000    -757.00000   \n",
       "FLAG_DOCUMENT_3                    0.00000       0.000000       1.00000   \n",
       "AMT_REQ_CREDIT_BUREAU_HOUR         0.00000       0.000000       0.00000   \n",
       "AMT_REQ_CREDIT_BUREAU_DAY          0.00000       0.000000       0.00000   \n",
       "AMT_REQ_CREDIT_BUREAU_WEEK         0.00000       0.000000       0.00000   \n",
       "AMT_REQ_CREDIT_BUREAU_MON          0.00000       0.000000       0.00000   \n",
       "AMT_REQ_CREDIT_BUREAU_QRT          0.00000       0.000000       0.00000   \n",
       "AMT_REQ_CREDIT_BUREAU_YEAR         0.00000       0.000000       1.00000   \n",
       "\n",
       "                                        75%           max  missing_rate  \n",
       "SK_ID_CURR                    367142.500000  4.562550e+05      0.000000  \n",
       "TARGET                             0.000000  1.000000e+00      0.000000  \n",
       "NAME_CONTRACT_TYPE                 1.000000  1.000000e+00      0.000000  \n",
       "CODE_GENDER                        2.000000  2.000000e+00      0.000000  \n",
       "FLAG_OWN_CAR                       1.000000  1.000000e+00      0.000000  \n",
       "FLAG_OWN_REALTY                    1.000000  1.000000e+00      0.000000  \n",
       "CNT_CHILDREN                       1.000000  1.900000e+01      0.000000  \n",
       "AMT_INCOME_TOTAL              202500.000000  1.170000e+08      0.000000  \n",
       "AMT_CREDIT                    808650.000000  4.050000e+06      0.000000  \n",
       "AMT_ANNUITY                    34596.000000  2.580255e+05      0.000039  \n",
       "AMT_GOODS_PRICE               679500.000000  4.050000e+06      0.000904  \n",
       "NAME_TYPE_SUITE                    3.000000  6.000000e+00      0.000000  \n",
       "NAME_INCOME_TYPE                   5.000000  7.000000e+00      0.000000  \n",
       "NAME_EDUCATION_TYPE                3.000000  4.000000e+00      0.000000  \n",
       "NAME_FAMILY_STATUS                 3.000000  5.000000e+00      0.000000  \n",
       "NAME_HOUSING_TYPE                  1.000000  5.000000e+00      0.000000  \n",
       "REGION_POPULATION_RELATIVE         0.028663  7.250800e-02      0.000000  \n",
       "DAYS_BIRTH                    -12413.000000 -7.489000e+03      0.000000  \n",
       "DAYS_EMPLOYED                   -289.000000  3.652430e+05      0.000000  \n",
       "DAYS_REGISTRATION              -2010.000000  0.000000e+00      0.000000  \n",
       "DAYS_ID_PUBLISH                -1720.000000  0.000000e+00      0.000000  \n",
       "OCCUPATION_TYPE                   10.000000  1.700000e+01      0.000000  \n",
       "CNT_FAM_MEMBERS                    3.000000  2.000000e+01      0.000007  \n",
       "REGION_RATING_CLIENT               2.000000  3.000000e+00      0.000000  \n",
       "REGION_RATING_CLIENT_W_CITY        2.000000  3.000000e+00      0.000000  \n",
       "WEEKDAY_APPR_PROCESS_START         5.000000  6.000000e+00      0.000000  \n",
       "HOUR_APPR_PROCESS_START           14.000000  2.300000e+01      0.000000  \n",
       "REG_REGION_NOT_LIVE_REGION         0.000000  1.000000e+00      0.000000  \n",
       "REG_REGION_NOT_WORK_REGION         0.000000  1.000000e+00      0.000000  \n",
       "LIVE_REGION_NOT_WORK_REGION        0.000000  1.000000e+00      0.000000  \n",
       "REG_CITY_NOT_LIVE_CITY             0.000000  1.000000e+00      0.000000  \n",
       "REG_CITY_NOT_WORK_CITY             0.000000  1.000000e+00      0.000000  \n",
       "LIVE_CITY_NOT_WORK_CITY            0.000000  1.000000e+00      0.000000  \n",
       "ORGANIZATION_TYPE                 42.000000  5.700000e+01      0.000000  \n",
       "YEARS_BEGINEXPLUATATION_AVG        0.986600  1.000000e+00      0.487810  \n",
       "FLOORSMAX_AVG                      0.333300  1.000000e+00      0.497608  \n",
       "YEARS_BEGINEXPLUATATION_MODE       0.986600  1.000000e+00      0.487810  \n",
       "FLOORSMAX_MODE                     0.333300  1.000000e+00      0.497608  \n",
       "YEARS_BEGINEXPLUATATION_MEDI       0.986600  1.000000e+00      0.487810  \n",
       "FLOORSMAX_MEDI                     0.333300  1.000000e+00      0.497608  \n",
       "TOTALAREA_MODE                     0.127600  1.000000e+00      0.482685  \n",
       "EMERGENCYSTATE_MODE                0.000000  1.000000e+00      0.000000  \n",
       "OBS_30_CNT_SOCIAL_CIRCLE           2.000000  3.480000e+02      0.003320  \n",
       "DEF_30_CNT_SOCIAL_CIRCLE           0.000000  3.400000e+01      0.003320  \n",
       "OBS_60_CNT_SOCIAL_CIRCLE           2.000000  3.440000e+02      0.003320  \n",
       "DEF_60_CNT_SOCIAL_CIRCLE           0.000000  2.400000e+01      0.003320  \n",
       "DAYS_LAST_PHONE_CHANGE          -274.000000  0.000000e+00      0.000003  \n",
       "FLAG_DOCUMENT_3                    1.000000  1.000000e+00      0.000000  \n",
       "AMT_REQ_CREDIT_BUREAU_HOUR         0.000000  4.000000e+00      0.135016  \n",
       "AMT_REQ_CREDIT_BUREAU_DAY          0.000000  9.000000e+00      0.135016  \n",
       "AMT_REQ_CREDIT_BUREAU_WEEK         0.000000  8.000000e+00      0.135016  \n",
       "AMT_REQ_CREDIT_BUREAU_MON          0.000000  2.700000e+01      0.135016  \n",
       "AMT_REQ_CREDIT_BUREAU_QRT          0.000000  2.610000e+02      0.135016  \n",
       "AMT_REQ_CREDIT_BUREAU_YEAR         3.000000  2.500000e+01      0.135016  "
      ]
     },
     "execution_count": 7,
     "metadata": {},
     "output_type": "execute_result"
    }
   ],
   "source": [
    "data.describe().T.assign(missing_rate = data.apply(lambda x : (len(x)-x.count())/float(len(x))))"
   ]
  },
  {
   "cell_type": "markdown",
   "metadata": {},
   "source": [
    "## 缺失值处理：随机森林"
   ]
  },
  {
   "cell_type": "code",
   "execution_count": 8,
   "metadata": {
    "scrolled": true
   },
   "outputs": [
    {
     "data": {
      "text/plain": [
       "['AMT_ANNUITY',\n",
       " 'AMT_GOODS_PRICE',\n",
       " 'CNT_FAM_MEMBERS',\n",
       " 'YEARS_BEGINEXPLUATATION_AVG',\n",
       " 'FLOORSMAX_AVG',\n",
       " 'YEARS_BEGINEXPLUATATION_MODE',\n",
       " 'FLOORSMAX_MODE',\n",
       " 'YEARS_BEGINEXPLUATATION_MEDI',\n",
       " 'FLOORSMAX_MEDI',\n",
       " 'TOTALAREA_MODE',\n",
       " 'OBS_30_CNT_SOCIAL_CIRCLE',\n",
       " 'DEF_30_CNT_SOCIAL_CIRCLE',\n",
       " 'OBS_60_CNT_SOCIAL_CIRCLE',\n",
       " 'DEF_60_CNT_SOCIAL_CIRCLE',\n",
       " 'DAYS_LAST_PHONE_CHANGE',\n",
       " 'AMT_REQ_CREDIT_BUREAU_HOUR',\n",
       " 'AMT_REQ_CREDIT_BUREAU_DAY',\n",
       " 'AMT_REQ_CREDIT_BUREAU_WEEK',\n",
       " 'AMT_REQ_CREDIT_BUREAU_MON',\n",
       " 'AMT_REQ_CREDIT_BUREAU_QRT',\n",
       " 'AMT_REQ_CREDIT_BUREAU_YEAR']"
      ]
     },
     "execution_count": 8,
     "metadata": {},
     "output_type": "execute_result"
    }
   ],
   "source": [
    "#筛选有缺失值的列\n",
    "missing_col = []\n",
    "for i in data.columns:\n",
    "    if data[i].isnull().any() == True:\n",
    "        missing_col.append(i)\n",
    "missing_col"
   ]
  },
  {
   "cell_type": "code",
   "execution_count": 9,
   "metadata": {
    "scrolled": false
   },
   "outputs": [
    {
     "data": {
      "text/plain": [
       "['CNT_CHILDREN',\n",
       " 'AMT_INCOME_TOTAL',\n",
       " 'AMT_CREDIT',\n",
       " 'REGION_POPULATION_RELATIVE',\n",
       " 'DAYS_BIRTH',\n",
       " 'DAYS_EMPLOYED',\n",
       " 'DAYS_REGISTRATION',\n",
       " 'DAYS_ID_PUBLISH',\n",
       " 'REGION_RATING_CLIENT',\n",
       " 'REGION_RATING_CLIENT_W_CITY',\n",
       " 'HOUR_APPR_PROCESS_START',\n",
       " 'REG_REGION_NOT_LIVE_REGION',\n",
       " 'REG_REGION_NOT_WORK_REGION',\n",
       " 'LIVE_REGION_NOT_WORK_REGION',\n",
       " 'REG_CITY_NOT_LIVE_CITY',\n",
       " 'REG_CITY_NOT_WORK_CITY',\n",
       " 'LIVE_CITY_NOT_WORK_CITY',\n",
       " 'FLAG_DOCUMENT_3']"
      ]
     },
     "execution_count": 9,
     "metadata": {},
     "output_type": "execute_result"
    }
   ],
   "source": [
    "#筛选未缺失的列\n",
    "not_missing_col = []\n",
    "for i in data.columns:\n",
    "    if i not in ['NAME_CONTRACT_TYPE','CODE_GENDER','FLAG_OWN_CAR','FLAG_OWN_REALTY','NAME_TYPE_SUITE',\n",
    "                 'NAME_INCOME_TYPE','NAME_EDUCATION_TYPE','NAME_FAMILY_STATUS','NAME_HOUSING_TYPE','OCCUPATION_TYPE',\n",
    "                 'WEEKDAY_APPR_PROCESS_START','ORGANIZATION_TYPE','EMERGENCYSTATE_MODE','AMT_ANNUITY','AMT_GOODS_PRICE',\n",
    "                 'CNT_FAM_MEMBERS','YEARS_BEGINEXPLUATATION_AVG','FLOORSMAX_AVG','YEARS_BEGINEXPLUATATION_MODE','FLOORSMAX_MODE',\n",
    "                 'YEARS_BEGINEXPLUATATION_MEDI','FLOORSMAX_MEDI','TOTALAREA_MODE','OBS_30_CNT_SOCIAL_CIRCLE','DEF_30_CNT_SOCIAL_CIRCLE',\n",
    "                 'OBS_60_CNT_SOCIAL_CIRCLE','DEF_60_CNT_SOCIAL_CIRCLE','DAYS_LAST_PHONE_CHANGE','AMT_REQ_CREDIT_BUREAU_HOUR',\n",
    "                 'AMT_REQ_CREDIT_BUREAU_DAY','AMT_REQ_CREDIT_BUREAU_WEEK','AMT_REQ_CREDIT_BUREAU_MON','AMT_REQ_CREDIT_BUREAU_QRT',\n",
    "                 'AMT_REQ_CREDIT_BUREAU_YEAR']:\n",
    "        not_missing_col.append(i)\n",
    "not_missing_col.remove('SK_ID_CURR')\n",
    "not_missing_col.remove('TARGET')\n",
    "not_missing_col"
   ]
  },
  {
   "cell_type": "markdown",
   "metadata": {},
   "source": [
    "#根据未缺失的填补缺失的"
   ]
  },
  {
   "cell_type": "code",
   "execution_count": 10,
   "metadata": {},
   "outputs": [
    {
     "name": "stderr",
     "output_type": "stream",
     "text": [
      "D:\\Anaconda3\\lib\\site-packages\\ipykernel_launcher.py:8: FutureWarning: Method .as_matrix will be removed in a future version. Use .values instead.\n",
      "  \n",
      "D:\\Anaconda3\\lib\\site-packages\\ipykernel_launcher.py:9: FutureWarning: Method .as_matrix will be removed in a future version. Use .values instead.\n",
      "  if __name__ == '__main__':\n"
     ]
    },
    {
     "name": "stdout",
     "output_type": "stream",
     "text": [
      "预测值：  [24209. 24209. 34489. 18557. 18923. 14524. 10065. 34489. 28429. 34489.\n",
      " 28399. 42989.]\n"
     ]
    }
   ],
   "source": [
    "#决策树填充'AMT_ANNUITY'\n",
    "from sklearn.ensemble import RandomForestRegressor\n",
    "# 用随机森林对缺失值预测填充函数\n",
    "def set_missing(df):\n",
    "    # 已把全部变量转换为数值型\n",
    "    process_df = df[['AMT_ANNUITY'] + not_missing_col]\n",
    "    # 分成已知该特征和未知该特征两部分\n",
    "    known = process_df[process_df.AMT_ANNUITY.notnull()].as_matrix()\n",
    "    unknown = process_df[process_df.AMT_ANNUITY.isnull()].as_matrix()\n",
    "    # X为特征属性值\n",
    "    X = known[:, 1:]\n",
    "    # y为结果标签值\n",
    "    y = known[:, 0]\n",
    "    # fit到RandomForestRegressor之中\n",
    "    rfr = RandomForestRegressor(random_state=0, n_estimators=200, max_depth=3, n_jobs=-1)\n",
    "    rfr.fit(X, y)\n",
    "    # 用得到的模型进行未知特征值预测\n",
    "    predicted = rfr.predict(unknown[:, 1:]).round(0)\n",
    "    print(\"预测值： \", predicted)\n",
    "    # 用得到的预测结果填补原缺失数据\n",
    "    df.loc[(df.AMT_ANNUITY.isnull()), 'AMT_ANNUITY'] = predicted\n",
    "    return df\n",
    "data = set_missing(data)"
   ]
  },
  {
   "cell_type": "code",
   "execution_count": 11,
   "metadata": {
    "scrolled": true
   },
   "outputs": [
    {
     "name": "stderr",
     "output_type": "stream",
     "text": [
      "D:\\Anaconda3\\lib\\site-packages\\ipykernel_launcher.py:8: FutureWarning: Method .as_matrix will be removed in a future version. Use .values instead.\n",
      "  \n",
      "D:\\Anaconda3\\lib\\site-packages\\ipykernel_launcher.py:9: FutureWarning: Method .as_matrix will be removed in a future version. Use .values instead.\n",
      "  if __name__ == '__main__':\n"
     ]
    },
    {
     "name": "stdout",
     "output_type": "stream",
     "text": [
      "预测值：  [ 139403.  471628.  139403.  139403.  471628.  252914.  139403.  252914.\n",
      "  139403.  471628.  252914.  252914.  139403.  139403.  139403.  252914.\n",
      "  681369.  139403.  252914.  471628.  139403.  471628.  252914.  252914.\n",
      "  360735.  471628.  139403.  139403.  139403.  360735. 1181166.  139403.\n",
      "  139403.  681369.  139403. 1181166.  139403.  139403.  252914.  252914.\n",
      "  252914.  252914.  139403.  682345.  252914.  139403.  139403.  139403.\n",
      "  139403.  139403.  681369.  139403.  139403.  252914.  139403.  139403.\n",
      "  139403.  252914.  139403.  252914.  252914.  252914.  681369.  139403.\n",
      "  252914.  139403.  360735.  252914.  252914.  252914.  139403.  252914.\n",
      "  139403.  139403.  252914.  360735.  252914.  139403.  139403.  139403.\n",
      "  139403.  139403.  360735.  139403.  139403.  139403.  139403.  139403.\n",
      "  139403.  252914.  360735. 1179756.  252914.  139403.  252914.  360735.\n",
      "  360735.  139403.  139403.  139403.  139403.  252914.  139403.  681369.\n",
      "  139403.  139403.  471628.  360735.  471628.  139403.  252914.  252914.\n",
      "  139403.  252914.  139403.  471628.  139403.  139403.  252914.  139403.\n",
      "  139403.  252914.  139403.  139403.  252914.  252914.  252914.  252914.\n",
      "  252914.  139403.  139403.  139403.  882451.  681369.  360735.  139403.\n",
      "  252914.  252914.  139403.  139403.  139403.  252914.  252914.  252914.\n",
      "  252914.  139403.  139403.  139403.  252914.  471628.  139403.  139403.\n",
      "  471628.  139403.  139403.  139403.  139403.  139403.  252914.  252914.\n",
      "  252914.  252914.  252914.  681369.  252914.  139403.  253963.  252914.\n",
      "  682345.  252914.  139403.  252914.  139403.  139403.  252914.  139403.\n",
      "  139403.  360735.  139403.  139403.  139403.  139403.  252914.  252914.\n",
      "  252914.  139403.  252914.  139403.  252914.  471628.  252914.  252914.\n",
      "  252914.  139403.  139403.  252914.  139403.  139403.  139403.  360735.\n",
      "  139403.  139403.  252914.  139403.  139403.  139403.  139403.  252914.\n",
      "  252914.  139403.  139403.  252914.  252914.  139403.  139403.  252914.\n",
      "  252914.  252914.  252914.  252914.  139403.  252914.  252914.  139403.\n",
      "  139403.  252914.  139403.  471628.  139403. 1181166.  252914.  139403.\n",
      "  139403.  139403.  139403.  252914.  681369.  252914.  139403.  252914.\n",
      "  252914.  252914.  139403.  139403.  139403.  139403.  252914.  139403.\n",
      "  139403.  139403.  252914.  471628.  139403.  139403.  360735.  252914.\n",
      "  139403.  252914.  139403.  252914.  139403.  139403.  681369.  252914.\n",
      "  139403.  139403.  252914.  139403.  681369.  252914.  139403.  139403.\n",
      "  252914.  139403.  252914.  252914.  252914.  139403.]\n"
     ]
    }
   ],
   "source": [
    "#决策树填充'AMT_GOODS_PRICE'\n",
    "from sklearn.ensemble import RandomForestRegressor\n",
    "# 用随机森林对缺失值预测填充函数\n",
    "def set_missing(df):\n",
    "    # 已把全部变量转换为数值型\n",
    "    process_df = df[['AMT_GOODS_PRICE'] + not_missing_col]\n",
    "    # 分成已知该特征和未知该特征两部分\n",
    "    known = process_df[process_df.AMT_GOODS_PRICE.notnull()].as_matrix()\n",
    "    unknown = process_df[process_df.AMT_GOODS_PRICE.isnull()].as_matrix()\n",
    "    # X为特征属性值\n",
    "    X = known[:, 1:]\n",
    "    # y为结果标签值\n",
    "    y = known[:, 0]\n",
    "    # fit到RandomForestRegressor之中\n",
    "    rfr = RandomForestRegressor(random_state=0, n_estimators=200, max_depth=3, n_jobs=-1)\n",
    "    rfr.fit(X, y)\n",
    "    # 用得到的模型进行未知特征值预测\n",
    "    predicted = rfr.predict(unknown[:, 1:]).round(0)\n",
    "    print(\"预测值： \", predicted)\n",
    "    # 用得到的预测结果填补原缺失数据\n",
    "    df.loc[(df.AMT_GOODS_PRICE.isnull()), 'AMT_GOODS_PRICE'] = predicted\n",
    "    return df\n",
    "data = set_missing(data)"
   ]
  },
  {
   "cell_type": "code",
   "execution_count": 12,
   "metadata": {},
   "outputs": [
    {
     "name": "stderr",
     "output_type": "stream",
     "text": [
      "D:\\Anaconda3\\lib\\site-packages\\ipykernel_launcher.py:8: FutureWarning: Method .as_matrix will be removed in a future version. Use .values instead.\n",
      "  \n",
      "D:\\Anaconda3\\lib\\site-packages\\ipykernel_launcher.py:9: FutureWarning: Method .as_matrix will be removed in a future version. Use .values instead.\n",
      "  if __name__ == '__main__':\n"
     ]
    },
    {
     "name": "stdout",
     "output_type": "stream",
     "text": [
      "预测值：  [2. 2.]\n"
     ]
    }
   ],
   "source": [
    "#决策树填充'CNT_FAM_MEMBERS'\n",
    "from sklearn.ensemble import RandomForestRegressor\n",
    "# 用随机森林对缺失值预测填充函数\n",
    "def set_missing(df):\n",
    "    # 已把全部变量转换为数值型\n",
    "    process_df = df[['CNT_FAM_MEMBERS'] + not_missing_col]\n",
    "    # 分成已知该特征和未知该特征两部分\n",
    "    known = process_df[process_df.CNT_FAM_MEMBERS.notnull()].as_matrix()\n",
    "    unknown = process_df[process_df.CNT_FAM_MEMBERS.isnull()].as_matrix()\n",
    "    # X为特征属性值\n",
    "    X = known[:, 1:]\n",
    "    # y为结果标签值\n",
    "    y = known[:, 0]\n",
    "    # fit到RandomForestRegressor之中\n",
    "    rfr = RandomForestRegressor(random_state=0, n_estimators=200, max_depth=3, n_jobs=-1)\n",
    "    rfr.fit(X, y)\n",
    "    # 用得到的模型进行未知特征值预测\n",
    "    predicted = rfr.predict(unknown[:, 1:]).round(0)\n",
    "    print(\"预测值： \", predicted)\n",
    "    # 用得到的预测结果填补原缺失数据\n",
    "    df.loc[(df.CNT_FAM_MEMBERS.isnull()), 'CNT_FAM_MEMBERS'] = predicted\n",
    "    return df\n",
    "data = set_missing(data)"
   ]
  },
  {
   "cell_type": "code",
   "execution_count": 13,
   "metadata": {},
   "outputs": [
    {
     "name": "stderr",
     "output_type": "stream",
     "text": [
      "D:\\Anaconda3\\lib\\site-packages\\ipykernel_launcher.py:8: FutureWarning: Method .as_matrix will be removed in a future version. Use .values instead.\n",
      "  \n",
      "D:\\Anaconda3\\lib\\site-packages\\ipykernel_launcher.py:9: FutureWarning: Method .as_matrix will be removed in a future version. Use .values instead.\n",
      "  if __name__ == '__main__':\n"
     ]
    },
    {
     "name": "stdout",
     "output_type": "stream",
     "text": [
      "预测值：  [1. 1. 1. ... 1. 1. 1.]\n"
     ]
    }
   ],
   "source": [
    "#决策树填充'YEARS_BEGINEXPLUATATION_AVG'\n",
    "from sklearn.ensemble import RandomForestRegressor\n",
    "# 用随机森林对缺失值预测填充函数\n",
    "def set_missing(df):\n",
    "    # 已把全部变量转换为数值型\n",
    "    process_df = df[['YEARS_BEGINEXPLUATATION_AVG'] + not_missing_col]\n",
    "    # 分成已知该特征和未知该特征两部分\n",
    "    known = process_df[process_df.YEARS_BEGINEXPLUATATION_AVG.notnull()].as_matrix()\n",
    "    unknown = process_df[process_df.YEARS_BEGINEXPLUATATION_AVG.isnull()].as_matrix()\n",
    "    # X为特征属性值\n",
    "    X = known[:, 1:]\n",
    "    # y为结果标签值\n",
    "    y = known[:, 0]\n",
    "    # fit到RandomForestRegressor之中\n",
    "    rfr = RandomForestRegressor(random_state=0, n_estimators=200, max_depth=3, n_jobs=-1)\n",
    "    rfr.fit(X, y)\n",
    "    # 用得到的模型进行未知特征值预测\n",
    "    predicted = rfr.predict(unknown[:, 1:]).round(0)\n",
    "    print(\"预测值： \", predicted)\n",
    "    # 用得到的预测结果填补原缺失数据\n",
    "    df.loc[(df.YEARS_BEGINEXPLUATATION_AVG.isnull()), 'YEARS_BEGINEXPLUATATION_AVG'] = predicted\n",
    "    return df\n",
    "data = set_missing(data)"
   ]
  },
  {
   "cell_type": "code",
   "execution_count": 14,
   "metadata": {},
   "outputs": [
    {
     "name": "stderr",
     "output_type": "stream",
     "text": [
      "D:\\Anaconda3\\lib\\site-packages\\ipykernel_launcher.py:8: FutureWarning: Method .as_matrix will be removed in a future version. Use .values instead.\n",
      "  \n",
      "D:\\Anaconda3\\lib\\site-packages\\ipykernel_launcher.py:9: FutureWarning: Method .as_matrix will be removed in a future version. Use .values instead.\n",
      "  if __name__ == '__main__':\n"
     ]
    },
    {
     "name": "stdout",
     "output_type": "stream",
     "text": [
      "预测值：  [0. 0. 0. ... 0. 0. 0.]\n"
     ]
    }
   ],
   "source": [
    "#决策树填充'FLOORSMAX_AVG'\n",
    "from sklearn.ensemble import RandomForestRegressor\n",
    "# 用随机森林对缺失值预测填充函数\n",
    "def set_missing(df):\n",
    "    # 已把全部变量转换为数值型\n",
    "    process_df = df[['FLOORSMAX_AVG'] + not_missing_col]\n",
    "    # 分成已知该特征和未知该特征两部分\n",
    "    known = process_df[process_df.FLOORSMAX_AVG.notnull()].as_matrix()\n",
    "    unknown = process_df[process_df.FLOORSMAX_AVG.isnull()].as_matrix()\n",
    "    # X为特征属性值\n",
    "    X = known[:, 1:]\n",
    "    # y为结果标签值\n",
    "    y = known[:, 0]\n",
    "    # fit到RandomForestRegressor之中\n",
    "    rfr = RandomForestRegressor(random_state=0, n_estimators=200, max_depth=3, n_jobs=-1)\n",
    "    rfr.fit(X, y)\n",
    "    # 用得到的模型进行未知特征值预测\n",
    "    predicted = rfr.predict(unknown[:, 1:]).round(0)\n",
    "    print(\"预测值： \", predicted)\n",
    "    # 用得到的预测结果填补原缺失数据\n",
    "    df.loc[(df.FLOORSMAX_AVG.isnull()), 'FLOORSMAX_AVG'] = predicted\n",
    "    return df\n",
    "data = set_missing(data)"
   ]
  },
  {
   "cell_type": "code",
   "execution_count": 15,
   "metadata": {},
   "outputs": [
    {
     "name": "stderr",
     "output_type": "stream",
     "text": [
      "D:\\Anaconda3\\lib\\site-packages\\ipykernel_launcher.py:8: FutureWarning: Method .as_matrix will be removed in a future version. Use .values instead.\n",
      "  \n",
      "D:\\Anaconda3\\lib\\site-packages\\ipykernel_launcher.py:9: FutureWarning: Method .as_matrix will be removed in a future version. Use .values instead.\n",
      "  if __name__ == '__main__':\n"
     ]
    },
    {
     "name": "stdout",
     "output_type": "stream",
     "text": [
      "预测值：  [1. 1. 1. ... 1. 1. 1.]\n"
     ]
    }
   ],
   "source": [
    "#决策树填充'YEARS_BEGINEXPLUATATION_MODE'\n",
    "from sklearn.ensemble import RandomForestRegressor\n",
    "# 用随机森林对缺失值预测填充函数\n",
    "def set_missing(df):\n",
    "    # 已把全部变量转换为数值型\n",
    "    process_df = df[['YEARS_BEGINEXPLUATATION_MODE'] + not_missing_col]\n",
    "    # 分成已知该特征和未知该特征两部分\n",
    "    known = process_df[process_df.YEARS_BEGINEXPLUATATION_MODE.notnull()].as_matrix()\n",
    "    unknown = process_df[process_df.YEARS_BEGINEXPLUATATION_MODE.isnull()].as_matrix()\n",
    "    # X为特征属性值\n",
    "    X = known[:, 1:]\n",
    "    # y为结果标签值\n",
    "    y = known[:, 0]\n",
    "    # fit到RandomForestRegressor之中\n",
    "    rfr = RandomForestRegressor(random_state=0, n_estimators=200, max_depth=3, n_jobs=-1)\n",
    "    rfr.fit(X, y)\n",
    "    # 用得到的模型进行未知特征值预测\n",
    "    predicted = rfr.predict(unknown[:, 1:]).round(0)\n",
    "    print(\"预测值： \", predicted)\n",
    "    # 用得到的预测结果填补原缺失数据\n",
    "    df.loc[(df.YEARS_BEGINEXPLUATATION_MODE.isnull()), 'YEARS_BEGINEXPLUATATION_MODE'] = predicted\n",
    "    return df\n",
    "data = set_missing(data)"
   ]
  },
  {
   "cell_type": "code",
   "execution_count": 16,
   "metadata": {},
   "outputs": [
    {
     "name": "stderr",
     "output_type": "stream",
     "text": [
      "D:\\Anaconda3\\lib\\site-packages\\ipykernel_launcher.py:8: FutureWarning: Method .as_matrix will be removed in a future version. Use .values instead.\n",
      "  \n",
      "D:\\Anaconda3\\lib\\site-packages\\ipykernel_launcher.py:9: FutureWarning: Method .as_matrix will be removed in a future version. Use .values instead.\n",
      "  if __name__ == '__main__':\n"
     ]
    },
    {
     "name": "stdout",
     "output_type": "stream",
     "text": [
      "预测值：  [0. 0. 0. ... 0. 0. 0.]\n"
     ]
    }
   ],
   "source": [
    "#决策树填充'FLOORSMAX_MODE'\n",
    "from sklearn.ensemble import RandomForestRegressor\n",
    "# 用随机森林对缺失值预测填充函数\n",
    "def set_missing(df):\n",
    "    # 已把全部变量转换为数值型\n",
    "    process_df = df[['FLOORSMAX_MODE'] + not_missing_col]\n",
    "    # 分成已知该特征和未知该特征两部分\n",
    "    known = process_df[process_df.FLOORSMAX_MODE.notnull()].as_matrix()\n",
    "    unknown = process_df[process_df.FLOORSMAX_MODE.isnull()].as_matrix()\n",
    "    # X为特征属性值\n",
    "    X = known[:, 1:]\n",
    "    # y为结果标签值\n",
    "    y = known[:, 0]\n",
    "    # fit到RandomForestRegressor之中\n",
    "    rfr = RandomForestRegressor(random_state=0, n_estimators=200, max_depth=3, n_jobs=-1)\n",
    "    rfr.fit(X, y)\n",
    "    # 用得到的模型进行未知特征值预测\n",
    "    predicted = rfr.predict(unknown[:, 1:]).round(0)\n",
    "    print(\"预测值： \", predicted)\n",
    "    # 用得到的预测结果填补原缺失数据\n",
    "    df.loc[(df.FLOORSMAX_MODE.isnull()), 'FLOORSMAX_MODE'] = predicted\n",
    "    return df\n",
    "data = set_missing(data)"
   ]
  },
  {
   "cell_type": "code",
   "execution_count": 17,
   "metadata": {},
   "outputs": [
    {
     "name": "stderr",
     "output_type": "stream",
     "text": [
      "D:\\Anaconda3\\lib\\site-packages\\ipykernel_launcher.py:8: FutureWarning: Method .as_matrix will be removed in a future version. Use .values instead.\n",
      "  \n",
      "D:\\Anaconda3\\lib\\site-packages\\ipykernel_launcher.py:9: FutureWarning: Method .as_matrix will be removed in a future version. Use .values instead.\n",
      "  if __name__ == '__main__':\n"
     ]
    },
    {
     "name": "stdout",
     "output_type": "stream",
     "text": [
      "预测值：  [1. 1. 1. ... 1. 1. 1.]\n"
     ]
    }
   ],
   "source": [
    "#决策树填充'YEARS_BEGINEXPLUATATION_MEDI'\n",
    "from sklearn.ensemble import RandomForestRegressor\n",
    "# 用随机森林对缺失值预测填充函数\n",
    "def set_missing(df):\n",
    "    # 已把全部变量转换为数值型\n",
    "    process_df = df[['YEARS_BEGINEXPLUATATION_MEDI'] + not_missing_col]\n",
    "    # 分成已知该特征和未知该特征两部分\n",
    "    known = process_df[process_df.YEARS_BEGINEXPLUATATION_MEDI.notnull()].as_matrix()\n",
    "    unknown = process_df[process_df.YEARS_BEGINEXPLUATATION_MEDI.isnull()].as_matrix()\n",
    "    # X为特征属性值\n",
    "    X = known[:, 1:]\n",
    "    # y为结果标签值\n",
    "    y = known[:, 0]\n",
    "    # fit到RandomForestRegressor之中\n",
    "    rfr = RandomForestRegressor(random_state=0, n_estimators=200, max_depth=3, n_jobs=-1)\n",
    "    rfr.fit(X, y)\n",
    "    # 用得到的模型进行未知特征值预测\n",
    "    predicted = rfr.predict(unknown[:, 1:]).round(0)\n",
    "    print(\"预测值： \", predicted)\n",
    "    # 用得到的预测结果填补原缺失数据\n",
    "    df.loc[(df.YEARS_BEGINEXPLUATATION_MEDI.isnull()), 'YEARS_BEGINEXPLUATATION_MEDI'] = predicted\n",
    "    return df\n",
    "data = set_missing(data)"
   ]
  },
  {
   "cell_type": "code",
   "execution_count": 18,
   "metadata": {},
   "outputs": [
    {
     "name": "stderr",
     "output_type": "stream",
     "text": [
      "D:\\Anaconda3\\lib\\site-packages\\ipykernel_launcher.py:8: FutureWarning: Method .as_matrix will be removed in a future version. Use .values instead.\n",
      "  \n",
      "D:\\Anaconda3\\lib\\site-packages\\ipykernel_launcher.py:9: FutureWarning: Method .as_matrix will be removed in a future version. Use .values instead.\n",
      "  if __name__ == '__main__':\n"
     ]
    },
    {
     "name": "stdout",
     "output_type": "stream",
     "text": [
      "预测值：  [0. 0. 0. ... 0. 0. 0.]\n"
     ]
    }
   ],
   "source": [
    "#决策树填充'FLOORSMAX_MEDI'\n",
    "from sklearn.ensemble import RandomForestRegressor\n",
    "# 用随机森林对缺失值预测填充函数\n",
    "def set_missing(df):\n",
    "    # 已把全部变量转换为数值型\n",
    "    process_df = df[['FLOORSMAX_MEDI'] + not_missing_col]\n",
    "    # 分成已知该特征和未知该特征两部分\n",
    "    known = process_df[process_df.FLOORSMAX_MEDI.notnull()].as_matrix()\n",
    "    unknown = process_df[process_df.FLOORSMAX_MEDI.isnull()].as_matrix()\n",
    "    # X为特征属性值\n",
    "    X = known[:, 1:]\n",
    "    # y为结果标签值\n",
    "    y = known[:, 0]\n",
    "    # fit到RandomForestRegressor之中\n",
    "    rfr = RandomForestRegressor(random_state=0, n_estimators=200, max_depth=3, n_jobs=-1)\n",
    "    rfr.fit(X, y)\n",
    "    # 用得到的模型进行未知特征值预测\n",
    "    predicted = rfr.predict(unknown[:, 1:]).round(0)\n",
    "    print(\"预测值： \", predicted)\n",
    "    # 用得到的预测结果填补原缺失数据\n",
    "    df.loc[(df.FLOORSMAX_MEDI.isnull()), 'FLOORSMAX_MEDI'] = predicted\n",
    "    return df\n",
    "data = set_missing(data)"
   ]
  },
  {
   "cell_type": "code",
   "execution_count": 19,
   "metadata": {},
   "outputs": [
    {
     "name": "stderr",
     "output_type": "stream",
     "text": [
      "D:\\Anaconda3\\lib\\site-packages\\ipykernel_launcher.py:8: FutureWarning: Method .as_matrix will be removed in a future version. Use .values instead.\n",
      "  \n",
      "D:\\Anaconda3\\lib\\site-packages\\ipykernel_launcher.py:9: FutureWarning: Method .as_matrix will be removed in a future version. Use .values instead.\n",
      "  if __name__ == '__main__':\n"
     ]
    },
    {
     "name": "stdout",
     "output_type": "stream",
     "text": [
      "预测值：  [0. 0. 0. ... 0. 0. 0.]\n"
     ]
    }
   ],
   "source": [
    "#决策树填充'TOTALAREA_MODE'\n",
    "from sklearn.ensemble import RandomForestRegressor\n",
    "# 用随机森林对缺失值预测填充函数\n",
    "def set_missing(df):\n",
    "    # 已把全部变量转换为数值型\n",
    "    process_df = df[['TOTALAREA_MODE'] + not_missing_col]\n",
    "    # 分成已知该特征和未知该特征两部分\n",
    "    known = process_df[process_df.TOTALAREA_MODE.notnull()].as_matrix()\n",
    "    unknown = process_df[process_df.TOTALAREA_MODE.isnull()].as_matrix()\n",
    "    # X为特征属性值\n",
    "    X = known[:, 1:]\n",
    "    # y为结果标签值\n",
    "    y = known[:, 0]\n",
    "    # fit到RandomForestRegressor之中\n",
    "    rfr = RandomForestRegressor(random_state=0, n_estimators=200, max_depth=3, n_jobs=-1)\n",
    "    rfr.fit(X, y)\n",
    "    # 用得到的模型进行未知特征值预测\n",
    "    predicted = rfr.predict(unknown[:, 1:]).round(0)\n",
    "    print(\"预测值： \", predicted)\n",
    "    # 用得到的预测结果填补原缺失数据\n",
    "    df.loc[(df.TOTALAREA_MODE.isnull()), 'TOTALAREA_MODE'] = predicted\n",
    "    return df\n",
    "data = set_missing(data)"
   ]
  },
  {
   "cell_type": "code",
   "execution_count": 20,
   "metadata": {},
   "outputs": [
    {
     "name": "stderr",
     "output_type": "stream",
     "text": [
      "D:\\Anaconda3\\lib\\site-packages\\ipykernel_launcher.py:8: FutureWarning: Method .as_matrix will be removed in a future version. Use .values instead.\n",
      "  \n",
      "D:\\Anaconda3\\lib\\site-packages\\ipykernel_launcher.py:9: FutureWarning: Method .as_matrix will be removed in a future version. Use .values instead.\n",
      "  if __name__ == '__main__':\n"
     ]
    },
    {
     "name": "stdout",
     "output_type": "stream",
     "text": [
      "预测值：  [1. 1. 1. ... 1. 2. 2.]\n"
     ]
    }
   ],
   "source": [
    "#决策树填充'OBS_30_CNT_SOCIAL_CIRCLE'\n",
    "from sklearn.ensemble import RandomForestRegressor\n",
    "# 用随机森林对缺失值预测填充函数\n",
    "def set_missing(df):\n",
    "    # 已把全部变量转换为数值型\n",
    "    process_df = df[['OBS_30_CNT_SOCIAL_CIRCLE'] + not_missing_col]\n",
    "    # 分成已知该特征和未知该特征两部分\n",
    "    known = process_df[process_df.OBS_30_CNT_SOCIAL_CIRCLE.notnull()].as_matrix()\n",
    "    unknown = process_df[process_df.OBS_30_CNT_SOCIAL_CIRCLE.isnull()].as_matrix()\n",
    "    # X为特征属性值\n",
    "    X = known[:, 1:]\n",
    "    # y为结果标签值\n",
    "    y = known[:, 0]\n",
    "    # fit到RandomForestRegressor之中\n",
    "    rfr = RandomForestRegressor(random_state=0, n_estimators=200, max_depth=3, n_jobs=-1)\n",
    "    rfr.fit(X, y)\n",
    "    # 用得到的模型进行未知特征值预测\n",
    "    predicted = rfr.predict(unknown[:, 1:]).round(0)\n",
    "    print(\"预测值： \", predicted)\n",
    "    # 用得到的预测结果填补原缺失数据\n",
    "    df.loc[(df.OBS_30_CNT_SOCIAL_CIRCLE.isnull()), 'OBS_30_CNT_SOCIAL_CIRCLE'] = predicted\n",
    "    return df\n",
    "data = set_missing(data)"
   ]
  },
  {
   "cell_type": "code",
   "execution_count": 21,
   "metadata": {},
   "outputs": [
    {
     "name": "stderr",
     "output_type": "stream",
     "text": [
      "D:\\Anaconda3\\lib\\site-packages\\ipykernel_launcher.py:8: FutureWarning: Method .as_matrix will be removed in a future version. Use .values instead.\n",
      "  \n",
      "D:\\Anaconda3\\lib\\site-packages\\ipykernel_launcher.py:9: FutureWarning: Method .as_matrix will be removed in a future version. Use .values instead.\n",
      "  if __name__ == '__main__':\n"
     ]
    },
    {
     "name": "stdout",
     "output_type": "stream",
     "text": [
      "预测值：  [0. 0. 0. ... 0. 0. 0.]\n"
     ]
    }
   ],
   "source": [
    "#决策树填充'DEF_30_CNT_SOCIAL_CIRCLE'\n",
    "from sklearn.ensemble import RandomForestRegressor\n",
    "# 用随机森林对缺失值预测填充函数\n",
    "def set_missing(df):\n",
    "    # 已把全部变量转换为数值型\n",
    "    process_df = df[['DEF_30_CNT_SOCIAL_CIRCLE'] + not_missing_col]\n",
    "    # 分成已知该特征和未知该特征两部分\n",
    "    known = process_df[process_df.DEF_30_CNT_SOCIAL_CIRCLE.notnull()].as_matrix()\n",
    "    unknown = process_df[process_df.DEF_30_CNT_SOCIAL_CIRCLE.isnull()].as_matrix()\n",
    "    # X为特征属性值\n",
    "    X = known[:, 1:]\n",
    "    # y为结果标签值\n",
    "    y = known[:, 0]\n",
    "    # fit到RandomForestRegressor之中\n",
    "    rfr = RandomForestRegressor(random_state=0, n_estimators=200, max_depth=3, n_jobs=-1)\n",
    "    rfr.fit(X, y)\n",
    "    # 用得到的模型进行未知特征值预测\n",
    "    predicted = rfr.predict(unknown[:, 1:]).round(0)\n",
    "    print(\"预测值： \", predicted)\n",
    "    # 用得到的预测结果填补原缺失数据\n",
    "    df.loc[(df.DEF_30_CNT_SOCIAL_CIRCLE.isnull()), 'DEF_30_CNT_SOCIAL_CIRCLE'] = predicted\n",
    "    return df\n",
    "data = set_missing(data)"
   ]
  },
  {
   "cell_type": "code",
   "execution_count": 22,
   "metadata": {},
   "outputs": [
    {
     "name": "stderr",
     "output_type": "stream",
     "text": [
      "D:\\Anaconda3\\lib\\site-packages\\ipykernel_launcher.py:8: FutureWarning: Method .as_matrix will be removed in a future version. Use .values instead.\n",
      "  \n",
      "D:\\Anaconda3\\lib\\site-packages\\ipykernel_launcher.py:9: FutureWarning: Method .as_matrix will be removed in a future version. Use .values instead.\n",
      "  if __name__ == '__main__':\n"
     ]
    },
    {
     "name": "stdout",
     "output_type": "stream",
     "text": [
      "预测值：  [1. 1. 1. ... 1. 2. 2.]\n"
     ]
    }
   ],
   "source": [
    "#决策树填充'OBS_60_CNT_SOCIAL_CIRCLE'\n",
    "from sklearn.ensemble import RandomForestRegressor\n",
    "# 用随机森林对缺失值预测填充函数\n",
    "def set_missing(df):\n",
    "    # 已把全部变量转换为数值型\n",
    "    process_df = df[['OBS_60_CNT_SOCIAL_CIRCLE'] + not_missing_col]\n",
    "    # 分成已知该特征和未知该特征两部分\n",
    "    known = process_df[process_df.OBS_60_CNT_SOCIAL_CIRCLE.notnull()].as_matrix()\n",
    "    unknown = process_df[process_df.OBS_60_CNT_SOCIAL_CIRCLE.isnull()].as_matrix()\n",
    "    # X为特征属性值\n",
    "    X = known[:, 1:]\n",
    "    # y为结果标签值\n",
    "    y = known[:, 0]\n",
    "    # fit到RandomForestRegressor之中\n",
    "    rfr = RandomForestRegressor(random_state=0, n_estimators=200, max_depth=3, n_jobs=-1)\n",
    "    rfr.fit(X, y)\n",
    "    # 用得到的模型进行未知特征值预测\n",
    "    predicted = rfr.predict(unknown[:, 1:]).round(0)\n",
    "    print(\"预测值： \", predicted)\n",
    "    # 用得到的预测结果填补原缺失数据\n",
    "    df.loc[(df.OBS_60_CNT_SOCIAL_CIRCLE.isnull()), 'OBS_60_CNT_SOCIAL_CIRCLE'] = predicted\n",
    "    return df\n",
    "data = set_missing(data)"
   ]
  },
  {
   "cell_type": "code",
   "execution_count": 23,
   "metadata": {},
   "outputs": [
    {
     "name": "stderr",
     "output_type": "stream",
     "text": [
      "D:\\Anaconda3\\lib\\site-packages\\ipykernel_launcher.py:8: FutureWarning: Method .as_matrix will be removed in a future version. Use .values instead.\n",
      "  \n",
      "D:\\Anaconda3\\lib\\site-packages\\ipykernel_launcher.py:9: FutureWarning: Method .as_matrix will be removed in a future version. Use .values instead.\n",
      "  if __name__ == '__main__':\n"
     ]
    },
    {
     "name": "stdout",
     "output_type": "stream",
     "text": [
      "预测值：  [0. 0. 0. ... 0. 0. 0.]\n"
     ]
    }
   ],
   "source": [
    "#决策树填充'DEF_60_CNT_SOCIAL_CIRCLE'\n",
    "from sklearn.ensemble import RandomForestRegressor\n",
    "# 用随机森林对缺失值预测填充函数\n",
    "def set_missing(df):\n",
    "    # 已把全部变量转换为数值型\n",
    "    process_df = df[['DEF_60_CNT_SOCIAL_CIRCLE'] + not_missing_col]\n",
    "    # 分成已知该特征和未知该特征两部分\n",
    "    known = process_df[process_df.DEF_60_CNT_SOCIAL_CIRCLE.notnull()].as_matrix()\n",
    "    unknown = process_df[process_df.DEF_60_CNT_SOCIAL_CIRCLE.isnull()].as_matrix()\n",
    "    # X为特征属性值\n",
    "    X = known[:, 1:]\n",
    "    # y为结果标签值\n",
    "    y = known[:, 0]\n",
    "    # fit到RandomForestRegressor之中\n",
    "    rfr = RandomForestRegressor(random_state=0, n_estimators=200, max_depth=3, n_jobs=-1)\n",
    "    rfr.fit(X, y)\n",
    "    # 用得到的模型进行未知特征值预测\n",
    "    predicted = rfr.predict(unknown[:, 1:]).round(0)\n",
    "    print(\"预测值： \", predicted)\n",
    "    # 用得到的预测结果填补原缺失数据\n",
    "    df.loc[(df.DEF_60_CNT_SOCIAL_CIRCLE.isnull()), 'DEF_60_CNT_SOCIAL_CIRCLE'] = predicted\n",
    "    return df\n",
    "data = set_missing(data)"
   ]
  },
  {
   "cell_type": "code",
   "execution_count": 24,
   "metadata": {},
   "outputs": [
    {
     "name": "stderr",
     "output_type": "stream",
     "text": [
      "D:\\Anaconda3\\lib\\site-packages\\ipykernel_launcher.py:8: FutureWarning: Method .as_matrix will be removed in a future version. Use .values instead.\n",
      "  \n",
      "D:\\Anaconda3\\lib\\site-packages\\ipykernel_launcher.py:9: FutureWarning: Method .as_matrix will be removed in a future version. Use .values instead.\n",
      "  if __name__ == '__main__':\n"
     ]
    },
    {
     "name": "stdout",
     "output_type": "stream",
     "text": [
      "预测值：  [-488.]\n"
     ]
    }
   ],
   "source": [
    "#决策树填充'DAYS_LAST_PHONE_CHANGE'\n",
    "from sklearn.ensemble import RandomForestRegressor\n",
    "# 用随机森林对缺失值预测填充函数\n",
    "def set_missing(df):\n",
    "    # 已把全部变量转换为数值型\n",
    "    process_df = df[['DAYS_LAST_PHONE_CHANGE'] + not_missing_col]\n",
    "    # 分成已知该特征和未知该特征两部分\n",
    "    known = process_df[process_df.DAYS_LAST_PHONE_CHANGE.notnull()].as_matrix()\n",
    "    unknown = process_df[process_df.DAYS_LAST_PHONE_CHANGE.isnull()].as_matrix()\n",
    "    # X为特征属性值\n",
    "    X = known[:, 1:]\n",
    "    # y为结果标签值\n",
    "    y = known[:, 0]\n",
    "    # fit到RandomForestRegressor之中\n",
    "    rfr = RandomForestRegressor(random_state=0, n_estimators=200, max_depth=3, n_jobs=-1)\n",
    "    rfr.fit(X, y)\n",
    "    # 用得到的模型进行未知特征值预测\n",
    "    predicted = rfr.predict(unknown[:, 1:]).round(0)\n",
    "    print(\"预测值： \", predicted)\n",
    "    # 用得到的预测结果填补原缺失数据\n",
    "    df.loc[(df.DAYS_LAST_PHONE_CHANGE.isnull()), 'DAYS_LAST_PHONE_CHANGE'] = predicted\n",
    "    return df\n",
    "data = set_missing(data)"
   ]
  },
  {
   "cell_type": "code",
   "execution_count": 25,
   "metadata": {},
   "outputs": [
    {
     "name": "stderr",
     "output_type": "stream",
     "text": [
      "D:\\Anaconda3\\lib\\site-packages\\ipykernel_launcher.py:8: FutureWarning: Method .as_matrix will be removed in a future version. Use .values instead.\n",
      "  \n",
      "D:\\Anaconda3\\lib\\site-packages\\ipykernel_launcher.py:9: FutureWarning: Method .as_matrix will be removed in a future version. Use .values instead.\n",
      "  if __name__ == '__main__':\n"
     ]
    },
    {
     "name": "stdout",
     "output_type": "stream",
     "text": [
      "预测值：  [0. 0. 0. ... 0. 0. 0.]\n"
     ]
    }
   ],
   "source": [
    "#决策树填充'AMT_REQ_CREDIT_BUREAU_HOUR'\n",
    "from sklearn.ensemble import RandomForestRegressor\n",
    "# 用随机森林对缺失值预测填充函数\n",
    "def set_missing(df):\n",
    "    # 已把全部变量转换为数值型\n",
    "    process_df = df[['AMT_REQ_CREDIT_BUREAU_HOUR'] + not_missing_col]\n",
    "    # 分成已知该特征和未知该特征两部分\n",
    "    known = process_df[process_df.AMT_REQ_CREDIT_BUREAU_HOUR.notnull()].as_matrix()\n",
    "    unknown = process_df[process_df.AMT_REQ_CREDIT_BUREAU_HOUR.isnull()].as_matrix()\n",
    "    # X为特征属性值\n",
    "    X = known[:, 1:]\n",
    "    # y为结果标签值\n",
    "    y = known[:, 0]\n",
    "    # fit到RandomForestRegressor之中\n",
    "    rfr = RandomForestRegressor(random_state=0, n_estimators=200, max_depth=3, n_jobs=-1)\n",
    "    rfr.fit(X, y)\n",
    "    # 用得到的模型进行未知特征值预测\n",
    "    predicted = rfr.predict(unknown[:, 1:]).round(0)\n",
    "    print(\"预测值： \", predicted)\n",
    "    # 用得到的预测结果填补原缺失数据\n",
    "    df.loc[(df.AMT_REQ_CREDIT_BUREAU_HOUR.isnull()), 'AMT_REQ_CREDIT_BUREAU_HOUR'] = predicted\n",
    "    return df\n",
    "data = set_missing(data)"
   ]
  },
  {
   "cell_type": "code",
   "execution_count": 26,
   "metadata": {},
   "outputs": [
    {
     "name": "stderr",
     "output_type": "stream",
     "text": [
      "D:\\Anaconda3\\lib\\site-packages\\ipykernel_launcher.py:8: FutureWarning: Method .as_matrix will be removed in a future version. Use .values instead.\n",
      "  \n",
      "D:\\Anaconda3\\lib\\site-packages\\ipykernel_launcher.py:9: FutureWarning: Method .as_matrix will be removed in a future version. Use .values instead.\n",
      "  if __name__ == '__main__':\n"
     ]
    },
    {
     "name": "stdout",
     "output_type": "stream",
     "text": [
      "预测值：  [0. 0. 0. ... 0. 0. 0.]\n"
     ]
    }
   ],
   "source": [
    "#决策树填充'AMT_REQ_CREDIT_BUREAU_DAY'\n",
    "from sklearn.ensemble import RandomForestRegressor\n",
    "# 用随机森林对缺失值预测填充函数\n",
    "def set_missing(df):\n",
    "    # 已把全部变量转换为数值型\n",
    "    process_df = df[['AMT_REQ_CREDIT_BUREAU_DAY'] + not_missing_col]\n",
    "    # 分成已知该特征和未知该特征两部分\n",
    "    known = process_df[process_df.AMT_REQ_CREDIT_BUREAU_DAY.notnull()].as_matrix()\n",
    "    unknown = process_df[process_df.AMT_REQ_CREDIT_BUREAU_DAY.isnull()].as_matrix()\n",
    "    # X为特征属性值\n",
    "    X = known[:, 1:]\n",
    "    # y为结果标签值\n",
    "    y = known[:, 0]\n",
    "    # fit到RandomForestRegressor之中\n",
    "    rfr = RandomForestRegressor(random_state=0, n_estimators=200, max_depth=3, n_jobs=-1)\n",
    "    rfr.fit(X, y)\n",
    "    # 用得到的模型进行未知特征值预测\n",
    "    predicted = rfr.predict(unknown[:, 1:]).round(0)\n",
    "    print(\"预测值： \", predicted)\n",
    "    # 用得到的预测结果填补原缺失数据\n",
    "    df.loc[(df.AMT_REQ_CREDIT_BUREAU_DAY.isnull()), 'AMT_REQ_CREDIT_BUREAU_DAY'] = predicted\n",
    "    return df\n",
    "data = set_missing(data)"
   ]
  },
  {
   "cell_type": "code",
   "execution_count": 27,
   "metadata": {},
   "outputs": [
    {
     "name": "stderr",
     "output_type": "stream",
     "text": [
      "D:\\Anaconda3\\lib\\site-packages\\ipykernel_launcher.py:8: FutureWarning: Method .as_matrix will be removed in a future version. Use .values instead.\n",
      "  \n",
      "D:\\Anaconda3\\lib\\site-packages\\ipykernel_launcher.py:9: FutureWarning: Method .as_matrix will be removed in a future version. Use .values instead.\n",
      "  if __name__ == '__main__':\n"
     ]
    },
    {
     "name": "stdout",
     "output_type": "stream",
     "text": [
      "预测值：  [0. 0. 0. ... 0. 0. 0.]\n"
     ]
    }
   ],
   "source": [
    "#决策树填充'AMT_REQ_CREDIT_BUREAU_WEEK'\n",
    "from sklearn.ensemble import RandomForestRegressor\n",
    "# 用随机森林对缺失值预测填充函数\n",
    "def set_missing(df):\n",
    "    # 已把全部变量转换为数值型\n",
    "    process_df = df[['AMT_REQ_CREDIT_BUREAU_WEEK'] + not_missing_col]\n",
    "    # 分成已知该特征和未知该特征两部分\n",
    "    known = process_df[process_df.AMT_REQ_CREDIT_BUREAU_WEEK.notnull()].as_matrix()\n",
    "    unknown = process_df[process_df.AMT_REQ_CREDIT_BUREAU_WEEK.isnull()].as_matrix()\n",
    "    # X为特征属性值\n",
    "    X = known[:, 1:]\n",
    "    # y为结果标签值\n",
    "    y = known[:, 0]\n",
    "    # fit到RandomForestRegressor之中\n",
    "    rfr = RandomForestRegressor(random_state=0, n_estimators=200, max_depth=3, n_jobs=-1)\n",
    "    rfr.fit(X, y)\n",
    "    # 用得到的模型进行未知特征值预测\n",
    "    predicted = rfr.predict(unknown[:, 1:]).round(0)\n",
    "    print(\"预测值： \", predicted)\n",
    "    # 用得到的预测结果填补原缺失数据\n",
    "    df.loc[(df.AMT_REQ_CREDIT_BUREAU_WEEK.isnull()), 'AMT_REQ_CREDIT_BUREAU_WEEK'] = predicted\n",
    "    return df\n",
    "data = set_missing(data)"
   ]
  },
  {
   "cell_type": "code",
   "execution_count": 28,
   "metadata": {},
   "outputs": [
    {
     "name": "stderr",
     "output_type": "stream",
     "text": [
      "D:\\Anaconda3\\lib\\site-packages\\ipykernel_launcher.py:8: FutureWarning: Method .as_matrix will be removed in a future version. Use .values instead.\n",
      "  \n",
      "D:\\Anaconda3\\lib\\site-packages\\ipykernel_launcher.py:9: FutureWarning: Method .as_matrix will be removed in a future version. Use .values instead.\n",
      "  if __name__ == '__main__':\n"
     ]
    },
    {
     "name": "stdout",
     "output_type": "stream",
     "text": [
      "预测值：  [0. 0. 0. ... 0. 0. 0.]\n"
     ]
    }
   ],
   "source": [
    "#决策树填充'AMT_REQ_CREDIT_BUREAU_MON'\n",
    "from sklearn.ensemble import RandomForestRegressor\n",
    "# 用随机森林对缺失值预测填充函数\n",
    "def set_missing(df):\n",
    "    # 已把全部变量转换为数值型\n",
    "    process_df = df[['AMT_REQ_CREDIT_BUREAU_MON'] + not_missing_col]\n",
    "    # 分成已知该特征和未知该特征两部分\n",
    "    known = process_df[process_df.AMT_REQ_CREDIT_BUREAU_MON.notnull()].as_matrix()\n",
    "    unknown = process_df[process_df.AMT_REQ_CREDIT_BUREAU_MON.isnull()].as_matrix()\n",
    "    # X为特征属性值\n",
    "    X = known[:, 1:]\n",
    "    # y为结果标签值\n",
    "    y = known[:, 0]\n",
    "    # fit到RandomForestRegressor之中\n",
    "    rfr = RandomForestRegressor(random_state=0, n_estimators=200, max_depth=3, n_jobs=-1)\n",
    "    rfr.fit(X, y)\n",
    "    # 用得到的模型进行未知特征值预测\n",
    "    predicted = rfr.predict(unknown[:, 1:]).round(0)\n",
    "    print(\"预测值： \", predicted)\n",
    "    # 用得到的预测结果填补原缺失数据\n",
    "    df.loc[(df.AMT_REQ_CREDIT_BUREAU_MON.isnull()), 'AMT_REQ_CREDIT_BUREAU_MON'] = predicted\n",
    "    return df\n",
    "data = set_missing(data)"
   ]
  },
  {
   "cell_type": "code",
   "execution_count": 29,
   "metadata": {},
   "outputs": [
    {
     "name": "stderr",
     "output_type": "stream",
     "text": [
      "D:\\Anaconda3\\lib\\site-packages\\ipykernel_launcher.py:8: FutureWarning: Method .as_matrix will be removed in a future version. Use .values instead.\n",
      "  \n",
      "D:\\Anaconda3\\lib\\site-packages\\ipykernel_launcher.py:9: FutureWarning: Method .as_matrix will be removed in a future version. Use .values instead.\n",
      "  if __name__ == '__main__':\n"
     ]
    },
    {
     "name": "stdout",
     "output_type": "stream",
     "text": [
      "预测值：  [0. 0. 0. ... 0. 0. 0.]\n"
     ]
    }
   ],
   "source": [
    "#决策树填充'AMT_REQ_CREDIT_BUREAU_QRT'\n",
    "from sklearn.ensemble import RandomForestRegressor\n",
    "# 用随机森林对缺失值预测填充函数\n",
    "def set_missing(df):\n",
    "    # 已把全部变量转换为数值型\n",
    "    process_df = df[['AMT_REQ_CREDIT_BUREAU_QRT'] + not_missing_col]\n",
    "    # 分成已知该特征和未知该特征两部分\n",
    "    known = process_df[process_df.AMT_REQ_CREDIT_BUREAU_QRT.notnull()].as_matrix()\n",
    "    unknown = process_df[process_df.AMT_REQ_CREDIT_BUREAU_QRT.isnull()].as_matrix()\n",
    "    # X为特征属性值\n",
    "    X = known[:, 1:]\n",
    "    # y为结果标签值\n",
    "    y = known[:, 0]\n",
    "    # fit到RandomForestRegressor之中\n",
    "    rfr = RandomForestRegressor(random_state=0, n_estimators=200, max_depth=3, n_jobs=-1)\n",
    "    rfr.fit(X, y)\n",
    "    # 用得到的模型进行未知特征值预测\n",
    "    predicted = rfr.predict(unknown[:, 1:]).round(0)\n",
    "    print(\"预测值： \", predicted)\n",
    "    # 用得到的预测结果填补原缺失数据\n",
    "    df.loc[(df.AMT_REQ_CREDIT_BUREAU_QRT.isnull()), 'AMT_REQ_CREDIT_BUREAU_QRT'] = predicted\n",
    "    return df\n",
    "data = set_missing(data)"
   ]
  },
  {
   "cell_type": "code",
   "execution_count": 30,
   "metadata": {},
   "outputs": [
    {
     "name": "stderr",
     "output_type": "stream",
     "text": [
      "D:\\Anaconda3\\lib\\site-packages\\ipykernel_launcher.py:8: FutureWarning: Method .as_matrix will be removed in a future version. Use .values instead.\n",
      "  \n",
      "D:\\Anaconda3\\lib\\site-packages\\ipykernel_launcher.py:9: FutureWarning: Method .as_matrix will be removed in a future version. Use .values instead.\n",
      "  if __name__ == '__main__':\n"
     ]
    },
    {
     "name": "stdout",
     "output_type": "stream",
     "text": [
      "预测值：  [2. 2. 2. ... 2. 2. 2.]\n"
     ]
    }
   ],
   "source": [
    "#决策树填充'AMT_REQ_CREDIT_BUREAU_YEAR'\n",
    "from sklearn.ensemble import RandomForestRegressor\n",
    "# 用随机森林对缺失值预测填充函数\n",
    "def set_missing(df):\n",
    "    # 已把全部变量转换为数值型\n",
    "    process_df = df[['AMT_REQ_CREDIT_BUREAU_YEAR'] + not_missing_col]\n",
    "    # 分成已知该特征和未知该特征两部分\n",
    "    known = process_df[process_df.AMT_REQ_CREDIT_BUREAU_YEAR.notnull()].as_matrix()\n",
    "    unknown = process_df[process_df.AMT_REQ_CREDIT_BUREAU_YEAR.isnull()].as_matrix()\n",
    "    # X为特征属性值\n",
    "    X = known[:, 1:]\n",
    "    # y为结果标签值\n",
    "    y = known[:, 0]\n",
    "    # fit到RandomForestRegressor之中\n",
    "    rfr = RandomForestRegressor(random_state=0, n_estimators=200, max_depth=3, n_jobs=-1)\n",
    "    rfr.fit(X, y)\n",
    "    # 用得到的模型进行未知特征值预测\n",
    "    predicted = rfr.predict(unknown[:, 1:]).round(0)\n",
    "    print(\"预测值： \", predicted)\n",
    "    # 用得到的预测结果填补原缺失数据\n",
    "    df.loc[(df.AMT_REQ_CREDIT_BUREAU_YEAR.isnull()), 'AMT_REQ_CREDIT_BUREAU_YEAR'] = predicted\n",
    "    return df\n",
    "data = set_missing(data)"
   ]
  },
  {
   "cell_type": "code",
   "execution_count": 31,
   "metadata": {},
   "outputs": [],
   "source": [
    "data.to_csv('imputation.csv',index=False)"
   ]
  },
  {
   "cell_type": "markdown",
   "metadata": {},
   "source": [
    "## 相关性选择变量"
   ]
  },
  {
   "cell_type": "code",
   "execution_count": 32,
   "metadata": {
    "scrolled": true
   },
   "outputs": [
    {
     "data": {
      "text/plain": [
       "['TARGET',\n",
       " 'NAME_CONTRACT_TYPE',\n",
       " 'CODE_GENDER',\n",
       " 'FLAG_OWN_CAR',\n",
       " 'FLAG_OWN_REALTY',\n",
       " 'CNT_CHILDREN',\n",
       " 'AMT_INCOME_TOTAL',\n",
       " 'AMT_CREDIT',\n",
       " 'AMT_ANNUITY',\n",
       " 'AMT_GOODS_PRICE',\n",
       " 'NAME_TYPE_SUITE',\n",
       " 'NAME_INCOME_TYPE',\n",
       " 'NAME_EDUCATION_TYPE',\n",
       " 'NAME_FAMILY_STATUS',\n",
       " 'NAME_HOUSING_TYPE',\n",
       " 'REGION_POPULATION_RELATIVE',\n",
       " 'DAYS_BIRTH',\n",
       " 'DAYS_EMPLOYED',\n",
       " 'DAYS_REGISTRATION',\n",
       " 'DAYS_ID_PUBLISH',\n",
       " 'OCCUPATION_TYPE',\n",
       " 'CNT_FAM_MEMBERS',\n",
       " 'REGION_RATING_CLIENT',\n",
       " 'REGION_RATING_CLIENT_W_CITY',\n",
       " 'WEEKDAY_APPR_PROCESS_START',\n",
       " 'HOUR_APPR_PROCESS_START',\n",
       " 'REG_REGION_NOT_LIVE_REGION',\n",
       " 'REG_REGION_NOT_WORK_REGION',\n",
       " 'LIVE_REGION_NOT_WORK_REGION',\n",
       " 'REG_CITY_NOT_LIVE_CITY',\n",
       " 'REG_CITY_NOT_WORK_CITY',\n",
       " 'LIVE_CITY_NOT_WORK_CITY',\n",
       " 'ORGANIZATION_TYPE',\n",
       " 'YEARS_BEGINEXPLUATATION_AVG',\n",
       " 'FLOORSMAX_AVG',\n",
       " 'YEARS_BEGINEXPLUATATION_MODE',\n",
       " 'FLOORSMAX_MODE',\n",
       " 'YEARS_BEGINEXPLUATATION_MEDI',\n",
       " 'FLOORSMAX_MEDI',\n",
       " 'TOTALAREA_MODE',\n",
       " 'EMERGENCYSTATE_MODE',\n",
       " 'OBS_30_CNT_SOCIAL_CIRCLE',\n",
       " 'DEF_30_CNT_SOCIAL_CIRCLE',\n",
       " 'OBS_60_CNT_SOCIAL_CIRCLE',\n",
       " 'DEF_60_CNT_SOCIAL_CIRCLE',\n",
       " 'DAYS_LAST_PHONE_CHANGE',\n",
       " 'FLAG_DOCUMENT_3',\n",
       " 'AMT_REQ_CREDIT_BUREAU_HOUR',\n",
       " 'AMT_REQ_CREDIT_BUREAU_DAY',\n",
       " 'AMT_REQ_CREDIT_BUREAU_WEEK',\n",
       " 'AMT_REQ_CREDIT_BUREAU_MON',\n",
       " 'AMT_REQ_CREDIT_BUREAU_QRT',\n",
       " 'AMT_REQ_CREDIT_BUREAU_YEAR']"
      ]
     },
     "execution_count": 32,
     "metadata": {},
     "output_type": "execute_result"
    }
   ],
   "source": [
    "col = data.columns.to_list()\n",
    "col.remove('SK_ID_CURR')\n",
    "col"
   ]
  },
  {
   "cell_type": "code",
   "execution_count": 33,
   "metadata": {
    "scrolled": true
   },
   "outputs": [
    {
     "data": {
      "text/plain": [
       "NAME_CONTRACT_TYPE              0.030896\n",
       "CODE_GENDER                     0.054718\n",
       "FLAG_OWN_CAR                    0.021851\n",
       "FLAG_OWN_REALTY                 0.006148\n",
       "CNT_CHILDREN                    0.019187\n",
       "AMT_INCOME_TOTAL               -0.003982\n",
       "AMT_CREDIT                     -0.030369\n",
       "AMT_ANNUITY                    -0.012816\n",
       "AMT_GOODS_PRICE                -0.039622\n",
       "NAME_TYPE_SUITE                 0.009997\n",
       "NAME_INCOME_TYPE                0.061835\n",
       "NAME_EDUCATION_TYPE             0.056872\n",
       "NAME_FAMILY_STATUS              0.039256\n",
       "NAME_HOUSING_TYPE               0.035159\n",
       "REGION_POPULATION_RELATIVE     -0.037227\n",
       "DAYS_BIRTH                      0.078239\n",
       "DAYS_EMPLOYED                  -0.044932\n",
       "DAYS_REGISTRATION               0.041975\n",
       "DAYS_ID_PUBLISH                 0.051457\n",
       "OCCUPATION_TYPE                 0.056022\n",
       "CNT_FAM_MEMBERS                 0.009308\n",
       "REGION_RATING_CLIENT            0.058899\n",
       "REGION_RATING_CLIENT_W_CITY     0.060893\n",
       "WEEKDAY_APPR_PROCESS_START      0.006922\n",
       "HOUR_APPR_PROCESS_START        -0.024166\n",
       "REG_REGION_NOT_LIVE_REGION      0.005576\n",
       "REG_REGION_NOT_WORK_REGION      0.006942\n",
       "LIVE_REGION_NOT_WORK_REGION     0.002819\n",
       "REG_CITY_NOT_LIVE_CITY          0.044395\n",
       "REG_CITY_NOT_WORK_CITY          0.050994\n",
       "LIVE_CITY_NOT_WORK_CITY         0.032518\n",
       "ORGANIZATION_TYPE               0.071169\n",
       "YEARS_BEGINEXPLUATATION_AVG     0.003995\n",
       "FLOORSMAX_AVG                  -0.049839\n",
       "YEARS_BEGINEXPLUATATION_MODE    0.003887\n",
       "FLOORSMAX_MODE                 -0.049458\n",
       "YEARS_BEGINEXPLUATATION_MEDI    0.003702\n",
       "FLOORSMAX_MEDI                 -0.049720\n",
       "TOTALAREA_MODE                 -0.041037\n",
       "EMERGENCYSTATE_MODE             0.004829\n",
       "OBS_30_CNT_SOCIAL_CIRCLE        0.009136\n",
       "DEF_30_CNT_SOCIAL_CIRCLE        0.032394\n",
       "OBS_60_CNT_SOCIAL_CIRCLE        0.009025\n",
       "DEF_60_CNT_SOCIAL_CIRCLE        0.031401\n",
       "DAYS_LAST_PHONE_CHANGE          0.055218\n",
       "FLAG_DOCUMENT_3                 0.044346\n",
       "AMT_REQ_CREDIT_BUREAU_HOUR     -0.000074\n",
       "AMT_REQ_CREDIT_BUREAU_DAY       0.001701\n",
       "AMT_REQ_CREDIT_BUREAU_WEEK     -0.001306\n",
       "AMT_REQ_CREDIT_BUREAU_MON      -0.014819\n",
       "AMT_REQ_CREDIT_BUREAU_QRT      -0.005861\n",
       "AMT_REQ_CREDIT_BUREAU_YEAR      0.018478\n",
       "Name: TARGET, dtype: float64"
      ]
     },
     "execution_count": 33,
     "metadata": {},
     "output_type": "execute_result"
    }
   ],
   "source": [
    "corr = pd.DataFrame(data[col].corr())\n",
    "corr = corr.iloc[1:,0]\n",
    "corr"
   ]
  },
  {
   "cell_type": "code",
   "execution_count": 34,
   "metadata": {
    "scrolled": true
   },
   "outputs": [
    {
     "data": {
      "text/html": [
       "<div>\n",
       "<style scoped>\n",
       "    .dataframe tbody tr th:only-of-type {\n",
       "        vertical-align: middle;\n",
       "    }\n",
       "\n",
       "    .dataframe tbody tr th {\n",
       "        vertical-align: top;\n",
       "    }\n",
       "\n",
       "    .dataframe thead th {\n",
       "        text-align: right;\n",
       "    }\n",
       "</style>\n",
       "<table border=\"1\" class=\"dataframe\">\n",
       "  <thead>\n",
       "    <tr style=\"text-align: right;\">\n",
       "      <th></th>\n",
       "      <th>relativity</th>\n",
       "    </tr>\n",
       "  </thead>\n",
       "  <tbody>\n",
       "    <tr>\n",
       "      <td>DAYS_BIRTH</td>\n",
       "      <td>0.078239</td>\n",
       "    </tr>\n",
       "    <tr>\n",
       "      <td>ORGANIZATION_TYPE</td>\n",
       "      <td>0.071169</td>\n",
       "    </tr>\n",
       "    <tr>\n",
       "      <td>NAME_INCOME_TYPE</td>\n",
       "      <td>0.061835</td>\n",
       "    </tr>\n",
       "    <tr>\n",
       "      <td>REGION_RATING_CLIENT_W_CITY</td>\n",
       "      <td>0.060893</td>\n",
       "    </tr>\n",
       "    <tr>\n",
       "      <td>REGION_RATING_CLIENT</td>\n",
       "      <td>0.058899</td>\n",
       "    </tr>\n",
       "    <tr>\n",
       "      <td>NAME_EDUCATION_TYPE</td>\n",
       "      <td>0.056872</td>\n",
       "    </tr>\n",
       "    <tr>\n",
       "      <td>OCCUPATION_TYPE</td>\n",
       "      <td>0.056022</td>\n",
       "    </tr>\n",
       "    <tr>\n",
       "      <td>DAYS_LAST_PHONE_CHANGE</td>\n",
       "      <td>0.055218</td>\n",
       "    </tr>\n",
       "    <tr>\n",
       "      <td>CODE_GENDER</td>\n",
       "      <td>0.054718</td>\n",
       "    </tr>\n",
       "    <tr>\n",
       "      <td>DAYS_ID_PUBLISH</td>\n",
       "      <td>0.051457</td>\n",
       "    </tr>\n",
       "    <tr>\n",
       "      <td>REG_CITY_NOT_WORK_CITY</td>\n",
       "      <td>0.050994</td>\n",
       "    </tr>\n",
       "    <tr>\n",
       "      <td>FLOORSMAX_AVG</td>\n",
       "      <td>0.049839</td>\n",
       "    </tr>\n",
       "    <tr>\n",
       "      <td>FLOORSMAX_MEDI</td>\n",
       "      <td>0.049720</td>\n",
       "    </tr>\n",
       "    <tr>\n",
       "      <td>FLOORSMAX_MODE</td>\n",
       "      <td>0.049458</td>\n",
       "    </tr>\n",
       "    <tr>\n",
       "      <td>DAYS_EMPLOYED</td>\n",
       "      <td>0.044932</td>\n",
       "    </tr>\n",
       "    <tr>\n",
       "      <td>REG_CITY_NOT_LIVE_CITY</td>\n",
       "      <td>0.044395</td>\n",
       "    </tr>\n",
       "    <tr>\n",
       "      <td>FLAG_DOCUMENT_3</td>\n",
       "      <td>0.044346</td>\n",
       "    </tr>\n",
       "    <tr>\n",
       "      <td>DAYS_REGISTRATION</td>\n",
       "      <td>0.041975</td>\n",
       "    </tr>\n",
       "    <tr>\n",
       "      <td>TOTALAREA_MODE</td>\n",
       "      <td>0.041037</td>\n",
       "    </tr>\n",
       "    <tr>\n",
       "      <td>AMT_GOODS_PRICE</td>\n",
       "      <td>0.039622</td>\n",
       "    </tr>\n",
       "    <tr>\n",
       "      <td>NAME_FAMILY_STATUS</td>\n",
       "      <td>0.039256</td>\n",
       "    </tr>\n",
       "    <tr>\n",
       "      <td>REGION_POPULATION_RELATIVE</td>\n",
       "      <td>0.037227</td>\n",
       "    </tr>\n",
       "    <tr>\n",
       "      <td>NAME_HOUSING_TYPE</td>\n",
       "      <td>0.035159</td>\n",
       "    </tr>\n",
       "    <tr>\n",
       "      <td>LIVE_CITY_NOT_WORK_CITY</td>\n",
       "      <td>0.032518</td>\n",
       "    </tr>\n",
       "    <tr>\n",
       "      <td>DEF_30_CNT_SOCIAL_CIRCLE</td>\n",
       "      <td>0.032394</td>\n",
       "    </tr>\n",
       "    <tr>\n",
       "      <td>DEF_60_CNT_SOCIAL_CIRCLE</td>\n",
       "      <td>0.031401</td>\n",
       "    </tr>\n",
       "    <tr>\n",
       "      <td>NAME_CONTRACT_TYPE</td>\n",
       "      <td>0.030896</td>\n",
       "    </tr>\n",
       "    <tr>\n",
       "      <td>AMT_CREDIT</td>\n",
       "      <td>0.030369</td>\n",
       "    </tr>\n",
       "    <tr>\n",
       "      <td>HOUR_APPR_PROCESS_START</td>\n",
       "      <td>0.024166</td>\n",
       "    </tr>\n",
       "    <tr>\n",
       "      <td>FLAG_OWN_CAR</td>\n",
       "      <td>0.021851</td>\n",
       "    </tr>\n",
       "    <tr>\n",
       "      <td>CNT_CHILDREN</td>\n",
       "      <td>0.019187</td>\n",
       "    </tr>\n",
       "    <tr>\n",
       "      <td>AMT_REQ_CREDIT_BUREAU_YEAR</td>\n",
       "      <td>0.018478</td>\n",
       "    </tr>\n",
       "    <tr>\n",
       "      <td>AMT_REQ_CREDIT_BUREAU_MON</td>\n",
       "      <td>0.014819</td>\n",
       "    </tr>\n",
       "    <tr>\n",
       "      <td>AMT_ANNUITY</td>\n",
       "      <td>0.012816</td>\n",
       "    </tr>\n",
       "    <tr>\n",
       "      <td>NAME_TYPE_SUITE</td>\n",
       "      <td>0.009997</td>\n",
       "    </tr>\n",
       "    <tr>\n",
       "      <td>CNT_FAM_MEMBERS</td>\n",
       "      <td>0.009308</td>\n",
       "    </tr>\n",
       "    <tr>\n",
       "      <td>OBS_30_CNT_SOCIAL_CIRCLE</td>\n",
       "      <td>0.009136</td>\n",
       "    </tr>\n",
       "    <tr>\n",
       "      <td>OBS_60_CNT_SOCIAL_CIRCLE</td>\n",
       "      <td>0.009025</td>\n",
       "    </tr>\n",
       "    <tr>\n",
       "      <td>REG_REGION_NOT_WORK_REGION</td>\n",
       "      <td>0.006942</td>\n",
       "    </tr>\n",
       "    <tr>\n",
       "      <td>WEEKDAY_APPR_PROCESS_START</td>\n",
       "      <td>0.006922</td>\n",
       "    </tr>\n",
       "    <tr>\n",
       "      <td>FLAG_OWN_REALTY</td>\n",
       "      <td>0.006148</td>\n",
       "    </tr>\n",
       "    <tr>\n",
       "      <td>AMT_REQ_CREDIT_BUREAU_QRT</td>\n",
       "      <td>0.005861</td>\n",
       "    </tr>\n",
       "    <tr>\n",
       "      <td>REG_REGION_NOT_LIVE_REGION</td>\n",
       "      <td>0.005576</td>\n",
       "    </tr>\n",
       "    <tr>\n",
       "      <td>EMERGENCYSTATE_MODE</td>\n",
       "      <td>0.004829</td>\n",
       "    </tr>\n",
       "    <tr>\n",
       "      <td>YEARS_BEGINEXPLUATATION_AVG</td>\n",
       "      <td>0.003995</td>\n",
       "    </tr>\n",
       "    <tr>\n",
       "      <td>AMT_INCOME_TOTAL</td>\n",
       "      <td>0.003982</td>\n",
       "    </tr>\n",
       "    <tr>\n",
       "      <td>YEARS_BEGINEXPLUATATION_MODE</td>\n",
       "      <td>0.003887</td>\n",
       "    </tr>\n",
       "    <tr>\n",
       "      <td>YEARS_BEGINEXPLUATATION_MEDI</td>\n",
       "      <td>0.003702</td>\n",
       "    </tr>\n",
       "    <tr>\n",
       "      <td>LIVE_REGION_NOT_WORK_REGION</td>\n",
       "      <td>0.002819</td>\n",
       "    </tr>\n",
       "    <tr>\n",
       "      <td>AMT_REQ_CREDIT_BUREAU_DAY</td>\n",
       "      <td>0.001701</td>\n",
       "    </tr>\n",
       "    <tr>\n",
       "      <td>AMT_REQ_CREDIT_BUREAU_WEEK</td>\n",
       "      <td>0.001306</td>\n",
       "    </tr>\n",
       "    <tr>\n",
       "      <td>AMT_REQ_CREDIT_BUREAU_HOUR</td>\n",
       "      <td>0.000074</td>\n",
       "    </tr>\n",
       "  </tbody>\n",
       "</table>\n",
       "</div>"
      ],
      "text/plain": [
       "                              relativity\n",
       "DAYS_BIRTH                      0.078239\n",
       "ORGANIZATION_TYPE               0.071169\n",
       "NAME_INCOME_TYPE                0.061835\n",
       "REGION_RATING_CLIENT_W_CITY     0.060893\n",
       "REGION_RATING_CLIENT            0.058899\n",
       "NAME_EDUCATION_TYPE             0.056872\n",
       "OCCUPATION_TYPE                 0.056022\n",
       "DAYS_LAST_PHONE_CHANGE          0.055218\n",
       "CODE_GENDER                     0.054718\n",
       "DAYS_ID_PUBLISH                 0.051457\n",
       "REG_CITY_NOT_WORK_CITY          0.050994\n",
       "FLOORSMAX_AVG                   0.049839\n",
       "FLOORSMAX_MEDI                  0.049720\n",
       "FLOORSMAX_MODE                  0.049458\n",
       "DAYS_EMPLOYED                   0.044932\n",
       "REG_CITY_NOT_LIVE_CITY          0.044395\n",
       "FLAG_DOCUMENT_3                 0.044346\n",
       "DAYS_REGISTRATION               0.041975\n",
       "TOTALAREA_MODE                  0.041037\n",
       "AMT_GOODS_PRICE                 0.039622\n",
       "NAME_FAMILY_STATUS              0.039256\n",
       "REGION_POPULATION_RELATIVE      0.037227\n",
       "NAME_HOUSING_TYPE               0.035159\n",
       "LIVE_CITY_NOT_WORK_CITY         0.032518\n",
       "DEF_30_CNT_SOCIAL_CIRCLE        0.032394\n",
       "DEF_60_CNT_SOCIAL_CIRCLE        0.031401\n",
       "NAME_CONTRACT_TYPE              0.030896\n",
       "AMT_CREDIT                      0.030369\n",
       "HOUR_APPR_PROCESS_START         0.024166\n",
       "FLAG_OWN_CAR                    0.021851\n",
       "CNT_CHILDREN                    0.019187\n",
       "AMT_REQ_CREDIT_BUREAU_YEAR      0.018478\n",
       "AMT_REQ_CREDIT_BUREAU_MON       0.014819\n",
       "AMT_ANNUITY                     0.012816\n",
       "NAME_TYPE_SUITE                 0.009997\n",
       "CNT_FAM_MEMBERS                 0.009308\n",
       "OBS_30_CNT_SOCIAL_CIRCLE        0.009136\n",
       "OBS_60_CNT_SOCIAL_CIRCLE        0.009025\n",
       "REG_REGION_NOT_WORK_REGION      0.006942\n",
       "WEEKDAY_APPR_PROCESS_START      0.006922\n",
       "FLAG_OWN_REALTY                 0.006148\n",
       "AMT_REQ_CREDIT_BUREAU_QRT       0.005861\n",
       "REG_REGION_NOT_LIVE_REGION      0.005576\n",
       "EMERGENCYSTATE_MODE             0.004829\n",
       "YEARS_BEGINEXPLUATATION_AVG     0.003995\n",
       "AMT_INCOME_TOTAL                0.003982\n",
       "YEARS_BEGINEXPLUATATION_MODE    0.003887\n",
       "YEARS_BEGINEXPLUATATION_MEDI    0.003702\n",
       "LIVE_REGION_NOT_WORK_REGION     0.002819\n",
       "AMT_REQ_CREDIT_BUREAU_DAY       0.001701\n",
       "AMT_REQ_CREDIT_BUREAU_WEEK      0.001306\n",
       "AMT_REQ_CREDIT_BUREAU_HOUR      0.000074"
      ]
     },
     "execution_count": 34,
     "metadata": {},
     "output_type": "execute_result"
    }
   ],
   "source": [
    "corr = corr.abs().sort_values(ascending = False)\n",
    "corr = pd.DataFrame(corr)\n",
    "corr.columns = ['relativity']\n",
    "corr"
   ]
  },
  {
   "cell_type": "code",
   "execution_count": 35,
   "metadata": {},
   "outputs": [
    {
     "data": {
      "text/plain": [
       "['DAYS_BIRTH',\n",
       " 'ORGANIZATION_TYPE',\n",
       " 'NAME_INCOME_TYPE',\n",
       " 'REGION_RATING_CLIENT_W_CITY',\n",
       " 'REGION_RATING_CLIENT',\n",
       " 'NAME_EDUCATION_TYPE',\n",
       " 'OCCUPATION_TYPE',\n",
       " 'DAYS_LAST_PHONE_CHANGE',\n",
       " 'CODE_GENDER',\n",
       " 'DAYS_ID_PUBLISH',\n",
       " 'REG_CITY_NOT_WORK_CITY']"
      ]
     },
     "execution_count": 35,
     "metadata": {},
     "output_type": "execute_result"
    }
   ],
   "source": [
    "#选择相关性大于0.05的变量\n",
    "var = []\n",
    "for i in corr.index:\n",
    "    if corr.loc[i,'relativity'] > 0.05:\n",
    "        var.append(i)\n",
    "var"
   ]
  },
  {
   "cell_type": "markdown",
   "metadata": {},
   "source": [
    "## 数据切分"
   ]
  },
  {
   "cell_type": "code",
   "execution_count": 36,
   "metadata": {},
   "outputs": [],
   "source": [
    "#pip install sklearn.model_selection\n",
    "from sklearn.model_selection import train_test_split"
   ]
  },
  {
   "cell_type": "code",
   "execution_count": 37,
   "metadata": {},
   "outputs": [],
   "source": [
    "Y = data[\"TARGET\"]\n",
    "X = data[var]\n",
    "# 测试和训练数据进行3：7的比例进行切分 random_state定一个值是的每次运行的时候不会被随机分\n",
    "X_train, X_test, Y_train, Y_test = train_test_split(X, Y, test_size=0.3, random_state=123)\n",
    "\n",
    "train = pd.concat([Y_train, X_train], axis=1)\n",
    "test = pd.concat([Y_test, X_test], axis=1)\n",
    "\n",
    "train.to_csv('TrainData.csv',index=False)\n",
    "test.to_csv('TestData.csv',index=False)"
   ]
  },
  {
   "cell_type": "markdown",
   "metadata": {},
   "source": [
    "## 特征分箱"
   ]
  },
  {
   "cell_type": "code",
   "execution_count": 38,
   "metadata": {},
   "outputs": [],
   "source": [
    "import scipy.stats.stats as stats\n",
    "\n",
    "# 自定义自动分箱函数\n",
    "def mono_bin(Y, X, n=20):\n",
    "    r = 0\n",
    "    good = Y.sum()\n",
    "    bad = Y.count() - good\n",
    "    while np.abs(r) < 1:\n",
    "        d1 = pd.DataFrame({\"X\": X, \"Y\": Y, \"Bucket\": pd.qcut(X.rank(method=\"first\"), n)}) # X.rank(method=\"first\")\n",
    "        d2 = d1.groupby(\"Bucket\", as_index = True)\n",
    "        r, p = stats.spearmanr(d2.mean().X, d2.mean().Y) # 使用斯皮尔曼等级相关系数来评估两个变量之间的相关性\n",
    "        n = n - 1\n",
    "    d3 = pd.DataFrame(d2.X.min(), columns = ['min'])\n",
    "    d3['min']=d2.min().X\n",
    "    d3['max'] = d2.max().X\n",
    "    d3['sum'] = d2.sum().Y\n",
    "    d3['total'] = d2.count().Y\n",
    "    d3['rate'] = d2.mean().Y\n",
    "    d3['woe'] = np.log((d3['rate'] / (1-d3['rate'])) / (good/bad))\n",
    "    d3['goodattribute'] = d3['sum'] / good\n",
    "    d3['badattribute'] = (d3['total'] - d3['sum']) / bad\n",
    "    iv = ((d3['goodattribute'] - d3['badattribute']) * d3['woe']).sum()\n",
    "    d4 = (d3.sort_values(by = 'min'))\n",
    "    print(d4)\n",
    "    cut=[]\n",
    "    cut.append(float('-inf'))\n",
    "    for i in range(1, n+1):\n",
    "        qua = X.quantile(i/(n+1))\n",
    "        cut.append(round(qua,4))\n",
    "    cut.append(float('inf'))\n",
    "    woe = list(d4['woe'].round(3))\n",
    "    return d4, iv, cut, woe"
   ]
  },
  {
   "cell_type": "code",
   "execution_count": 39,
   "metadata": {},
   "outputs": [],
   "source": [
    "# 自定义分箱函数\n",
    "def self_bin(Y, X, cat):\n",
    "    good = Y.sum()\n",
    "    bad = Y.count() - good\n",
    "    d1 = pd.DataFrame({'X': X, 'Y': Y,'Bucket': pd.cut(X, cat)})\n",
    "    d2 = d1.groupby('Bucket', as_index = True)\n",
    "    d3 = pd.DataFrame(d2.X.min(), columns=['min'])\n",
    "    d3['min'] = d2.min().X\n",
    "    d3['max'] = d2.max().X\n",
    "    d3['sum'] = d2.sum().Y\n",
    "    d3['total'] = d2.count().Y\n",
    "    d3['rate'] = d2.mean().Y\n",
    "    d3['woe'] = np.log((d3['rate'] / (1 - d3['rate'])) / (good / bad))\n",
    "    d3['goodattribute'] = d3['sum'] / good\n",
    "    d3['badattribute'] = (d3['total'] - d3['sum']) / bad\n",
    "    iv = ((d3['goodattribute'] - d3['badattribute']) * d3['woe']).sum()\n",
    "    d4 = (d3.sort_values(by = 'min'))\n",
    "    print(d4)\n",
    "    woe = list(d4['woe'].round(3))\n",
    "    return d4, iv, woe"
   ]
  },
  {
   "cell_type": "code",
   "execution_count": 40,
   "metadata": {},
   "outputs": [
    {
     "data": {
      "text/html": [
       "<div>\n",
       "<style scoped>\n",
       "    .dataframe tbody tr th:only-of-type {\n",
       "        vertical-align: middle;\n",
       "    }\n",
       "\n",
       "    .dataframe tbody tr th {\n",
       "        vertical-align: top;\n",
       "    }\n",
       "\n",
       "    .dataframe thead th {\n",
       "        text-align: right;\n",
       "    }\n",
       "</style>\n",
       "<table border=\"1\" class=\"dataframe\">\n",
       "  <thead>\n",
       "    <tr style=\"text-align: right;\">\n",
       "      <th></th>\n",
       "      <th>DAYS_BIRTH</th>\n",
       "      <th>ORGANIZATION_TYPE</th>\n",
       "      <th>NAME_INCOME_TYPE</th>\n",
       "      <th>REGION_RATING_CLIENT_W_CITY</th>\n",
       "      <th>REGION_RATING_CLIENT</th>\n",
       "      <th>NAME_EDUCATION_TYPE</th>\n",
       "      <th>OCCUPATION_TYPE</th>\n",
       "      <th>DAYS_LAST_PHONE_CHANGE</th>\n",
       "      <th>CODE_GENDER</th>\n",
       "      <th>DAYS_ID_PUBLISH</th>\n",
       "      <th>REG_CITY_NOT_WORK_CITY</th>\n",
       "    </tr>\n",
       "  </thead>\n",
       "  <tbody>\n",
       "    <tr>\n",
       "      <td>count</td>\n",
       "      <td>307511.000000</td>\n",
       "      <td>307511.000000</td>\n",
       "      <td>307511.000000</td>\n",
       "      <td>307511.000000</td>\n",
       "      <td>307511.000000</td>\n",
       "      <td>307511.000000</td>\n",
       "      <td>307511.000000</td>\n",
       "      <td>307511.000000</td>\n",
       "      <td>307511.000000</td>\n",
       "      <td>307511.000000</td>\n",
       "      <td>307511.000000</td>\n",
       "    </tr>\n",
       "    <tr>\n",
       "      <td>mean</td>\n",
       "      <td>-16036.995067</td>\n",
       "      <td>30.717578</td>\n",
       "      <td>4.085564</td>\n",
       "      <td>2.031521</td>\n",
       "      <td>2.052463</td>\n",
       "      <td>2.490493</td>\n",
       "      <td>8.817902</td>\n",
       "      <td>-962.857244</td>\n",
       "      <td>1.341630</td>\n",
       "      <td>-2994.202373</td>\n",
       "      <td>0.230454</td>\n",
       "    </tr>\n",
       "    <tr>\n",
       "      <td>std</td>\n",
       "      <td>4363.988632</td>\n",
       "      <td>15.195566</td>\n",
       "      <td>1.140697</td>\n",
       "      <td>0.502737</td>\n",
       "      <td>0.509034</td>\n",
       "      <td>0.874544</td>\n",
       "      <td>4.210172</td>\n",
       "      <td>826.807586</td>\n",
       "      <td>0.474284</td>\n",
       "      <td>1509.450419</td>\n",
       "      <td>0.421124</td>\n",
       "    </tr>\n",
       "    <tr>\n",
       "      <td>min</td>\n",
       "      <td>-25229.000000</td>\n",
       "      <td>0.000000</td>\n",
       "      <td>0.000000</td>\n",
       "      <td>1.000000</td>\n",
       "      <td>1.000000</td>\n",
       "      <td>0.000000</td>\n",
       "      <td>0.000000</td>\n",
       "      <td>-4292.000000</td>\n",
       "      <td>0.000000</td>\n",
       "      <td>-7197.000000</td>\n",
       "      <td>0.000000</td>\n",
       "    </tr>\n",
       "    <tr>\n",
       "      <td>25%</td>\n",
       "      <td>-19682.000000</td>\n",
       "      <td>13.000000</td>\n",
       "      <td>3.000000</td>\n",
       "      <td>2.000000</td>\n",
       "      <td>2.000000</td>\n",
       "      <td>2.000000</td>\n",
       "      <td>7.000000</td>\n",
       "      <td>-1570.000000</td>\n",
       "      <td>1.000000</td>\n",
       "      <td>-4299.000000</td>\n",
       "      <td>0.000000</td>\n",
       "    </tr>\n",
       "    <tr>\n",
       "      <td>50%</td>\n",
       "      <td>-15750.000000</td>\n",
       "      <td>37.000000</td>\n",
       "      <td>5.000000</td>\n",
       "      <td>2.000000</td>\n",
       "      <td>2.000000</td>\n",
       "      <td>3.000000</td>\n",
       "      <td>10.000000</td>\n",
       "      <td>-757.000000</td>\n",
       "      <td>1.000000</td>\n",
       "      <td>-3254.000000</td>\n",
       "      <td>0.000000</td>\n",
       "    </tr>\n",
       "    <tr>\n",
       "      <td>75%</td>\n",
       "      <td>-12413.000000</td>\n",
       "      <td>42.000000</td>\n",
       "      <td>5.000000</td>\n",
       "      <td>2.000000</td>\n",
       "      <td>2.000000</td>\n",
       "      <td>3.000000</td>\n",
       "      <td>10.000000</td>\n",
       "      <td>-274.000000</td>\n",
       "      <td>2.000000</td>\n",
       "      <td>-1720.000000</td>\n",
       "      <td>0.000000</td>\n",
       "    </tr>\n",
       "    <tr>\n",
       "      <td>max</td>\n",
       "      <td>-7489.000000</td>\n",
       "      <td>57.000000</td>\n",
       "      <td>7.000000</td>\n",
       "      <td>3.000000</td>\n",
       "      <td>3.000000</td>\n",
       "      <td>4.000000</td>\n",
       "      <td>17.000000</td>\n",
       "      <td>0.000000</td>\n",
       "      <td>2.000000</td>\n",
       "      <td>0.000000</td>\n",
       "      <td>1.000000</td>\n",
       "    </tr>\n",
       "  </tbody>\n",
       "</table>\n",
       "</div>"
      ],
      "text/plain": [
       "          DAYS_BIRTH  ORGANIZATION_TYPE  NAME_INCOME_TYPE  \\\n",
       "count  307511.000000      307511.000000     307511.000000   \n",
       "mean   -16036.995067          30.717578          4.085564   \n",
       "std      4363.988632          15.195566          1.140697   \n",
       "min    -25229.000000           0.000000          0.000000   \n",
       "25%    -19682.000000          13.000000          3.000000   \n",
       "50%    -15750.000000          37.000000          5.000000   \n",
       "75%    -12413.000000          42.000000          5.000000   \n",
       "max     -7489.000000          57.000000          7.000000   \n",
       "\n",
       "       REGION_RATING_CLIENT_W_CITY  REGION_RATING_CLIENT  NAME_EDUCATION_TYPE  \\\n",
       "count                307511.000000         307511.000000        307511.000000   \n",
       "mean                      2.031521              2.052463             2.490493   \n",
       "std                       0.502737              0.509034             0.874544   \n",
       "min                       1.000000              1.000000             0.000000   \n",
       "25%                       2.000000              2.000000             2.000000   \n",
       "50%                       2.000000              2.000000             3.000000   \n",
       "75%                       2.000000              2.000000             3.000000   \n",
       "max                       3.000000              3.000000             4.000000   \n",
       "\n",
       "       OCCUPATION_TYPE  DAYS_LAST_PHONE_CHANGE    CODE_GENDER  \\\n",
       "count    307511.000000           307511.000000  307511.000000   \n",
       "mean          8.817902             -962.857244       1.341630   \n",
       "std           4.210172              826.807586       0.474284   \n",
       "min           0.000000            -4292.000000       0.000000   \n",
       "25%           7.000000            -1570.000000       1.000000   \n",
       "50%          10.000000             -757.000000       1.000000   \n",
       "75%          10.000000             -274.000000       2.000000   \n",
       "max          17.000000                0.000000       2.000000   \n",
       "\n",
       "       DAYS_ID_PUBLISH  REG_CITY_NOT_WORK_CITY  \n",
       "count    307511.000000           307511.000000  \n",
       "mean      -2994.202373                0.230454  \n",
       "std        1509.450419                0.421124  \n",
       "min       -7197.000000                0.000000  \n",
       "25%       -4299.000000                0.000000  \n",
       "50%       -3254.000000                0.000000  \n",
       "75%       -1720.000000                0.000000  \n",
       "max           0.000000                1.000000  "
      ]
     },
     "execution_count": 40,
     "metadata": {},
     "output_type": "execute_result"
    }
   ],
   "source": [
    "data[var].describe()"
   ]
  },
  {
   "cell_type": "code",
   "execution_count": 41,
   "metadata": {
    "scrolled": true
   },
   "outputs": [
    {
     "name": "stdout",
     "output_type": "stream",
     "text": [
      "                            min    max   sum  total      rate       woe  \\\n",
      "Bucket                                                                    \n",
      "(0.999, 23918.333]       -25229 -21980  1180  23918  0.049335 -0.520425   \n",
      "(23918.333, 47835.667]   -21980 -20088  1329  23917  0.055567 -0.394894   \n",
      "(47835.667, 71753.0]     -20088 -18303  1556  23918  0.065056 -0.227147   \n",
      "(71753.0, 95670.333]     -18303 -16541  1757  23917  0.073462 -0.096583   \n",
      "(95670.333, 119587.667]  -16541 -14997  1848  23917  0.077267 -0.041972   \n",
      "(119587.667, 143505.0]   -14997 -13583  1980  23918  0.082783  0.032974   \n",
      "(143505.0, 167422.333]   -13583 -12016  2314  23917  0.096751  0.204243   \n",
      "(167422.333, 191339.667] -12016 -10441  2559  23917  0.106995  0.316288   \n",
      "(191339.667, 215257.0]   -10441  -7489  2765  23918  0.115603  0.403357   \n",
      "\n",
      "                          goodattribute  badattribute  \n",
      "Bucket                                                 \n",
      "(0.999, 23918.333]             0.068255      0.114856  \n",
      "(23918.333, 47835.667]         0.076874      0.114099  \n",
      "(47835.667, 71753.0]           0.090005      0.112957  \n",
      "(71753.0, 95670.333]           0.101631      0.111937  \n",
      "(95670.333, 119587.667]        0.106895      0.111477  \n",
      "(119587.667, 143505.0]         0.114530      0.110815  \n",
      "(143505.0, 167422.333]         0.133850      0.109123  \n",
      "(167422.333, 191339.667]       0.148022      0.107886  \n",
      "(191339.667, 215257.0]         0.159938      0.106850  \n"
     ]
    }
   ],
   "source": [
    "datax1, ivx1, cutx1, woex1 = mono_bin(train.TARGET, train.DAYS_BIRTH, n=10)"
   ]
  },
  {
   "cell_type": "code",
   "execution_count": 42,
   "metadata": {
    "scrolled": true
   },
   "outputs": [
    {
     "name": "stdout",
     "output_type": "stream",
     "text": [
      "                          min  max   sum  total      rate       woe  \\\n",
      "Bucket                                                                \n",
      "(0.999, 23918.333]          0    9  1238  23918  0.051760 -0.469888   \n",
      "(23918.333, 47835.667]      9   11  1276  23917  0.053351 -0.437934   \n",
      "(47835.667, 71753.0]       11   22  1590  23918  0.066477 -0.204010   \n",
      "(71753.0, 95670.333]       22   32  1772  23917  0.074090 -0.087405   \n",
      "(95670.333, 119587.667]    32   42  2054  23917  0.085880  0.073091   \n",
      "(119587.667, 143505.0]     42   42  2155  23918  0.090100  0.125677   \n",
      "(143505.0, 167422.333]     42   43  2167  23917  0.090605  0.131828   \n",
      "(167422.333, 191339.667]   43   46  2382  23917  0.099594  0.236359   \n",
      "(191339.667, 215257.0]     46   57  2654  23918  0.110962  0.357150   \n",
      "\n",
      "                          goodattribute  badattribute  \n",
      "Bucket                                                 \n",
      "(0.999, 23918.333]             0.071610      0.114563  \n",
      "(23918.333, 47835.667]         0.073808      0.114366  \n",
      "(47835.667, 71753.0]           0.091971      0.112785  \n",
      "(71753.0, 95670.333]           0.102499      0.111861  \n",
      "(95670.333, 119587.667]        0.118811      0.110436  \n",
      "(119587.667, 143505.0]         0.124653      0.109931  \n",
      "(143505.0, 167422.333]         0.125347      0.109866  \n",
      "(167422.333, 191339.667]       0.137783      0.108780  \n",
      "(191339.667, 215257.0]         0.153517      0.107411  \n"
     ]
    }
   ],
   "source": [
    "datax2, ivx2, cutx2, woex2 = mono_bin(train.TARGET, train.ORGANIZATION_TYPE, n=10)"
   ]
  },
  {
   "cell_type": "code",
   "execution_count": 43,
   "metadata": {},
   "outputs": [],
   "source": [
    "pinf = float('inf') # 正无穷大\n",
    "ninf = float('-inf') # 负无穷大"
   ]
  },
  {
   "cell_type": "code",
   "execution_count": 44,
   "metadata": {
    "scrolled": true
   },
   "outputs": [
    {
     "name": "stdout",
     "output_type": "stream",
     "text": [
      "             min  max    sum   total      rate       woe  goodattribute  \\\n",
      "Bucket                                                                    \n",
      "(-inf, 0.0]    0    0      0       6  0.000000      -inf       0.000000   \n",
      "(0.0, 1.0]     1    1      0      12  0.000000      -inf       0.000000   \n",
      "(1.0, 3.0]     2    3   2960   53920  0.054896 -0.407754       0.171217   \n",
      "(3.0, 5.0]     4    5  14322  161303  0.088789  0.109591       0.828436   \n",
      "(5.0, inf]     6    7      6      16  0.375000  1.927272       0.000347   \n",
      "\n",
      "             badattribute  \n",
      "Bucket                     \n",
      "(-inf, 0.0]      0.000030  \n",
      "(0.0, 1.0]       0.000061  \n",
      "(1.0, 3.0]       0.257414  \n",
      "(3.0, 5.0]       0.742445  \n",
      "(5.0, inf]       0.000051  \n"
     ]
    },
    {
     "name": "stderr",
     "output_type": "stream",
     "text": [
      "D:\\Anaconda3\\lib\\site-packages\\pandas\\core\\series.py:853: RuntimeWarning: divide by zero encountered in log\n",
      "  result = getattr(ufunc, method)(*inputs, **kwargs)\n"
     ]
    }
   ],
   "source": [
    "cutx3 = [ninf, 0, 1, 3, 5, pinf]\n",
    "datax3, ivx3, woex3 = self_bin(train.TARGET, train[\"NAME_INCOME_TYPE\"], cutx3)"
   ]
  },
  {
   "cell_type": "code",
   "execution_count": 45,
   "metadata": {
    "scrolled": true
   },
   "outputs": [
    {
     "name": "stdout",
     "output_type": "stream",
     "text": [
      "                      min  max   sum  total      rate       woe  \\\n",
      "Bucket                                                            \n",
      "(0.999, 71753.0]        1    2  4877  71753  0.067969 -0.180212   \n",
      "(71753.0, 143505.0]     2    2  5731  71752  0.079872 -0.005985   \n",
      "(143505.0, 215257.0]    2    3  6680  71752  0.093098  0.161721   \n",
      "\n",
      "                      goodattribute  badattribute  \n",
      "Bucket                                             \n",
      "(0.999, 71753.0]           0.282103      0.337810  \n",
      "(71753.0, 143505.0]        0.331502      0.333492  \n",
      "(143505.0, 215257.0]       0.386395      0.328698  \n"
     ]
    }
   ],
   "source": [
    "datax4, ivx4, cutx4, woex4 = mono_bin(train.TARGET, train.REGION_RATING_CLIENT_W_CITY, n=20)"
   ]
  },
  {
   "cell_type": "code",
   "execution_count": 46,
   "metadata": {
    "scrolled": true
   },
   "outputs": [
    {
     "name": "stdout",
     "output_type": "stream",
     "text": [
      "                      min  max   sum  total      rate       woe  \\\n",
      "Bucket                                                            \n",
      "(0.999, 71753.0]        1    2  4916  71753  0.068513 -0.171664   \n",
      "(71753.0, 143505.0]     2    2  5724  71752  0.079775 -0.007313   \n",
      "(143505.0, 215257.0]    2    3  6648  71752  0.092652  0.156428   \n",
      "\n",
      "                      goodattribute  badattribute  \n",
      "Bucket                                             \n",
      "(0.999, 71753.0]           0.284359      0.337613  \n",
      "(71753.0, 143505.0]        0.331097      0.333527  \n",
      "(143505.0, 215257.0]       0.384544      0.328860  \n"
     ]
    }
   ],
   "source": [
    "datax5, ivx5, cutx5, woex5 = mono_bin(train.TARGET, train.REGION_RATING_CLIENT, n=20)"
   ]
  },
  {
   "cell_type": "code",
   "execution_count": 47,
   "metadata": {
    "scrolled": true
   },
   "outputs": [
    {
     "name": "stdout",
     "output_type": "stream",
     "text": [
      "                      min  max   sum  total      rate       woe  \\\n",
      "Bucket                                                            \n",
      "(0.999, 71753.0]        0    3  4541  71753  0.063287 -0.256607   \n",
      "(71753.0, 143505.0]     3    3  6299  71752  0.087788  0.097156   \n",
      "(143505.0, 215257.0]    3    4  6448  71752  0.089865  0.122815   \n",
      "\n",
      "                      goodattribute  badattribute  \n",
      "Bucket                                             \n",
      "(0.999, 71753.0]           0.262668      0.339508  \n",
      "(71753.0, 143505.0]        0.364357      0.330622  \n",
      "(143505.0, 215257.0]       0.372975      0.329870  \n"
     ]
    }
   ],
   "source": [
    "datax6, ivx6, cutx6, woex6 = mono_bin(train.TARGET, train.NAME_EDUCATION_TYPE, n=20)"
   ]
  },
  {
   "cell_type": "code",
   "execution_count": 48,
   "metadata": {
    "scrolled": true
   },
   "outputs": [
    {
     "name": "stdout",
     "output_type": "stream",
     "text": [
      "                      min  max   sum  total      rate       woe  \\\n",
      "Bucket                                                            \n",
      "(0.999, 53815.0]        0    7  3249  53815  0.060374 -0.306834   \n",
      "(53815.0, 107629.0]     7   10  4275  53814  0.079440 -0.011878   \n",
      "(107629.0, 161443.0]   10   10  4300  53814  0.079905 -0.005543   \n",
      "(161443.0, 215257.0]   10   17  5464  53814  0.101535  0.257813   \n",
      "\n",
      "                      goodattribute  badattribute  \n",
      "Bucket                                             \n",
      "(0.999, 53815.0]           0.187934      0.255424  \n",
      "(53815.0, 107629.0]        0.247281      0.250236  \n",
      "(107629.0, 161443.0]       0.248727      0.250110  \n",
      "(161443.0, 215257.0]       0.316057      0.244230  \n"
     ]
    }
   ],
   "source": [
    "datax7, ivx7, cutx7, woex7 = mono_bin(train.TARGET, train[\"OCCUPATION_TYPE\"], n=20)"
   ]
  },
  {
   "cell_type": "code",
   "execution_count": 49,
   "metadata": {
    "scrolled": false
   },
   "outputs": [
    {
     "name": "stdout",
     "output_type": "stream",
     "text": [
      "                         min     max   sum  total      rate       woe  \\\n",
      "Bucket                                                                  \n",
      "(0.999, 26908.0]     -4292.0 -2003.0  1467  26908  0.054519 -0.415045   \n",
      "(26908.0, 53815.0]   -2003.0 -1569.0  1661  26907  0.061731 -0.283150   \n",
      "(53815.0, 80722.0]   -1569.0 -1136.0  1845  26907  0.068570 -0.170776   \n",
      "(80722.0, 107629.0]  -1136.0  -755.0  2174  26907  0.080797  0.006528   \n",
      "(107629.0, 134536.0]  -755.0  -498.0  2466  26907  0.091649  0.144433   \n",
      "(134536.0, 161443.0]  -498.0  -273.0  2508  26907  0.093210  0.163041   \n",
      "(161443.0, 188350.0]  -273.0    -1.0  2518  26907  0.093582  0.167431   \n",
      "(188350.0, 215257.0]    -1.0     0.0  2649  26907  0.098450  0.223534   \n",
      "\n",
      "                      goodattribute  badattribute  \n",
      "Bucket                                             \n",
      "(0.999, 26908.0]           0.084857      0.128510  \n",
      "(26908.0, 53815.0]         0.096078      0.127525  \n",
      "(53815.0, 80722.0]         0.106721      0.126596  \n",
      "(80722.0, 107629.0]        0.125752      0.124934  \n",
      "(107629.0, 134536.0]       0.142642      0.123459  \n",
      "(134536.0, 161443.0]       0.145072      0.123247  \n",
      "(161443.0, 188350.0]       0.145650      0.123196  \n",
      "(188350.0, 215257.0]       0.153228      0.122534  \n"
     ]
    }
   ],
   "source": [
    "datax8, ivx8, cutx8, woex8 = mono_bin(train.TARGET, train[\"DAYS_LAST_PHONE_CHANGE\"], n=10)"
   ]
  },
  {
   "cell_type": "code",
   "execution_count": 50,
   "metadata": {
    "scrolled": true
   },
   "outputs": [
    {
     "name": "stdout",
     "output_type": "stream",
     "text": [
      "                      min  max   sum  total      rate       woe  \\\n",
      "Bucket                                                            \n",
      "(0.999, 53815.0]        0    1  3712  53815  0.068977 -0.164412   \n",
      "(53815.0, 107629.0]     1    1  3813  53814  0.070855 -0.135529   \n",
      "(107629.0, 161443.0]    1    2  4349  53814  0.080815  0.006778   \n",
      "(161443.0, 215257.0]    2    2  5414  53814  0.100606  0.247586   \n",
      "\n",
      "                      goodattribute  badattribute  \n",
      "Bucket                                             \n",
      "(0.999, 53815.0]           0.214715      0.253085  \n",
      "(53815.0, 107629.0]        0.220558      0.252570  \n",
      "(107629.0, 161443.0]       0.251562      0.249862  \n",
      "(161443.0, 215257.0]       0.313165      0.244483  \n"
     ]
    }
   ],
   "source": [
    "datax9, ivx9, cutx9, woex9 = mono_bin(train.TARGET, train.CODE_GENDER, n=20)"
   ]
  },
  {
   "cell_type": "code",
   "execution_count": 51,
   "metadata": {
    "scrolled": true
   },
   "outputs": [
    {
     "name": "stdout",
     "output_type": "stream",
     "text": [
      "                       min   max   sum  total      rate       woe  \\\n",
      "Bucket                                                              \n",
      "(0.999, 26908.0]     -7197 -4642  1601  26908  0.059499 -0.322355   \n",
      "(26908.0, 53815.0]   -4642 -4299  1644  26907  0.061099 -0.294111   \n",
      "(53815.0, 80722.0]   -4299 -3979  1970  26907  0.073215 -0.100221   \n",
      "(80722.0, 107629.0]  -3979 -3249  2115  26907  0.078604 -0.023368   \n",
      "(107629.0, 134536.0] -3249 -2508  2258  26907  0.083919  0.047841   \n",
      "(134536.0, 161443.0] -2508 -1714  2379  26907  0.088416  0.104963   \n",
      "(161443.0, 188350.0] -1714  -882  2599  26907  0.096592  0.202419   \n",
      "(188350.0, 215257.0]  -882     0  2722  26907  0.101163  0.253732   \n",
      "\n",
      "                      goodattribute  badattribute  \n",
      "Bucket                                             \n",
      "(0.999, 26908.0]           0.092608      0.127833  \n",
      "(26908.0, 53815.0]         0.095095      0.127611  \n",
      "(53815.0, 80722.0]         0.113952      0.125964  \n",
      "(80722.0, 107629.0]        0.122339      0.125232  \n",
      "(107629.0, 134536.0]       0.130611      0.124509  \n",
      "(134536.0, 161443.0]       0.137610      0.123898  \n",
      "(161443.0, 188350.0]       0.150335      0.122787  \n",
      "(188350.0, 215257.0]       0.157450      0.122166  \n"
     ]
    }
   ],
   "source": [
    "datax10, ivx10, cutx10, woex10 = mono_bin(train.TARGET, train.DAYS_ID_PUBLISH, n=10)"
   ]
  },
  {
   "cell_type": "code",
   "execution_count": 52,
   "metadata": {},
   "outputs": [
    {
     "name": "stdout",
     "output_type": "stream",
     "text": [
      "                   min  max    sum   total      rate           woe  \\\n",
      "Bucket                                                               \n",
      "(0.999, 215257.0]    0    1  17288  215257  0.080313 -1.110223e-16   \n",
      "\n",
      "                   goodattribute  badattribute  \n",
      "Bucket                                          \n",
      "(0.999, 215257.0]            1.0           1.0  \n"
     ]
    }
   ],
   "source": [
    "datax11, ivx11, cutx11, woex11 = mono_bin(train.TARGET, train.REG_CITY_NOT_WORK_CITY, n=20)"
   ]
  },
  {
   "cell_type": "markdown",
   "metadata": {},
   "source": [
    "### 相关性分析和IV筛选"
   ]
  },
  {
   "cell_type": "code",
   "execution_count": 53,
   "metadata": {
    "scrolled": true
   },
   "outputs": [
    {
     "data": {
      "text/plain": [
       "<matplotlib.axes._subplots.AxesSubplot at 0x29f524978c8>"
      ]
     },
     "execution_count": 53,
     "metadata": {},
     "output_type": "execute_result"
    },
    {
     "data": {
      "text/plain": [
       "[Text(0.5, 0, 'x0'),\n",
       " Text(1.5, 0, 'x1'),\n",
       " Text(2.5, 0, 'x2'),\n",
       " Text(3.5, 0, 'x3'),\n",
       " Text(4.5, 0, 'x4'),\n",
       " Text(5.5, 0, 'x5'),\n",
       " Text(6.5, 0, 'x6'),\n",
       " Text(7.5, 0, 'x7'),\n",
       " Text(8.5, 0, 'x8'),\n",
       " Text(9.5, 0, 'x9'),\n",
       " Text(10.5, 0, 'x10'),\n",
       " Text(11.5, 0, 'x11')]"
      ]
     },
     "execution_count": 53,
     "metadata": {},
     "output_type": "execute_result"
    },
    {
     "data": {
      "text/plain": [
       "[Text(0, 0.5, 'TARGET'),\n",
       " Text(0, 1.5, 'DAYS_BIRTH'),\n",
       " Text(0, 2.5, 'ORGANIZATION_TYPE'),\n",
       " Text(0, 3.5, 'NAME_INCOME_TYPE'),\n",
       " Text(0, 4.5, 'REGION_RATING_CLIENT_W_CITY'),\n",
       " Text(0, 5.5, 'REGION_RATING_CLIENT'),\n",
       " Text(0, 6.5, 'NAME_EDUCATION_TYPE'),\n",
       " Text(0, 7.5, 'OCCUPATION_TYPE'),\n",
       " Text(0, 8.5, 'DAYS_LAST_PHONE_CHANGE'),\n",
       " Text(0, 9.5, 'CODE_GENDER'),\n",
       " Text(0, 10.5, 'DAYS_ID_PUBLISH'),\n",
       " Text(0, 11.5, 'REG_CITY_NOT_WORK_CITY')]"
      ]
     },
     "execution_count": 53,
     "metadata": {},
     "output_type": "execute_result"
    },
    {
     "data": {
      "image/png": "[encoded data removed]",
      "text/plain": [
       "<Figure size 720x720 with 2 Axes>"
      ]
     },
     "metadata": {
      "needs_background": "light"
     },
     "output_type": "display_data"
    }
   ],
   "source": [
    "train_corr = train.corr() # 计算各变量的相关性系数\n",
    "xticks = ['x0','x1','x2','x3','x4','x5','x6','x7','x8','x9','x10','x11'] # x轴标签\n",
    "yticks = list(train_corr.index) # y轴标签\n",
    "fig = plt.figure(figsize=(10, 10))\n",
    "ax = fig.add_subplot(1, 1, 1)\n",
    "sns.heatmap(train_corr, annot=True, cmap='rainbow', ax=ax,\n",
    "            annot_kws={'size': 12, 'weight': 'bold', 'color': 'blue'}) # 绘制相关性系数热力图\n",
    "ax.set_xticklabels(xticks, rotation=0, fontsize=12)\n",
    "ax.set_yticklabels(yticks, rotation=0, fontsize=12)\n",
    "plt.show()"
   ]
  },
  {
   "cell_type": "markdown",
   "metadata": {},
   "source": [
    "上图可以看出变量之间的相关性都较小，但是 REGION_RATING_CLIENT_W_CITY 和 REGION_RATING_CLIENT 相对来说较大为0.95"
   ]
  },
  {
   "cell_type": "code",
   "execution_count": 54,
   "metadata": {
    "scrolled": true
   },
   "outputs": [
    {
     "data": {
      "text/plain": [
       "<BarContainer object of 11 artists>"
      ]
     },
     "execution_count": 54,
     "metadata": {},
     "output_type": "execute_result"
    },
    {
     "data": {
      "text/plain": [
       "[<matplotlib.axis.XTick at 0x29f5d038a48>,\n",
       " <matplotlib.axis.XTick at 0x29f5d0380c8>,\n",
       " <matplotlib.axis.XTick at 0x29f5d02fc48>,\n",
       " <matplotlib.axis.XTick at 0x29f5cd91548>,\n",
       " <matplotlib.axis.XTick at 0x29f5cd97388>,\n",
       " <matplotlib.axis.XTick at 0x29f5cd9d808>,\n",
       " <matplotlib.axis.XTick at 0x29f5cd9f108>,\n",
       " <matplotlib.axis.XTick at 0x29f5cd9f908>,\n",
       " <matplotlib.axis.XTick at 0x29f5cda4288>,\n",
       " <matplotlib.axis.XTick at 0x29f5cd9fe88>,\n",
       " <matplotlib.axis.XTick at 0x29f5cda4788>]"
      ]
     },
     "execution_count": 54,
     "metadata": {},
     "output_type": "execute_result"
    },
    {
     "data": {
      "text/plain": [
       "[Text(0, 0, 'x1'),\n",
       " Text(0, 0, 'x2'),\n",
       " Text(0, 0, 'x3'),\n",
       " Text(0, 0, 'x4'),\n",
       " Text(0, 0, 'x5'),\n",
       " Text(0, 0, 'x6'),\n",
       " Text(0, 0, 'x7'),\n",
       " Text(0, 0, 'x8'),\n",
       " Text(0, 0, 'x9'),\n",
       " Text(0, 0, 'x10'),\n",
       " Text(0, 0, 'x11')]"
      ]
     },
     "execution_count": 54,
     "metadata": {},
     "output_type": "execute_result"
    },
    {
     "data": {
      "text/plain": [
       "Text(0, 0.5, 'IV(Information Value)')"
      ]
     },
     "execution_count": 54,
     "metadata": {},
     "output_type": "execute_result"
    },
    {
     "data": {
      "text/plain": [
       "Text(1, 0.09463387621253481, '0.0846')"
      ]
     },
     "execution_count": 54,
     "metadata": {},
     "output_type": "execute_result"
    },
    {
     "data": {
      "text/plain": [
       "Text(2, 0.08083466301388871, '0.0708')"
      ]
     },
     "execution_count": 54,
     "metadata": {},
     "output_type": "execute_result"
    },
    {
     "data": {
      "text/plain": [
       "Text(3, inf, 'inf')"
      ]
     },
     "execution_count": 54,
     "metadata": {},
     "output_type": "execute_result"
    },
    {
     "data": {
      "text/plain": [
       "Text(4, 0.029381917528212197, '0.0194')"
      ]
     },
     "execution_count": 54,
     "metadata": {},
     "output_type": "execute_result"
    },
    {
     "data": {
      "text/plain": [
       "Text(5, 0.027870249141960957, '0.0179')"
      ]
     },
     "execution_count": 54,
     "metadata": {},
     "output_type": "execute_result"
    },
    {
     "data": {
      "text/plain": [
       "Text(6, 0.03828915271929715, '0.0283')"
      ]
     },
     "execution_count": 54,
     "metadata": {},
     "output_type": "execute_result"
    },
    {
     "data": {
      "text/plain": [
       "Text(7, 0.04926898220314894, '0.0393')"
      ]
     },
     "execution_count": 54,
     "metadata": {},
     "output_type": "execute_result"
    },
    {
     "data": {
      "text/plain": [
       "Text(8, 0.05737131394847526, '0.0474')"
      ]
     },
     "execution_count": 54,
     "metadata": {},
     "output_type": "execute_result"
    },
    {
     "data": {
      "text/plain": [
       "Text(9, 0.03766338008540664, '0.0277')"
      ]
     },
     "execution_count": 54,
     "metadata": {},
     "output_type": "execute_result"
    },
    {
     "data": {
      "text/plain": [
       "Text(10, 0.048450250626634474, '0.0385')"
      ]
     },
     "execution_count": 54,
     "metadata": {},
     "output_type": "execute_result"
    },
    {
     "data": {
      "text/plain": [
       "Text(11, 0.01, '0.0000')"
      ]
     },
     "execution_count": 54,
     "metadata": {},
     "output_type": "execute_result"
    },
    {
     "name": "stderr",
     "output_type": "stream",
     "text": [
      "posx and posy should be finite values\n",
      "posx and posy should be finite values\n"
     ]
    },
    {
     "data": {
      "image/png": "[encoded data removed]",
      "text/plain": [
       "<Figure size 576x576 with 1 Axes>"
      ]
     },
     "metadata": {
      "needs_background": "light"
     },
     "output_type": "display_data"
    }
   ],
   "source": [
    "ivlist = [ivx1, ivx2, ivx3, ivx4, ivx5, ivx6, ivx7, ivx8, ivx9, ivx10, ivx11] # 各变量IV\n",
    "index = ['x1','x2','x3','x4','x5','x6','x7','x8','x9','x10', 'x11'] # x轴的标签\n",
    "fig1 = plt.figure(figsize=(8, 8))\n",
    "ax1 = fig1.add_subplot(1, 1, 1)\n",
    "x = np.arange(len(index)) + 1\n",
    "ax1.bar(x, ivlist, width=0.4) # 生成柱状图\n",
    "ax1.set_xticks(x)\n",
    "ax1.set_xticklabels(index, rotation=0, fontsize=12)\n",
    "ax1.set_ylabel('IV(Information Value)', fontsize=12)\n",
    "# 在柱状图上添加数字标签\n",
    "for a, b in zip(x, ivlist):\n",
    "    plt.text(a, b + 0.01, '%.4f' % b, ha='center', va='bottom', fontsize=10)\n",
    "plt.show()"
   ]
  },
  {
   "cell_type": "markdown",
   "metadata": {},
   "source": [
    "通过IV值判断变量预测能力的标准是：\n",
    "\n",
    "小于0.02: unpredictive\n",
    "\n",
    "0.02 to 0.1: weak\n",
    "\n",
    "0.1 to 0.3: medium\n",
    "\n",
    "0.3 to 0.5: strong\n",
    "\n",
    "大于0.5: suspicious"
   ]
  },
  {
   "cell_type": "markdown",
   "metadata": {},
   "source": [
    "NAME_INCOME_TYPE、REGION_RATING_CLIENT_W_CITY、REGION_RATING_CLIENT、REG_CITY_NOT_WORK_CITY变量的IV值明显较低"
   ]
  },
  {
   "cell_type": "markdown",
   "metadata": {},
   "source": [
    "## 模型分析 "
   ]
  },
  {
   "cell_type": "markdown",
   "metadata": {},
   "source": [
    "WOE转换:\n",
    "    证据权重（Weight of Evidence,WOE）转换可以将Logistic回归模型转变为标准评分卡格式"
   ]
  },
  {
   "cell_type": "code",
   "execution_count": 55,
   "metadata": {},
   "outputs": [],
   "source": [
    "# 替换成woe函数\n",
    "def replace_woe(series, cut, woe):\n",
    "    list = []\n",
    "    i = 0\n",
    "    while i < len(series):\n",
    "        value = series[i]\n",
    "        j = len(cut)-2\n",
    "        m = len(cut)-2\n",
    "        while j >= 0:\n",
    "            if value >= cut[j]:\n",
    "                j = -1\n",
    "            else:\n",
    "                j -= 1\n",
    "                m -= 1\n",
    "        list.append(woe[m])\n",
    "        i += 1\n",
    "    return list"
   ]
  },
  {
   "cell_type": "code",
   "execution_count": 56,
   "metadata": {},
   "outputs": [
    {
     "data": {
      "text/html": [
       "<div>\n",
       "<style scoped>\n",
       "    .dataframe tbody tr th:only-of-type {\n",
       "        vertical-align: middle;\n",
       "    }\n",
       "\n",
       "    .dataframe tbody tr th {\n",
       "        vertical-align: top;\n",
       "    }\n",
       "\n",
       "    .dataframe thead th {\n",
       "        text-align: right;\n",
       "    }\n",
       "</style>\n",
       "<table border=\"1\" class=\"dataframe\">\n",
       "  <thead>\n",
       "    <tr style=\"text-align: right;\">\n",
       "      <th></th>\n",
       "      <th>TARGET</th>\n",
       "      <th>DAYS_BIRTH</th>\n",
       "      <th>ORGANIZATION_TYPE</th>\n",
       "      <th>NAME_INCOME_TYPE</th>\n",
       "      <th>REGION_RATING_CLIENT_W_CITY</th>\n",
       "      <th>REGION_RATING_CLIENT</th>\n",
       "      <th>NAME_EDUCATION_TYPE</th>\n",
       "      <th>OCCUPATION_TYPE</th>\n",
       "      <th>DAYS_LAST_PHONE_CHANGE</th>\n",
       "      <th>CODE_GENDER</th>\n",
       "      <th>DAYS_ID_PUBLISH</th>\n",
       "      <th>REG_CITY_NOT_WORK_CITY</th>\n",
       "    </tr>\n",
       "  </thead>\n",
       "  <tbody>\n",
       "    <tr>\n",
       "      <td>231827</td>\n",
       "      <td>0</td>\n",
       "      <td>-8903</td>\n",
       "      <td>42</td>\n",
       "      <td>4</td>\n",
       "      <td>3</td>\n",
       "      <td>3</td>\n",
       "      <td>3</td>\n",
       "      <td>10</td>\n",
       "      <td>-549.0</td>\n",
       "      <td>2</td>\n",
       "      <td>-1586</td>\n",
       "      <td>0</td>\n",
       "    </tr>\n",
       "    <tr>\n",
       "      <td>26601</td>\n",
       "      <td>0</td>\n",
       "      <td>-22036</td>\n",
       "      <td>9</td>\n",
       "      <td>2</td>\n",
       "      <td>2</td>\n",
       "      <td>2</td>\n",
       "      <td>3</td>\n",
       "      <td>10</td>\n",
       "      <td>0.0</td>\n",
       "      <td>1</td>\n",
       "      <td>-4048</td>\n",
       "      <td>0</td>\n",
       "    </tr>\n",
       "    <tr>\n",
       "      <td>226034</td>\n",
       "      <td>0</td>\n",
       "      <td>-13656</td>\n",
       "      <td>42</td>\n",
       "      <td>4</td>\n",
       "      <td>1</td>\n",
       "      <td>2</td>\n",
       "      <td>3</td>\n",
       "      <td>12</td>\n",
       "      <td>-29.0</td>\n",
       "      <td>1</td>\n",
       "      <td>-2039</td>\n",
       "      <td>0</td>\n",
       "    </tr>\n",
       "    <tr>\n",
       "      <td>191570</td>\n",
       "      <td>0</td>\n",
       "      <td>-18239</td>\n",
       "      <td>43</td>\n",
       "      <td>4</td>\n",
       "      <td>1</td>\n",
       "      <td>1</td>\n",
       "      <td>3</td>\n",
       "      <td>3</td>\n",
       "      <td>-1928.0</td>\n",
       "      <td>1</td>\n",
       "      <td>-1773</td>\n",
       "      <td>0</td>\n",
       "    </tr>\n",
       "    <tr>\n",
       "      <td>89837</td>\n",
       "      <td>0</td>\n",
       "      <td>-22079</td>\n",
       "      <td>9</td>\n",
       "      <td>2</td>\n",
       "      <td>1</td>\n",
       "      <td>1</td>\n",
       "      <td>3</td>\n",
       "      <td>10</td>\n",
       "      <td>-506.0</td>\n",
       "      <td>1</td>\n",
       "      <td>-2415</td>\n",
       "      <td>0</td>\n",
       "    </tr>\n",
       "    <tr>\n",
       "      <td>...</td>\n",
       "      <td>...</td>\n",
       "      <td>...</td>\n",
       "      <td>...</td>\n",
       "      <td>...</td>\n",
       "      <td>...</td>\n",
       "      <td>...</td>\n",
       "      <td>...</td>\n",
       "      <td>...</td>\n",
       "      <td>...</td>\n",
       "      <td>...</td>\n",
       "      <td>...</td>\n",
       "      <td>...</td>\n",
       "    </tr>\n",
       "    <tr>\n",
       "      <td>192476</td>\n",
       "      <td>0</td>\n",
       "      <td>-16362</td>\n",
       "      <td>42</td>\n",
       "      <td>4</td>\n",
       "      <td>2</td>\n",
       "      <td>2</td>\n",
       "      <td>3</td>\n",
       "      <td>16</td>\n",
       "      <td>-1560.0</td>\n",
       "      <td>2</td>\n",
       "      <td>-4307</td>\n",
       "      <td>0</td>\n",
       "    </tr>\n",
       "    <tr>\n",
       "      <td>17730</td>\n",
       "      <td>0</td>\n",
       "      <td>-14602</td>\n",
       "      <td>42</td>\n",
       "      <td>5</td>\n",
       "      <td>2</td>\n",
       "      <td>2</td>\n",
       "      <td>3</td>\n",
       "      <td>2</td>\n",
       "      <td>-694.0</td>\n",
       "      <td>2</td>\n",
       "      <td>-4432</td>\n",
       "      <td>0</td>\n",
       "    </tr>\n",
       "    <tr>\n",
       "      <td>28030</td>\n",
       "      <td>0</td>\n",
       "      <td>-14769</td>\n",
       "      <td>46</td>\n",
       "      <td>5</td>\n",
       "      <td>1</td>\n",
       "      <td>1</td>\n",
       "      <td>3</td>\n",
       "      <td>12</td>\n",
       "      <td>-1811.0</td>\n",
       "      <td>1</td>\n",
       "      <td>-3291</td>\n",
       "      <td>0</td>\n",
       "    </tr>\n",
       "    <tr>\n",
       "      <td>277869</td>\n",
       "      <td>1</td>\n",
       "      <td>-11568</td>\n",
       "      <td>43</td>\n",
       "      <td>5</td>\n",
       "      <td>3</td>\n",
       "      <td>3</td>\n",
       "      <td>1</td>\n",
       "      <td>12</td>\n",
       "      <td>-1616.0</td>\n",
       "      <td>1</td>\n",
       "      <td>-2188</td>\n",
       "      <td>0</td>\n",
       "    </tr>\n",
       "    <tr>\n",
       "      <td>249342</td>\n",
       "      <td>0</td>\n",
       "      <td>-16670</td>\n",
       "      <td>17</td>\n",
       "      <td>5</td>\n",
       "      <td>2</td>\n",
       "      <td>2</td>\n",
       "      <td>1</td>\n",
       "      <td>7</td>\n",
       "      <td>0.0</td>\n",
       "      <td>1</td>\n",
       "      <td>-220</td>\n",
       "      <td>0</td>\n",
       "    </tr>\n",
       "  </tbody>\n",
       "</table>\n",
       "<p>215257 rows × 12 columns</p>\n",
       "</div>"
      ],
      "text/plain": [
       "        TARGET  DAYS_BIRTH  ORGANIZATION_TYPE  NAME_INCOME_TYPE  \\\n",
       "231827       0       -8903                 42                 4   \n",
       "26601        0      -22036                  9                 2   \n",
       "226034       0      -13656                 42                 4   \n",
       "191570       0      -18239                 43                 4   \n",
       "89837        0      -22079                  9                 2   \n",
       "...        ...         ...                ...               ...   \n",
       "192476       0      -16362                 42                 4   \n",
       "17730        0      -14602                 42                 5   \n",
       "28030        0      -14769                 46                 5   \n",
       "277869       1      -11568                 43                 5   \n",
       "249342       0      -16670                 17                 5   \n",
       "\n",
       "        REGION_RATING_CLIENT_W_CITY  REGION_RATING_CLIENT  \\\n",
       "231827                            3                     3   \n",
       "26601                             2                     2   \n",
       "226034                            1                     2   \n",
       "191570                            1                     1   \n",
       "89837                             1                     1   \n",
       "...                             ...                   ...   \n",
       "192476                            2                     2   \n",
       "17730                             2                     2   \n",
       "28030                             1                     1   \n",
       "277869                            3                     3   \n",
       "249342                            2                     2   \n",
       "\n",
       "        NAME_EDUCATION_TYPE  OCCUPATION_TYPE  DAYS_LAST_PHONE_CHANGE  \\\n",
       "231827                    3               10                  -549.0   \n",
       "26601                     3               10                     0.0   \n",
       "226034                    3               12                   -29.0   \n",
       "191570                    3                3                 -1928.0   \n",
       "89837                     3               10                  -506.0   \n",
       "...                     ...              ...                     ...   \n",
       "192476                    3               16                 -1560.0   \n",
       "17730                     3                2                  -694.0   \n",
       "28030                     3               12                 -1811.0   \n",
       "277869                    1               12                 -1616.0   \n",
       "249342                    1                7                     0.0   \n",
       "\n",
       "        CODE_GENDER  DAYS_ID_PUBLISH  REG_CITY_NOT_WORK_CITY  \n",
       "231827            2            -1586                       0  \n",
       "26601             1            -4048                       0  \n",
       "226034            1            -2039                       0  \n",
       "191570            1            -1773                       0  \n",
       "89837             1            -2415                       0  \n",
       "...             ...              ...                     ...  \n",
       "192476            2            -4307                       0  \n",
       "17730             2            -4432                       0  \n",
       "28030             1            -3291                       0  \n",
       "277869            1            -2188                       0  \n",
       "249342            1             -220                       0  \n",
       "\n",
       "[215257 rows x 12 columns]"
      ]
     },
     "execution_count": 56,
     "metadata": {},
     "output_type": "execute_result"
    }
   ],
   "source": [
    "train"
   ]
  },
  {
   "cell_type": "code",
   "execution_count": 57,
   "metadata": {},
   "outputs": [],
   "source": [
    "from pandas import Series\n",
    "train = pd.read_csv(\"TrainData.csv\")\n",
    "train['DAYS_BIRTH'] = Series(replace_woe(train['DAYS_BIRTH'], cutx1, woex1))\n",
    "train['ORGANIZATION_TYPE'] = Series(replace_woe(train['ORGANIZATION_TYPE'], cutx2, woex2))\n",
    "train['NAME_INCOME_TYPE'] = Series(replace_woe(train['NAME_INCOME_TYPE'], cutx3, woex3))\n",
    "train['REGION_RATING_CLIENT_W_CITY'] = Series(replace_woe(train['REGION_RATING_CLIENT_W_CITY'], cutx4, woex4))\n",
    "train['REGION_RATING_CLIENT'] = Series(replace_woe(train['REGION_RATING_CLIENT'], cutx5, woex5))\n",
    "train['NAME_EDUCATION_TYPE'] = Series(replace_woe(train['NAME_EDUCATION_TYPE'], cutx6, woex6))\n",
    "train['OCCUPATION_TYPE'] = Series(replace_woe(train['OCCUPATION_TYPE'], cutx7, woex7))\n",
    "train['DAYS_LAST_PHONE_CHANGE'] = Series(replace_woe(train['DAYS_LAST_PHONE_CHANGE'], cutx8, woex8))\n",
    "train['CODE_GENDER'] = Series(replace_woe(train['CODE_GENDER'], cutx9, woex9))\n",
    "train['DAYS_ID_PUBLISH'] = Series(replace_woe(train['DAYS_ID_PUBLISH'], cutx10, woex10))\n",
    "train['REG_CITY_NOT_WORK_CITY'] = Series(replace_woe(train['REG_CITY_NOT_WORK_CITY'], cutx11, woex11))\n",
    "train.to_csv('Woetrain.csv', index=False)"
   ]
  },
  {
   "cell_type": "code",
   "execution_count": 58,
   "metadata": {},
   "outputs": [],
   "source": [
    "test = pd.read_csv(\"TestData.csv\")\n",
    "# 替换成woe\n",
    "test['DAYS_BIRTH'] = Series(replace_woe(test['DAYS_BIRTH'], cutx1, woex1))\n",
    "test['ORGANIZATION_TYPE'] = Series(replace_woe(test['ORGANIZATION_TYPE'], cutx2, woex2))\n",
    "test['NAME_INCOME_TYPE'] = Series(replace_woe(test['NAME_INCOME_TYPE'], cutx3, woex3))\n",
    "test['REGION_RATING_CLIENT_W_CITY'] = Series(replace_woe(test['REGION_RATING_CLIENT_W_CITY'], cutx4, woex4))\n",
    "test['REGION_RATING_CLIENT'] = Series(replace_woe(test['REGION_RATING_CLIENT'], cutx5, woex5))\n",
    "test['NAME_EDUCATION_TYPE'] = Series(replace_woe(test['NAME_EDUCATION_TYPE'], cutx6, woex6))\n",
    "test['OCCUPATION_TYPE'] = Series(replace_woe(test['OCCUPATION_TYPE'], cutx7, woex7))\n",
    "test['DAYS_LAST_PHONE_CHANGE'] = Series(replace_woe(test['DAYS_LAST_PHONE_CHANGE'], cutx8, woex8))\n",
    "test['CODE_GENDER'] = Series(replace_woe(test['CODE_GENDER'], cutx9, woex9))\n",
    "test['DAYS_ID_PUBLISH'] = Series(replace_woe(test['DAYS_ID_PUBLISH'], cutx10, woex10))\n",
    "test['REG_CITY_NOT_WORK_CITY'] = Series(replace_woe(test['REG_CITY_NOT_WORK_CITY'], cutx11, woex11))\n",
    "test.to_csv('TestWoeData.csv', index=False)"
   ]
  },
  {
   "cell_type": "markdown",
   "metadata": {},
   "source": [
    "## 模型预测 "
   ]
  },
  {
   "cell_type": "code",
   "execution_count": 59,
   "metadata": {},
   "outputs": [],
   "source": [
    "from sklearn.model_selection import cross_val_score\n",
    "\n",
    "def cvDictGen(functions, scr, X_train=X_train, Y_train=Y_train, cv=10, verbose=1):\n",
    "    cvDict = {}\n",
    "    for func in functions:\n",
    "        cvScore = cross_val_score(func, X_train, Y_train, cv=cv, verbose=verbose, scoring=scr)\n",
    "        cvDict[str(func).split('(')[0]] = [cvScore.mean(), cvScore.std()]\n",
    "    \n",
    "    return cvDict\n",
    "\n",
    "def cvDictNormalize(cvDict):\n",
    "    cvDictNormalized = {}\n",
    "    for key in cvDict.keys():\n",
    "        for i in cvDict[key]:\n",
    "            cvDictNormalized[key] = ['{:0.2f}'.format((cvDict[key][0]/cvDict[list(cvDict.keys())[0]][0])),\n",
    "                                     '{:0.2f}'.format((cvDict[key][1]/cvDict[list(cvDict.keys())[0]][1]))]\n",
    "    return cvDictNormalized"
   ]
  },
  {
   "cell_type": "code",
   "execution_count": 60,
   "metadata": {},
   "outputs": [],
   "source": [
    "from sklearn.linear_model import LogisticRegression\n",
    "from sklearn.ensemble import AdaBoostClassifier, GradientBoostingClassifier, RandomForestClassifier\n",
    "from sklearn.neighbors import KNeighborsClassifier"
   ]
  },
  {
   "cell_type": "code",
   "execution_count": 61,
   "metadata": {},
   "outputs": [],
   "source": [
    "knMod = KNeighborsClassifier(n_neighbors=5, weights='uniform', algorithm='auto', leaf_size=30, p=2,\n",
    "                             metric='minkowski', metric_params=None)"
   ]
  },
  {
   "cell_type": "code",
   "execution_count": 62,
   "metadata": {},
   "outputs": [],
   "source": [
    "lrMod = LogisticRegression(penalty='l1', dual=False, tol=0.0001, C=1.0, fit_intercept=True,\n",
    "                            intercept_scaling=1, class_weight=None, random_state=None, solver='liblinear', max_iter=100,\n",
    "                            multi_class='ovr', verbose=2)"
   ]
  },
  {
   "cell_type": "code",
   "execution_count": 63,
   "metadata": {},
   "outputs": [],
   "source": [
    "adaMod = AdaBoostClassifier(base_estimator=None, n_estimators=200, learning_rate=1.0)"
   ]
  },
  {
   "cell_type": "code",
   "execution_count": 64,
   "metadata": {},
   "outputs": [],
   "source": [
    "gbMod = GradientBoostingClassifier(loss='deviance', learning_rate=0.1, n_estimators=200, subsample=1.0,\n",
    "                                   min_samples_split=2, min_samples_leaf=1, min_weight_fraction_leaf=0.0, max_depth=3,\n",
    "                                   init=None, random_state=None, max_features=None, verbose=0)"
   ]
  },
  {
   "cell_type": "code",
   "execution_count": 65,
   "metadata": {},
   "outputs": [],
   "source": [
    "rfMod = RandomForestClassifier(n_estimators=10, criterion='gini', max_depth=None, min_samples_split=2,\n",
    "                               min_samples_leaf=1, min_weight_fraction_leaf=0.0, max_features='auto',\n",
    "                               max_leaf_nodes=None, bootstrap=True, oob_score=False, n_jobs=1, random_state=None, verbose=0)"
   ]
  },
  {
   "cell_type": "code",
   "execution_count": 66,
   "metadata": {},
   "outputs": [
    {
     "name": "stderr",
     "output_type": "stream",
     "text": [
      "[Parallel(n_jobs=1)]: Using backend SequentialBackend with 1 concurrent workers.\n",
      "[Parallel(n_jobs=1)]: Done  10 out of  10 | elapsed:   12.7s finished\n",
      "[Parallel(n_jobs=1)]: Using backend SequentialBackend with 1 concurrent workers.\n"
     ]
    },
    {
     "name": "stdout",
     "output_type": "stream",
     "text": [
      "[LibLinear][LibLinear][LibLinear][LibLinear][LibLinear][LibLinear][LibLinear][LibLinear][LibLinear][LibLinear]"
     ]
    },
    {
     "name": "stderr",
     "output_type": "stream",
     "text": [
      "[Parallel(n_jobs=1)]: Done  10 out of  10 | elapsed:  1.1min finished\n",
      "[Parallel(n_jobs=1)]: Using backend SequentialBackend with 1 concurrent workers.\n",
      "[Parallel(n_jobs=1)]: Done  10 out of  10 | elapsed:  8.3min finished\n",
      "[Parallel(n_jobs=1)]: Using backend SequentialBackend with 1 concurrent workers.\n",
      "[Parallel(n_jobs=1)]: Done  10 out of  10 | elapsed:  8.8min finished\n",
      "[Parallel(n_jobs=1)]: Using backend SequentialBackend with 1 concurrent workers.\n",
      "[Parallel(n_jobs=1)]: Done  10 out of  10 | elapsed:  1.0min finished\n"
     ]
    }
   ],
   "source": [
    "cvD = cvDictGen(functions=[knMod, lrMod, adaMod, gbMod, rfMod], scr='roc_auc')"
   ]
  },
  {
   "cell_type": "code",
   "execution_count": 67,
   "metadata": {},
   "outputs": [
    {
     "data": {
      "text/plain": [
       "{'KNeighborsClassifier': [0.5201849587542037, 0.005986724090749411],\n",
       " 'LogisticRegression': [0.6517724032696096, 0.005243865529467032],\n",
       " 'AdaBoostClassifier': [0.6557351615518378, 0.006249690845306717],\n",
       " 'GradientBoostingClassifier': [0.6584523970438549, 0.006745490606044773],\n",
       " 'RandomForestClassifier': [0.5647083562240238, 0.00724134251513311]}"
      ]
     },
     "execution_count": 67,
     "metadata": {},
     "output_type": "execute_result"
    }
   ],
   "source": [
    "cvD"
   ]
  },
  {
   "cell_type": "code",
   "execution_count": 68,
   "metadata": {},
   "outputs": [
    {
     "data": {
      "text/plain": [
       "{'KNeighborsClassifier': ['1.00', '1.00'],\n",
       " 'LogisticRegression': ['1.25', '0.88'],\n",
       " 'AdaBoostClassifier': ['1.26', '1.04'],\n",
       " 'GradientBoostingClassifier': ['1.27', '1.13'],\n",
       " 'RandomForestClassifier': ['1.09', '1.21']}"
      ]
     },
     "execution_count": 68,
     "metadata": {},
     "output_type": "execute_result"
    }
   ],
   "source": [
    "cvDictNormalize(cvD)"
   ]
  },
  {
   "cell_type": "markdown",
   "metadata": {},
   "source": [
    "LogisticRegression的out-of-the-bag较好"
   ]
  },
  {
   "cell_type": "markdown",
   "metadata": {},
   "source": [
    "## 最优化超参数 "
   ]
  },
  {
   "cell_type": "markdown",
   "metadata": {},
   "source": [
    "尝试LR、AdaBoost和GB"
   ]
  },
  {
   "cell_type": "markdown",
   "metadata": {},
   "source": [
    "AdaBoost模型"
   ]
  },
  {
   "cell_type": "code",
   "execution_count": 69,
   "metadata": {},
   "outputs": [],
   "source": [
    "from sklearn.model_selection import RandomizedSearchCV\n",
    "from scipy.stats import randint"
   ]
  },
  {
   "cell_type": "code",
   "execution_count": 70,
   "metadata": {},
   "outputs": [],
   "source": [
    "ada_param = {'n_estimators': [10,50,100,200,400],\n",
    "                 'learning_rate': [0.1, 0.05]}"
   ]
  },
  {
   "cell_type": "code",
   "execution_count": 71,
   "metadata": {
    "scrolled": true
   },
   "outputs": [
    {
     "name": "stderr",
     "output_type": "stream",
     "text": [
      "D:\\Anaconda3\\lib\\site-packages\\sklearn\\model_selection\\_split.py:1978: FutureWarning: The default value of cv will change from 3 to 5 in version 0.22. Specify it explicitly to silence this warning.\n",
      "  warnings.warn(CV_WARNING, FutureWarning)\n",
      "[Parallel(n_jobs=1)]: Using backend SequentialBackend with 1 concurrent workers.\n"
     ]
    },
    {
     "name": "stdout",
     "output_type": "stream",
     "text": [
      "Fitting 3 folds for each of 5 candidates, totalling 15 fits\n",
      "[CV] n_estimators=400, learning_rate=0.05 ............................\n",
      "[CV] ............. n_estimators=400, learning_rate=0.05, total= 1.3min\n",
      "[CV] n_estimators=400, learning_rate=0.05 ............................\n"
     ]
    },
    {
     "name": "stderr",
     "output_type": "stream",
     "text": [
      "[Parallel(n_jobs=1)]: Done   1 out of   1 | elapsed:  1.3min remaining:    0.0s\n"
     ]
    },
    {
     "name": "stdout",
     "output_type": "stream",
     "text": [
      "[CV] ............. n_estimators=400, learning_rate=0.05, total= 1.2min\n",
      "[CV] n_estimators=400, learning_rate=0.05 ............................\n",
      "[CV] ............. n_estimators=400, learning_rate=0.05, total= 1.2min\n",
      "[CV] n_estimators=10, learning_rate=0.1 ..............................\n",
      "[CV] ............... n_estimators=10, learning_rate=0.1, total=   1.8s\n",
      "[CV] n_estimators=10, learning_rate=0.1 ..............................\n",
      "[CV] ............... n_estimators=10, learning_rate=0.1, total=   1.8s\n",
      "[CV] n_estimators=10, learning_rate=0.1 ..............................\n",
      "[CV] ............... n_estimators=10, learning_rate=0.1, total=   1.8s\n",
      "[CV] n_estimators=10, learning_rate=0.05 .............................\n",
      "[CV] .............. n_estimators=10, learning_rate=0.05, total=   1.8s\n",
      "[CV] n_estimators=10, learning_rate=0.05 .............................\n",
      "[CV] .............. n_estimators=10, learning_rate=0.05, total=   1.8s\n",
      "[CV] n_estimators=10, learning_rate=0.05 .............................\n",
      "[CV] .............. n_estimators=10, learning_rate=0.05, total=   1.8s\n",
      "[CV] n_estimators=400, learning_rate=0.1 .............................\n",
      "[CV] .............. n_estimators=400, learning_rate=0.1, total= 1.2min\n",
      "[CV] n_estimators=400, learning_rate=0.1 .............................\n",
      "[CV] .............. n_estimators=400, learning_rate=0.1, total= 1.2min\n",
      "[CV] n_estimators=400, learning_rate=0.1 .............................\n",
      "[CV] .............. n_estimators=400, learning_rate=0.1, total= 1.2min\n",
      "[CV] n_estimators=200, learning_rate=0.05 ............................\n",
      "[CV] ............. n_estimators=200, learning_rate=0.05, total=  35.3s\n",
      "[CV] n_estimators=200, learning_rate=0.05 ............................\n",
      "[CV] ............. n_estimators=200, learning_rate=0.05, total=  35.8s\n",
      "[CV] n_estimators=200, learning_rate=0.05 ............................\n",
      "[CV] ............. n_estimators=200, learning_rate=0.05, total=  35.2s\n"
     ]
    },
    {
     "name": "stderr",
     "output_type": "stream",
     "text": [
      "[Parallel(n_jobs=1)]: Done  15 out of  15 | elapsed:  9.2min finished\n"
     ]
    }
   ],
   "source": [
    "randomizedSearchAda = RandomizedSearchCV(estimator=adaMod, param_distributions=ada_param, n_iter=5,\n",
    "                                   scoring='roc_auc', cv=None, verbose=2).fit(X_train, Y_train)"
   ]
  },
  {
   "cell_type": "code",
   "execution_count": 72,
   "metadata": {},
   "outputs": [
    {
     "data": {
      "text/plain": [
       "({'n_estimators': 400, 'learning_rate': 0.1}, 0.655482234998929)"
      ]
     },
     "execution_count": 72,
     "metadata": {},
     "output_type": "execute_result"
    }
   ],
   "source": [
    "randomizedSearchAda.best_params_, randomizedSearchAda.best_score_"
   ]
  },
  {
   "cell_type": "markdown",
   "metadata": {},
   "source": [
    "GB模型"
   ]
  },
  {
   "cell_type": "code",
   "execution_count": 73,
   "metadata": {},
   "outputs": [],
   "source": [
    "gbParams = {'loss' : ['deviance', 'exponential'],\n",
    "            'n_estimators': [10,50,100,200,400],\n",
    "            'max_depth': randint(1,5),\n",
    "            'learning_rate':[0.1, 0.05]}"
   ]
  },
  {
   "cell_type": "code",
   "execution_count": 74,
   "metadata": {
    "scrolled": true
   },
   "outputs": [
    {
     "name": "stderr",
     "output_type": "stream",
     "text": [
      "D:\\Anaconda3\\lib\\site-packages\\sklearn\\model_selection\\_split.py:1978: FutureWarning: The default value of cv will change from 3 to 5 in version 0.22. Specify it explicitly to silence this warning.\n",
      "  warnings.warn(CV_WARNING, FutureWarning)\n",
      "[Parallel(n_jobs=1)]: Using backend SequentialBackend with 1 concurrent workers.\n"
     ]
    },
    {
     "name": "stdout",
     "output_type": "stream",
     "text": [
      "Fitting 3 folds for each of 10 candidates, totalling 30 fits\n",
      "[CV] learning_rate=0.1, loss=deviance, max_depth=3, n_estimators=400 .\n",
      "[CV]  learning_rate=0.1, loss=deviance, max_depth=3, n_estimators=400, total= 1.3min\n",
      "[CV] learning_rate=0.1, loss=deviance, max_depth=3, n_estimators=400 .\n"
     ]
    },
    {
     "name": "stderr",
     "output_type": "stream",
     "text": [
      "[Parallel(n_jobs=1)]: Done   1 out of   1 | elapsed:  1.3min remaining:    0.0s\n"
     ]
    },
    {
     "name": "stdout",
     "output_type": "stream",
     "text": [
      "[CV]  learning_rate=0.1, loss=deviance, max_depth=3, n_estimators=400, total= 1.3min\n",
      "[CV] learning_rate=0.1, loss=deviance, max_depth=3, n_estimators=400 .\n",
      "[CV]  learning_rate=0.1, loss=deviance, max_depth=3, n_estimators=400, total= 1.2min\n",
      "[CV] learning_rate=0.1, loss=deviance, max_depth=1, n_estimators=100 .\n",
      "[CV]  learning_rate=0.1, loss=deviance, max_depth=1, n_estimators=100, total=   7.3s\n",
      "[CV] learning_rate=0.1, loss=deviance, max_depth=1, n_estimators=100 .\n",
      "[CV]  learning_rate=0.1, loss=deviance, max_depth=1, n_estimators=100, total=   7.3s\n",
      "[CV] learning_rate=0.1, loss=deviance, max_depth=1, n_estimators=100 .\n",
      "[CV]  learning_rate=0.1, loss=deviance, max_depth=1, n_estimators=100, total=   7.4s\n",
      "[CV] learning_rate=0.1, loss=exponential, max_depth=3, n_estimators=200 \n",
      "[CV]  learning_rate=0.1, loss=exponential, max_depth=3, n_estimators=200, total=  36.5s\n",
      "[CV] learning_rate=0.1, loss=exponential, max_depth=3, n_estimators=200 \n",
      "[CV]  learning_rate=0.1, loss=exponential, max_depth=3, n_estimators=200, total=  37.3s\n",
      "[CV] learning_rate=0.1, loss=exponential, max_depth=3, n_estimators=200 \n",
      "[CV]  learning_rate=0.1, loss=exponential, max_depth=3, n_estimators=200, total=  36.6s\n",
      "[CV] learning_rate=0.1, loss=exponential, max_depth=1, n_estimators=400 \n",
      "[CV]  learning_rate=0.1, loss=exponential, max_depth=1, n_estimators=400, total=  29.0s\n",
      "[CV] learning_rate=0.1, loss=exponential, max_depth=1, n_estimators=400 \n",
      "[CV]  learning_rate=0.1, loss=exponential, max_depth=1, n_estimators=400, total=  28.4s\n",
      "[CV] learning_rate=0.1, loss=exponential, max_depth=1, n_estimators=400 \n",
      "[CV]  learning_rate=0.1, loss=exponential, max_depth=1, n_estimators=400, total=  29.0s\n",
      "[CV] learning_rate=0.05, loss=exponential, max_depth=2, n_estimators=10 \n",
      "[CV]  learning_rate=0.05, loss=exponential, max_depth=2, n_estimators=10, total=   1.6s\n",
      "[CV] learning_rate=0.05, loss=exponential, max_depth=2, n_estimators=10 \n",
      "[CV]  learning_rate=0.05, loss=exponential, max_depth=2, n_estimators=10, total=   1.6s\n",
      "[CV] learning_rate=0.05, loss=exponential, max_depth=2, n_estimators=10 \n",
      "[CV]  learning_rate=0.05, loss=exponential, max_depth=2, n_estimators=10, total=   1.6s\n",
      "[CV] learning_rate=0.1, loss=exponential, max_depth=4, n_estimators=50 \n",
      "[CV]  learning_rate=0.1, loss=exponential, max_depth=4, n_estimators=50, total=  14.5s\n",
      "[CV] learning_rate=0.1, loss=exponential, max_depth=4, n_estimators=50 \n",
      "[CV]  learning_rate=0.1, loss=exponential, max_depth=4, n_estimators=50, total=  14.8s\n",
      "[CV] learning_rate=0.1, loss=exponential, max_depth=4, n_estimators=50 \n",
      "[CV]  learning_rate=0.1, loss=exponential, max_depth=4, n_estimators=50, total=  15.5s\n",
      "[CV] learning_rate=0.05, loss=deviance, max_depth=4, n_estimators=400 \n",
      "[CV]  learning_rate=0.05, loss=deviance, max_depth=4, n_estimators=400, total= 1.8min\n",
      "[CV] learning_rate=0.05, loss=deviance, max_depth=4, n_estimators=400 \n",
      "[CV]  learning_rate=0.05, loss=deviance, max_depth=4, n_estimators=400, total= 1.7min\n",
      "[CV] learning_rate=0.05, loss=deviance, max_depth=4, n_estimators=400 \n",
      "[CV]  learning_rate=0.05, loss=deviance, max_depth=4, n_estimators=400, total= 1.7min\n",
      "[CV] learning_rate=0.1, loss=deviance, max_depth=2, n_estimators=10 ..\n",
      "[CV]  learning_rate=0.1, loss=deviance, max_depth=2, n_estimators=10, total=   1.6s\n",
      "[CV] learning_rate=0.1, loss=deviance, max_depth=2, n_estimators=10 ..\n",
      "[CV]  learning_rate=0.1, loss=deviance, max_depth=2, n_estimators=10, total=   1.6s\n",
      "[CV] learning_rate=0.1, loss=deviance, max_depth=2, n_estimators=10 ..\n",
      "[CV]  learning_rate=0.1, loss=deviance, max_depth=2, n_estimators=10, total=   1.5s\n",
      "[CV] learning_rate=0.1, loss=deviance, max_depth=3, n_estimators=50 ..\n",
      "[CV]  learning_rate=0.1, loss=deviance, max_depth=3, n_estimators=50, total=  10.0s\n",
      "[CV] learning_rate=0.1, loss=deviance, max_depth=3, n_estimators=50 ..\n",
      "[CV]  learning_rate=0.1, loss=deviance, max_depth=3, n_estimators=50, total=  10.0s\n",
      "[CV] learning_rate=0.1, loss=deviance, max_depth=3, n_estimators=50 ..\n",
      "[CV]  learning_rate=0.1, loss=deviance, max_depth=3, n_estimators=50, total=  10.1s\n",
      "[CV] learning_rate=0.05, loss=exponential, max_depth=1, n_estimators=400 \n",
      "[CV]  learning_rate=0.05, loss=exponential, max_depth=1, n_estimators=400, total=  28.1s\n",
      "[CV] learning_rate=0.05, loss=exponential, max_depth=1, n_estimators=400 \n",
      "[CV]  learning_rate=0.05, loss=exponential, max_depth=1, n_estimators=400, total=  27.8s\n",
      "[CV] learning_rate=0.05, loss=exponential, max_depth=1, n_estimators=400 \n",
      "[CV]  learning_rate=0.05, loss=exponential, max_depth=1, n_estimators=400, total=  28.9s\n"
     ]
    },
    {
     "name": "stderr",
     "output_type": "stream",
     "text": [
      "[Parallel(n_jobs=1)]: Done  30 out of  30 | elapsed: 15.5min finished\n"
     ]
    }
   ],
   "source": [
    "randomizedSearchGB = RandomizedSearchCV(estimator=gbMod, param_distributions=gbParams, n_iter=10,\n",
    "                                   scoring='roc_auc', cv=None, verbose=2).fit(X_train, Y_train)"
   ]
  },
  {
   "cell_type": "code",
   "execution_count": 75,
   "metadata": {},
   "outputs": [
    {
     "data": {
      "text/plain": [
       "({'learning_rate': 0.1,\n",
       "  'loss': 'exponential',\n",
       "  'max_depth': 3,\n",
       "  'n_estimators': 200},\n",
       " 0.6567088341150991)"
      ]
     },
     "execution_count": 75,
     "metadata": {},
     "output_type": "execute_result"
    }
   ],
   "source": [
    "randomizedSearchGB.best_params_, randomizedSearchGB.best_score_"
   ]
  },
  {
   "cell_type": "code",
   "execution_count": 76,
   "metadata": {},
   "outputs": [],
   "source": [
    "bestGbModFitted = randomizedSearchGB.best_estimator_.fit(X_train, Y_train)"
   ]
  },
  {
   "cell_type": "code",
   "execution_count": 77,
   "metadata": {},
   "outputs": [],
   "source": [
    "bestAdaModFitted = randomizedSearchAda.best_estimator_.fit(X_train, Y_train)"
   ]
  },
  {
   "cell_type": "code",
   "execution_count": 78,
   "metadata": {},
   "outputs": [
    {
     "name": "stderr",
     "output_type": "stream",
     "text": [
      "[Parallel(n_jobs=1)]: Using backend SequentialBackend with 1 concurrent workers.\n",
      "[Parallel(n_jobs=1)]: Done  10 out of  10 | elapsed:  9.0min finished\n",
      "[Parallel(n_jobs=1)]: Using backend SequentialBackend with 1 concurrent workers.\n",
      "[Parallel(n_jobs=1)]: Done  10 out of  10 | elapsed: 16.9min finished\n"
     ]
    }
   ],
   "source": [
    "cvDictHPO = cvDictGen(functions=[bestGbModFitted, bestAdaModFitted], scr='roc_auc')"
   ]
  },
  {
   "cell_type": "code",
   "execution_count": 79,
   "metadata": {},
   "outputs": [
    {
     "data": {
      "text/plain": [
       "{'GradientBoostingClassifier': ['1.00', '1.00'],\n",
       " 'AdaBoostClassifier': ['1.00', '0.83']}"
      ]
     },
     "execution_count": 79,
     "metadata": {},
     "output_type": "execute_result"
    }
   ],
   "source": [
    "cvDictNormalize(cvDictHPO)"
   ]
  },
  {
   "cell_type": "code",
   "execution_count": 80,
   "metadata": {},
   "outputs": [],
   "source": [
    "def plotCvRocCurve(X, y, classifier, nfolds=5):\n",
    "    \n",
    "    from sklearn.metrics import roc_curve, auc\n",
    "    from sklearn.model_selection import StratifiedKFold\n",
    "    import matplotlib.pyplot as plt\n",
    "    from scipy import interp\n",
    "\n",
    "    cv = StratifiedKFold(n_splits=nfolds)\n",
    "    cv = cv.split(X, y)\n",
    "    #cv = StratifiedKFold(y, n_splits=nfolds)\n",
    "\n",
    "    mean_tpr = 0.0\n",
    "    mean_fpr = np.linspace(0, 1, 100)\n",
    "    all_tpr = []\n",
    "\n",
    "    for i, (train, test) in enumerate(cv):\n",
    "        probas_ = classifier.fit(X.iloc[train], y.iloc[train]).predict_proba(X.iloc[test])\n",
    "\n",
    "        fpr, tpr, thresholds = roc_curve(y.iloc[test], probas_[:, 1])\n",
    "        mean_tpr += interp(mean_fpr, fpr, tpr)\n",
    "        mean_tpr[0] = 0.0\n",
    "        roc_auc = auc(fpr, tpr)\n",
    "        plt.plot(fpr, tpr, lw=1, label='ROC fold %d (area = %0.2f)' % (i, roc_auc))\n",
    "\n",
    "    plt.plot([0, 1], [0, 1], '--', color=(0.6, 0.6, 0.6), label='Luck')\n",
    "\n",
    "    mean_tpr = mean_tpr/len(list(cv))\n",
    "    mean_tpr[-1] = 1.0\n",
    "    mean_auc = auc(mean_fpr, mean_tpr)\n",
    "    plt.plot(mean_fpr, mean_tpr, 'k--',\n",
    "             label='Mean ROC (area = %0.2f)' % mean_auc, lw=2)\n",
    "\n",
    "    plt.xlim([-0.05, 1.05])\n",
    "    plt.ylim([-0.05, 1.05])\n",
    "    plt.xlabel('False Positive Rate')\n",
    "    plt.ylabel('True Positive Rate')\n",
    "    plt.title('CV ROC curve')\n",
    "    plt.legend(loc=\"lower right\")\n",
    "    fig = plt.gcf()\n",
    "    fig.set_size_inches(15,5)\n",
    "\n",
    "    plt.show()\n",
    "\n",
    "def rocZeroOne(y_true, y_predicted_porba):\n",
    "    \n",
    "    from sklearn.metrics import roc_curve\n",
    "    from scipy.spatial.distance import euclidean\n",
    "    \n",
    "    fpr, tpr, thresholds = roc_curve(y_true, y_predicted_porba[:, 1])\n",
    "    \n",
    "    best = [0, 1]\n",
    "    dist = []\n",
    "    for (x, y) in zip(fpr, tpr):\n",
    "        dist.append([euclidean([x,y], best)])\n",
    "\n",
    "    bestPoint = [fpr[dist.index(min(dist))], tpr[dist.index(min(dist))]]\n",
    "    \n",
    "    bestCutOff1 = thresholds[list(fpr).index(bestPoint[0])]\n",
    "    bestCutOff2 = thresholds[list(tpr).index(bestPoint[1])]\n",
    "    \n",
    "    print('\\n' + 'ROC曲线最佳点位置: TPR = {:0.3f}%, FPR = {:0.3f}%'.format(bestPoint[1]*100, bestPoint[0]*100))\n",
    "    print('\\n' + '最佳截止点: {:0.4f}'.format(bestCutOff1))\n",
    "\n",
    "    plt.plot(dist)\n",
    "    plt.xlabel('Index')\n",
    "    plt.ylabel('Euclidean Distance to the perfect [0,1]')\n",
    "    fig = plt.gcf()\n",
    "    fig.set_size_inches(15,5)"
   ]
  },
  {
   "cell_type": "code",
   "execution_count": 81,
   "metadata": {
    "scrolled": false
   },
   "outputs": [
    {
     "name": "stderr",
     "output_type": "stream",
     "text": [
      "D:\\Anaconda3\\lib\\site-packages\\ipykernel_launcher.py:27: RuntimeWarning: divide by zero encountered in true_divide\n",
      "D:\\Anaconda3\\lib\\site-packages\\ipykernel_launcher.py:27: RuntimeWarning: invalid value encountered in true_divide\n"
     ]
    },
    {
     "data": {
      "image/png": "[encoded data removed]",
      "text/plain": [
       "<Figure size 1080x360 with 1 Axes>"
      ]
     },
     "metadata": {
      "needs_background": "light"
     },
     "output_type": "display_data"
    }
   ],
   "source": [
    "plotCvRocCurve(X, Y, randomizedSearchGB.best_estimator_)"
   ]
  },
  {
   "cell_type": "code",
   "execution_count": 82,
   "metadata": {
    "scrolled": false
   },
   "outputs": [
    {
     "name": "stdout",
     "output_type": "stream",
     "text": [
      "\n",
      "ROC曲线最佳点位置: TPR = 65.026%, FPR = 40.377%\n",
      "\n",
      "最佳截止点: 0.0766\n"
     ]
    },
    {
     "data": {
      "image/png": "[encoded data removed]",
      "text/plain": [
       "<Figure size 1080x360 with 1 Axes>"
      ]
     },
     "metadata": {
      "needs_background": "light"
     },
     "output_type": "display_data"
    }
   ],
   "source": [
    "rocZeroOne(Y_test, randomizedSearchGB.predict_proba(X_test))"
   ]
  },
  {
   "cell_type": "code",
   "execution_count": 83,
   "metadata": {
    "scrolled": false
   },
   "outputs": [
    {
     "name": "stderr",
     "output_type": "stream",
     "text": [
      "D:\\Anaconda3\\lib\\site-packages\\ipykernel_launcher.py:27: RuntimeWarning: divide by zero encountered in true_divide\n",
      "D:\\Anaconda3\\lib\\site-packages\\ipykernel_launcher.py:27: RuntimeWarning: invalid value encountered in true_divide\n"
     ]
    },
    {
     "data": {
      "image/png": "[encoded data removed]",
      "text/plain": [
       "<Figure size 1080x360 with 1 Axes>"
      ]
     },
     "metadata": {
      "needs_background": "light"
     },
     "output_type": "display_data"
    }
   ],
   "source": [
    "plotCvRocCurve(X, Y, randomizedSearchAda.best_estimator_)"
   ]
  },
  {
   "cell_type": "code",
   "execution_count": 84,
   "metadata": {
    "scrolled": false
   },
   "outputs": [
    {
     "name": "stdout",
     "output_type": "stream",
     "text": [
      "\n",
      "ROC曲线最佳点位置: TPR = 63.314%, FPR = 40.332%\n",
      "\n",
      "最佳截止点: 0.4847\n"
     ]
    },
    {
     "data": {
      "image/png": "[encoded data removed]",
      "text/plain": [
       "<Figure size 1080x360 with 1 Axes>"
      ]
     },
     "metadata": {
      "needs_background": "light"
     },
     "output_type": "display_data"
    }
   ],
   "source": [
    "rocZeroOne(Y_test, randomizedSearchAda.predict_proba(X_test))"
   ]
  },
  {
   "cell_type": "markdown",
   "metadata": {},
   "source": [
    "LR模型"
   ]
  },
  {
   "cell_type": "code",
   "execution_count": 85,
   "metadata": {
    "scrolled": true
   },
   "outputs": [],
   "source": [
    "data = pd.read_csv('Woetrain.csv')"
   ]
  },
  {
   "cell_type": "code",
   "execution_count": 86,
   "metadata": {
    "scrolled": true
   },
   "outputs": [
    {
     "name": "stdout",
     "output_type": "stream",
     "text": [
      "[LibLinear][LibLinear][LibLinear][LibLinear][LibLinear][LibLinear]"
     ]
    },
    {
     "name": "stderr",
     "output_type": "stream",
     "text": [
      "D:\\Anaconda3\\lib\\site-packages\\ipykernel_launcher.py:27: RuntimeWarning: divide by zero encountered in true_divide\n",
      "D:\\Anaconda3\\lib\\site-packages\\ipykernel_launcher.py:27: RuntimeWarning: invalid value encountered in true_divide\n"
     ]
    },
    {
     "data": {
      "image/png": "[encoded data removed]",
      "text/plain": [
       "<Figure size 1080x360 with 1 Axes>"
      ]
     },
     "metadata": {
      "needs_background": "light"
     },
     "output_type": "display_data"
    }
   ],
   "source": [
    "#因变量\n",
    "data_Y = data['TARGET']\n",
    "#自变量，剔除对因变量影响不明显的变量NAME_INCOME_TYPE、REGION_RATING_CLIENT_W_CITY、REGION_RATING_CLIENT、REG_CITY_NOT_WORK_CITY\n",
    "data_X = data.drop(['TARGET','NAME_INCOME_TYPE','REGION_RATING_CLIENT_W_CITY','REGION_RATING_CLIENT','REG_CITY_NOT_WORK_CITY'],axis=1)\n",
    "plotCvRocCurve(data_X, data_Y, lrMod.fit(data_X, data_Y))"
   ]
  },
  {
   "cell_type": "code",
   "execution_count": 87,
   "metadata": {
    "scrolled": true
   },
   "outputs": [
    {
     "name": "stdout",
     "output_type": "stream",
     "text": [
      "\n",
      "ROC曲线最佳点位置: TPR = 60.793%, FPR = 40.245%\n",
      "\n",
      "最佳截止点: 0.0815\n"
     ]
    },
    {
     "data": {
      "image/png": "[encoded data removed]",
      "text/plain": [
       "<Figure size 1080x360 with 1 Axes>"
      ]
     },
     "metadata": {
      "needs_background": "light"
     },
     "output_type": "display_data"
    }
   ],
   "source": [
    "Y_test = test['TARGET']\n",
    "X_test = test.drop(['TARGET','NAME_INCOME_TYPE','REGION_RATING_CLIENT_W_CITY','REGION_RATING_CLIENT','REG_CITY_NOT_WORK_CITY'], axis=1)\n",
    "rocZeroOne(Y_test, lrMod.predict_proba(X_test))"
   ]
  },
  {
   "cell_type": "code",
   "execution_count": 88,
   "metadata": {
    "scrolled": true
   },
   "outputs": [
    {
     "name": "stderr",
     "output_type": "stream",
     "text": [
      "D:\\Anaconda3\\lib\\site-packages\\numpy\\core\\fromnumeric.py:2389: FutureWarning: Method .ptp is deprecated and will be removed in a future version. Use numpy.ptp instead.\n",
      "  return ptp(axis=axis, out=out, **kwargs)\n"
     ]
    },
    {
     "name": "stdout",
     "output_type": "stream",
     "text": [
      "Optimization terminated successfully.\n",
      "         Current function value: 0.270597\n",
      "         Iterations 7\n",
      "                           Logit Regression Results                           \n",
      "==============================================================================\n",
      "Dep. Variable:                 TARGET   No. Observations:               215257\n",
      "Model:                          Logit   Df Residuals:                   215249\n",
      "Method:                           MLE   Df Model:                            7\n",
      "Date:                Mon, 05 Jul 2021   Pseudo R-squ.:                 0.03197\n",
      "Time:                        01:08:14   Log-Likelihood:                -58248.\n",
      "converged:                       True   LL-Null:                       -60172.\n",
      "Covariance Type:            nonrobust   LLR p-value:                     0.000\n",
      "==========================================================================================\n",
      "                             coef    std err          z      P>|z|      [0.025      0.975]\n",
      "------------------------------------------------------------------------------------------\n",
      "const                     -2.6644      0.012   -226.033      0.000      -2.687      -2.641\n",
      "DAYS_BIRTH                 0.7708      0.032     23.801      0.000       0.707       0.834\n",
      "ORGANIZATION_TYPE          0.4648      0.034     13.869      0.000       0.399       0.530\n",
      "NAME_EDUCATION_TYPE        1.2614      0.055     22.945      0.000       1.154       1.369\n",
      "OCCUPATION_TYPE            0.5346      0.038     13.936      0.000       0.459       0.610\n",
      "DAYS_LAST_PHONE_CHANGE     0.8268      0.038     21.524      0.000       0.751       0.902\n",
      "CODE_GENDER                1.0966      0.069     15.911      0.000       0.961       1.232\n",
      "DAYS_ID_PUBLISH            0.5601      0.044     12.863      0.000       0.475       0.645\n",
      "==========================================================================================\n"
     ]
    }
   ],
   "source": [
    "import statsmodels.api as sm\n",
    "from sklearn.metrics import roc_curve, auc\n",
    "# 导入数据\n",
    "data = pd.read_csv('Woetrain.csv')\n",
    "#因变量\n",
    "Y = data['TARGET']\n",
    "#自变量，剔除对因变量影响不明显的变量\n",
    "X = data.drop(['TARGET','NAME_INCOME_TYPE','REGION_RATING_CLIENT_W_CITY','REGION_RATING_CLIENT','REG_CITY_NOT_WORK_CITY'],axis=1)\n",
    "X1 = sm.add_constant(X)\n",
    "logit = sm.Logit(Y, X1)\n",
    "result = logit.fit()\n",
    "print(result.summary())"
   ]
  },
  {
   "cell_type": "markdown",
   "metadata": {},
   "source": [
    "逻辑回归常数项为-2.6644，DAYS_BIRTH系数为0.7708，ORGANIZATION_TYPE系数为0.4648，NAME_EDUCATION_TYPE系数为1.2614，OCCUPATION_TYPE系数为0.5346，DAYS_LAST_PHONE_CHANGE系数为0.8268，CODE_GENDER系数为1.0966，DAYS_ID_PUBLISH系数为0.5601。\n",
    "在5%的置信度下即95%的置信区间，系数是显著的。"
   ]
  },
  {
   "cell_type": "code",
   "execution_count": 91,
   "metadata": {
    "scrolled": true
   },
   "outputs": [
    {
     "data": {
      "text/plain": [
       "[<matplotlib.lines.Line2D at 0x29f5263dcc8>]"
      ]
     },
     "execution_count": 91,
     "metadata": {},
     "output_type": "execute_result"
    },
    {
     "data": {
      "text/plain": [
       "<matplotlib.legend.Legend at 0x29f524cc848>"
      ]
     },
     "execution_count": 91,
     "metadata": {},
     "output_type": "execute_result"
    },
    {
     "data": {
      "text/plain": [
       "[<matplotlib.lines.Line2D at 0x29f5264ea48>]"
      ]
     },
     "execution_count": 91,
     "metadata": {},
     "output_type": "execute_result"
    },
    {
     "data": {
      "text/plain": [
       "(0, 1)"
      ]
     },
     "execution_count": 91,
     "metadata": {},
     "output_type": "execute_result"
    },
    {
     "data": {
      "text/plain": [
       "(0, 1)"
      ]
     },
     "execution_count": 91,
     "metadata": {},
     "output_type": "execute_result"
    },
    {
     "data": {
      "text/plain": [
       "Text(0, 0.5, '真正率')"
      ]
     },
     "execution_count": 91,
     "metadata": {},
     "output_type": "execute_result"
    },
    {
     "data": {
      "text/plain": [
       "Text(0.5, 0, '假正率')"
      ]
     },
     "execution_count": 91,
     "metadata": {},
     "output_type": "execute_result"
    },
    {
     "data": {
      "image/png": "[encoded data removed]",
      "text/plain": [
       "<Figure size 432x288 with 1 Axes>"
      ]
     },
     "metadata": {
      "needs_background": "light"
     },
     "output_type": "display_data"
    }
   ],
   "source": [
    "plt.rcParams['font.sans-serif'] = ['SimHei']\n",
    "test = pd.read_csv('TestWoeData.csv')\n",
    "Y_test = test['TARGET']\n",
    "X_test = test.drop(['TARGET','NAME_INCOME_TYPE','REGION_RATING_CLIENT_W_CITY','REGION_RATING_CLIENT','REG_CITY_NOT_WORK_CITY'],axis=1)\n",
    "X3 = sm.add_constant(X_test)\n",
    "resu = result.predict(X3)\n",
    "fpr, tpr, threshold = roc_curve(Y_test, resu)\n",
    "rocauc = auc(fpr, tpr)\n",
    "plt.plot(fpr, tpr, 'b', label='AUC = %0.2f' % rocauc)\n",
    "plt.legend(loc = 'lower right')\n",
    "plt.plot([0, 1], [0, 1], 'r--')\n",
    "plt.xlim([0, 1])\n",
    "plt.ylim([0, 1])\n",
    "plt.ylabel('真正率')\n",
    "plt.xlabel('假正率')\n",
    "plt.show()"
   ]
  },
  {
   "cell_type": "code",
   "execution_count": 92,
   "metadata": {},
   "outputs": [],
   "source": [
    "import math\n",
    "# coe为逻辑回归模型的系数\n",
    "coe = [-2.6644, 0.7708, 0.4648, 1.2614, 0.5346, 0.8268, 1.0966, 0.5601]\n",
    "p = 20 / math.log(2)\n",
    "q = 600 - 20 * math.log(20) / math.log(2)\n",
    "baseScore = round(q + p * coe[0], 0)"
   ]
  },
  {
   "cell_type": "code",
   "execution_count": 93,
   "metadata": {},
   "outputs": [
    {
     "data": {
      "text/plain": [
       "437.0"
      ]
     },
     "execution_count": 93,
     "metadata": {},
     "output_type": "execute_result"
    }
   ],
   "source": [
    "baseScore"
   ]
  },
  {
   "cell_type": "code",
   "execution_count": 94,
   "metadata": {},
   "outputs": [],
   "source": [
    "def get_score(coe, woe, factor):\n",
    "    scores = []\n",
    "    for w in woe:\n",
    "        score = round(coe * w * factor, 0)\n",
    "        scores.append(score)\n",
    "    return scores"
   ]
  },
  {
   "cell_type": "code",
   "execution_count": 95,
   "metadata": {},
   "outputs": [],
   "source": [
    "x1 = get_score(coe[1], woex1, p)\n",
    "x2 = get_score(coe[2], woex2, p)\n",
    "x6 = get_score(coe[3], woex6, p)\n",
    "x7 = get_score(coe[4], woex7, p)\n",
    "x8 = get_score(coe[5], woex8, p)\n",
    "x9 = get_score(coe[6], woex9, p)\n",
    "x10 = get_score(coe[7], woex10, p)"
   ]
  },
  {
   "cell_type": "code",
   "execution_count": 96,
   "metadata": {},
   "outputs": [
    {
     "name": "stdout",
     "output_type": "stream",
     "text": [
      "[-12.0, -9.0, -5.0, -2.0, -1.0, 1.0, 5.0, 7.0, 9.0] [-6.0, -6.0, -3.0, -1.0, 1.0, 2.0, 2.0, 3.0, 5.0] [-9.0, 4.0, 4.0] [-5.0, -0.0, -0.0, 4.0] [-10.0, -7.0, -4.0, 0.0, 3.0, 4.0, 4.0, 5.0] [-5.0, -4.0, 0.0, 8.0] [-5.0, -5.0, -2.0, -0.0, 1.0, 2.0, 3.0, 4.0]\n"
     ]
    }
   ],
   "source": [
    "print(x1, x2, x6, x7, x8, x9, x10)"
   ]
  },
  {
   "cell_type": "code",
   "execution_count": 97,
   "metadata": {},
   "outputs": [],
   "source": [
    "def compute_score(series, cut, score):\n",
    "    list = []\n",
    "    i = 0\n",
    "    while i < len(series):\n",
    "        value = series[i]\n",
    "        j = len(cut) - 2\n",
    "        m = len(cut) - 2\n",
    "        while j >= 0:\n",
    "            if value >= cut[j]:\n",
    "                j = -1\n",
    "            else:\n",
    "                j -= 1\n",
    "                m -= 1\n",
    "        list.append(score[m])\n",
    "        i += 1\n",
    "    return list"
   ]
  },
  {
   "cell_type": "code",
   "execution_count": 98,
   "metadata": {},
   "outputs": [],
   "source": [
    "test1 = pd.read_csv('TestData.csv')\n",
    "test1['BaseScore'] = Series(np.zeros(len(test1))) + baseScore\n",
    "test1['x1'] = Series(compute_score(test1['DAYS_BIRTH'], cutx1, x1))\n",
    "test1['x2'] = Series(compute_score(test1['ORGANIZATION_TYPE'], cutx2, x2))\n",
    "test1['x6'] = Series(compute_score(test1['NAME_EDUCATION_TYPE'], cutx6, x6))\n",
    "test1['x7'] = Series(compute_score(test1['OCCUPATION_TYPE'], cutx7, x7))\n",
    "test1['x8'] = Series(compute_score(test1['DAYS_LAST_PHONE_CHANGE'], cutx8, x8))\n",
    "test1['x9'] = Series(compute_score(test1['CODE_GENDER'], cutx9, x9))\n",
    "test1['x10'] = Series(compute_score(test1['DAYS_ID_PUBLISH'], cutx10, x10))\n",
    "test1['Score'] = test1['x1'] + test1['x2'] + test1['x6'] + test1['x7'] +test1['x8'] + test1['x9'] + test1['x10'] + baseScore\n",
    "test1.to_csv('ScoreData.csv', index=False)"
   ]
  },
  {
   "cell_type": "code",
   "execution_count": 99,
   "metadata": {},
   "outputs": [],
   "source": [
    "ScoreData = pd.read_csv(\"ScoreData.csv\")"
   ]
  },
  {
   "cell_type": "code",
   "execution_count": 100,
   "metadata": {
    "scrolled": true
   },
   "outputs": [
    {
     "name": "stdout",
     "output_type": "stream",
     "text": [
      "<class 'pandas.core.frame.DataFrame'>\n",
      "RangeIndex: 92254 entries, 0 to 92253\n",
      "Data columns (total 21 columns):\n",
      "TARGET                         92254 non-null int64\n",
      "DAYS_BIRTH                     92254 non-null int64\n",
      "ORGANIZATION_TYPE              92254 non-null int64\n",
      "NAME_INCOME_TYPE               92254 non-null int64\n",
      "REGION_RATING_CLIENT_W_CITY    92254 non-null int64\n",
      "REGION_RATING_CLIENT           92254 non-null int64\n",
      "NAME_EDUCATION_TYPE            92254 non-null int64\n",
      "OCCUPATION_TYPE                92254 non-null int64\n",
      "DAYS_LAST_PHONE_CHANGE         92254 non-null float64\n",
      "CODE_GENDER                    92254 non-null int64\n",
      "DAYS_ID_PUBLISH                92254 non-null int64\n",
      "REG_CITY_NOT_WORK_CITY         92254 non-null int64\n",
      "BaseScore                      92254 non-null float64\n",
      "x1                             92254 non-null float64\n",
      "x2                             92254 non-null float64\n",
      "x6                             92254 non-null float64\n",
      "x7                             92254 non-null float64\n",
      "x8                             92254 non-null float64\n",
      "x9                             92254 non-null float64\n",
      "x10                            92254 non-null float64\n",
      "Score                          92254 non-null float64\n",
      "dtypes: float64(10), int64(11)\n",
      "memory usage: 14.8 MB\n"
     ]
    }
   ],
   "source": [
    "ScoreData.info()"
   ]
  },
  {
   "cell_type": "code",
   "execution_count": 106,
   "metadata": {},
   "outputs": [
    {
     "data": {
      "text/html": [
       "<div>\n",
       "<style scoped>\n",
       "    .dataframe tbody tr th:only-of-type {\n",
       "        vertical-align: middle;\n",
       "    }\n",
       "\n",
       "    .dataframe tbody tr th {\n",
       "        vertical-align: top;\n",
       "    }\n",
       "\n",
       "    .dataframe thead th {\n",
       "        text-align: right;\n",
       "    }\n",
       "</style>\n",
       "<table border=\"1\" class=\"dataframe\">\n",
       "  <thead>\n",
       "    <tr style=\"text-align: right;\">\n",
       "      <th></th>\n",
       "      <th>TARGET</th>\n",
       "      <th>DAYS_BIRTH</th>\n",
       "      <th>ORGANIZATION_TYPE</th>\n",
       "      <th>NAME_INCOME_TYPE</th>\n",
       "      <th>REGION_RATING_CLIENT_W_CITY</th>\n",
       "      <th>REGION_RATING_CLIENT</th>\n",
       "      <th>NAME_EDUCATION_TYPE</th>\n",
       "      <th>OCCUPATION_TYPE</th>\n",
       "      <th>DAYS_LAST_PHONE_CHANGE</th>\n",
       "      <th>CODE_GENDER</th>\n",
       "      <th>...</th>\n",
       "      <th>REG_CITY_NOT_WORK_CITY</th>\n",
       "      <th>BaseScore</th>\n",
       "      <th>x1</th>\n",
       "      <th>x2</th>\n",
       "      <th>x6</th>\n",
       "      <th>x7</th>\n",
       "      <th>x8</th>\n",
       "      <th>x9</th>\n",
       "      <th>x10</th>\n",
       "      <th>Score</th>\n",
       "    </tr>\n",
       "  </thead>\n",
       "  <tbody>\n",
       "    <tr>\n",
       "      <td>10128</td>\n",
       "      <td>0</td>\n",
       "      <td>-8095</td>\n",
       "      <td>53</td>\n",
       "      <td>5</td>\n",
       "      <td>2</td>\n",
       "      <td>2</td>\n",
       "      <td>3</td>\n",
       "      <td>10</td>\n",
       "      <td>0.0</td>\n",
       "      <td>2</td>\n",
       "      <td>...</td>\n",
       "      <td>0</td>\n",
       "      <td>437.0</td>\n",
       "      <td>9.0</td>\n",
       "      <td>5.0</td>\n",
       "      <td>4.0</td>\n",
       "      <td>4.0</td>\n",
       "      <td>5.0</td>\n",
       "      <td>8.0</td>\n",
       "      <td>4.0</td>\n",
       "      <td>476.0</td>\n",
       "    </tr>\n",
       "    <tr>\n",
       "      <td>49649</td>\n",
       "      <td>0</td>\n",
       "      <td>-8096</td>\n",
       "      <td>47</td>\n",
       "      <td>4</td>\n",
       "      <td>2</td>\n",
       "      <td>2</td>\n",
       "      <td>3</td>\n",
       "      <td>10</td>\n",
       "      <td>0.0</td>\n",
       "      <td>2</td>\n",
       "      <td>...</td>\n",
       "      <td>1</td>\n",
       "      <td>437.0</td>\n",
       "      <td>9.0</td>\n",
       "      <td>5.0</td>\n",
       "      <td>4.0</td>\n",
       "      <td>4.0</td>\n",
       "      <td>5.0</td>\n",
       "      <td>8.0</td>\n",
       "      <td>4.0</td>\n",
       "      <td>476.0</td>\n",
       "    </tr>\n",
       "    <tr>\n",
       "      <td>20143</td>\n",
       "      <td>0</td>\n",
       "      <td>-7749</td>\n",
       "      <td>46</td>\n",
       "      <td>5</td>\n",
       "      <td>2</td>\n",
       "      <td>2</td>\n",
       "      <td>3</td>\n",
       "      <td>12</td>\n",
       "      <td>0.0</td>\n",
       "      <td>2</td>\n",
       "      <td>...</td>\n",
       "      <td>1</td>\n",
       "      <td>437.0</td>\n",
       "      <td>9.0</td>\n",
       "      <td>5.0</td>\n",
       "      <td>4.0</td>\n",
       "      <td>4.0</td>\n",
       "      <td>5.0</td>\n",
       "      <td>8.0</td>\n",
       "      <td>4.0</td>\n",
       "      <td>476.0</td>\n",
       "    </tr>\n",
       "    <tr>\n",
       "      <td>73170</td>\n",
       "      <td>0</td>\n",
       "      <td>-8157</td>\n",
       "      <td>47</td>\n",
       "      <td>5</td>\n",
       "      <td>2</td>\n",
       "      <td>2</td>\n",
       "      <td>3</td>\n",
       "      <td>15</td>\n",
       "      <td>0.0</td>\n",
       "      <td>2</td>\n",
       "      <td>...</td>\n",
       "      <td>0</td>\n",
       "      <td>437.0</td>\n",
       "      <td>9.0</td>\n",
       "      <td>5.0</td>\n",
       "      <td>4.0</td>\n",
       "      <td>4.0</td>\n",
       "      <td>5.0</td>\n",
       "      <td>8.0</td>\n",
       "      <td>4.0</td>\n",
       "      <td>476.0</td>\n",
       "    </tr>\n",
       "    <tr>\n",
       "      <td>67245</td>\n",
       "      <td>0</td>\n",
       "      <td>-8249</td>\n",
       "      <td>46</td>\n",
       "      <td>4</td>\n",
       "      <td>2</td>\n",
       "      <td>2</td>\n",
       "      <td>3</td>\n",
       "      <td>12</td>\n",
       "      <td>0.0</td>\n",
       "      <td>2</td>\n",
       "      <td>...</td>\n",
       "      <td>1</td>\n",
       "      <td>437.0</td>\n",
       "      <td>9.0</td>\n",
       "      <td>5.0</td>\n",
       "      <td>4.0</td>\n",
       "      <td>4.0</td>\n",
       "      <td>5.0</td>\n",
       "      <td>8.0</td>\n",
       "      <td>4.0</td>\n",
       "      <td>476.0</td>\n",
       "    </tr>\n",
       "    <tr>\n",
       "      <td>...</td>\n",
       "      <td>...</td>\n",
       "      <td>...</td>\n",
       "      <td>...</td>\n",
       "      <td>...</td>\n",
       "      <td>...</td>\n",
       "      <td>...</td>\n",
       "      <td>...</td>\n",
       "      <td>...</td>\n",
       "      <td>...</td>\n",
       "      <td>...</td>\n",
       "      <td>...</td>\n",
       "      <td>...</td>\n",
       "      <td>...</td>\n",
       "      <td>...</td>\n",
       "      <td>...</td>\n",
       "      <td>...</td>\n",
       "      <td>...</td>\n",
       "      <td>...</td>\n",
       "      <td>...</td>\n",
       "      <td>...</td>\n",
       "      <td>...</td>\n",
       "    </tr>\n",
       "    <tr>\n",
       "      <td>80058</td>\n",
       "      <td>0</td>\n",
       "      <td>-23172</td>\n",
       "      <td>13</td>\n",
       "      <td>3</td>\n",
       "      <td>2</td>\n",
       "      <td>2</td>\n",
       "      <td>1</td>\n",
       "      <td>2</td>\n",
       "      <td>-2545.0</td>\n",
       "      <td>1</td>\n",
       "      <td>...</td>\n",
       "      <td>0</td>\n",
       "      <td>437.0</td>\n",
       "      <td>-12.0</td>\n",
       "      <td>-3.0</td>\n",
       "      <td>-9.0</td>\n",
       "      <td>-5.0</td>\n",
       "      <td>-10.0</td>\n",
       "      <td>0.0</td>\n",
       "      <td>-5.0</td>\n",
       "      <td>393.0</td>\n",
       "    </tr>\n",
       "    <tr>\n",
       "      <td>68174</td>\n",
       "      <td>0</td>\n",
       "      <td>-22503</td>\n",
       "      <td>13</td>\n",
       "      <td>3</td>\n",
       "      <td>1</td>\n",
       "      <td>1</td>\n",
       "      <td>1</td>\n",
       "      <td>3</td>\n",
       "      <td>-2270.0</td>\n",
       "      <td>1</td>\n",
       "      <td>...</td>\n",
       "      <td>1</td>\n",
       "      <td>437.0</td>\n",
       "      <td>-12.0</td>\n",
       "      <td>-3.0</td>\n",
       "      <td>-9.0</td>\n",
       "      <td>-5.0</td>\n",
       "      <td>-10.0</td>\n",
       "      <td>0.0</td>\n",
       "      <td>-5.0</td>\n",
       "      <td>393.0</td>\n",
       "    </tr>\n",
       "    <tr>\n",
       "      <td>72786</td>\n",
       "      <td>0</td>\n",
       "      <td>-22782</td>\n",
       "      <td>13</td>\n",
       "      <td>5</td>\n",
       "      <td>2</td>\n",
       "      <td>2</td>\n",
       "      <td>1</td>\n",
       "      <td>3</td>\n",
       "      <td>-2357.0</td>\n",
       "      <td>1</td>\n",
       "      <td>...</td>\n",
       "      <td>0</td>\n",
       "      <td>437.0</td>\n",
       "      <td>-12.0</td>\n",
       "      <td>-3.0</td>\n",
       "      <td>-9.0</td>\n",
       "      <td>-5.0</td>\n",
       "      <td>-10.0</td>\n",
       "      <td>0.0</td>\n",
       "      <td>-5.0</td>\n",
       "      <td>393.0</td>\n",
       "    </tr>\n",
       "    <tr>\n",
       "      <td>33525</td>\n",
       "      <td>0</td>\n",
       "      <td>-22304</td>\n",
       "      <td>5</td>\n",
       "      <td>3</td>\n",
       "      <td>2</td>\n",
       "      <td>2</td>\n",
       "      <td>1</td>\n",
       "      <td>3</td>\n",
       "      <td>-1751.0</td>\n",
       "      <td>1</td>\n",
       "      <td>...</td>\n",
       "      <td>0</td>\n",
       "      <td>437.0</td>\n",
       "      <td>-12.0</td>\n",
       "      <td>-6.0</td>\n",
       "      <td>-9.0</td>\n",
       "      <td>-5.0</td>\n",
       "      <td>-7.0</td>\n",
       "      <td>0.0</td>\n",
       "      <td>-5.0</td>\n",
       "      <td>393.0</td>\n",
       "    </tr>\n",
       "    <tr>\n",
       "      <td>49536</td>\n",
       "      <td>0</td>\n",
       "      <td>-22626</td>\n",
       "      <td>13</td>\n",
       "      <td>5</td>\n",
       "      <td>2</td>\n",
       "      <td>2</td>\n",
       "      <td>1</td>\n",
       "      <td>3</td>\n",
       "      <td>-2279.0</td>\n",
       "      <td>1</td>\n",
       "      <td>...</td>\n",
       "      <td>0</td>\n",
       "      <td>437.0</td>\n",
       "      <td>-12.0</td>\n",
       "      <td>-3.0</td>\n",
       "      <td>-9.0</td>\n",
       "      <td>-5.0</td>\n",
       "      <td>-10.0</td>\n",
       "      <td>0.0</td>\n",
       "      <td>-5.0</td>\n",
       "      <td>393.0</td>\n",
       "    </tr>\n",
       "  </tbody>\n",
       "</table>\n",
       "<p>84717 rows × 21 columns</p>\n",
       "</div>"
      ],
      "text/plain": [
       "       TARGET  DAYS_BIRTH  ORGANIZATION_TYPE  NAME_INCOME_TYPE  \\\n",
       "10128       0       -8095                 53                 5   \n",
       "49649       0       -8096                 47                 4   \n",
       "20143       0       -7749                 46                 5   \n",
       "73170       0       -8157                 47                 5   \n",
       "67245       0       -8249                 46                 4   \n",
       "...       ...         ...                ...               ...   \n",
       "80058       0      -23172                 13                 3   \n",
       "68174       0      -22503                 13                 3   \n",
       "72786       0      -22782                 13                 5   \n",
       "33525       0      -22304                  5                 3   \n",
       "49536       0      -22626                 13                 5   \n",
       "\n",
       "       REGION_RATING_CLIENT_W_CITY  REGION_RATING_CLIENT  NAME_EDUCATION_TYPE  \\\n",
       "10128                            2                     2                    3   \n",
       "49649                            2                     2                    3   \n",
       "20143                            2                     2                    3   \n",
       "73170                            2                     2                    3   \n",
       "67245                            2                     2                    3   \n",
       "...                            ...                   ...                  ...   \n",
       "80058                            2                     2                    1   \n",
       "68174                            1                     1                    1   \n",
       "72786                            2                     2                    1   \n",
       "33525                            2                     2                    1   \n",
       "49536                            2                     2                    1   \n",
       "\n",
       "       OCCUPATION_TYPE  DAYS_LAST_PHONE_CHANGE  CODE_GENDER  ...  \\\n",
       "10128               10                     0.0            2  ...   \n",
       "49649               10                     0.0            2  ...   \n",
       "20143               12                     0.0            2  ...   \n",
       "73170               15                     0.0            2  ...   \n",
       "67245               12                     0.0            2  ...   \n",
       "...                ...                     ...          ...  ...   \n",
       "80058                2                 -2545.0            1  ...   \n",
       "68174                3                 -2270.0            1  ...   \n",
       "72786                3                 -2357.0            1  ...   \n",
       "33525                3                 -1751.0            1  ...   \n",
       "49536                3                 -2279.0            1  ...   \n",
       "\n",
       "       REG_CITY_NOT_WORK_CITY  BaseScore    x1   x2   x6   x7    x8   x9  x10  \\\n",
       "10128                       0      437.0   9.0  5.0  4.0  4.0   5.0  8.0  4.0   \n",
       "49649                       1      437.0   9.0  5.0  4.0  4.0   5.0  8.0  4.0   \n",
       "20143                       1      437.0   9.0  5.0  4.0  4.0   5.0  8.0  4.0   \n",
       "73170                       0      437.0   9.0  5.0  4.0  4.0   5.0  8.0  4.0   \n",
       "67245                       1      437.0   9.0  5.0  4.0  4.0   5.0  8.0  4.0   \n",
       "...                       ...        ...   ...  ...  ...  ...   ...  ...  ...   \n",
       "80058                       0      437.0 -12.0 -3.0 -9.0 -5.0 -10.0  0.0 -5.0   \n",
       "68174                       1      437.0 -12.0 -3.0 -9.0 -5.0 -10.0  0.0 -5.0   \n",
       "72786                       0      437.0 -12.0 -3.0 -9.0 -5.0 -10.0  0.0 -5.0   \n",
       "33525                       0      437.0 -12.0 -6.0 -9.0 -5.0  -7.0  0.0 -5.0   \n",
       "49536                       0      437.0 -12.0 -3.0 -9.0 -5.0 -10.0  0.0 -5.0   \n",
       "\n",
       "       Score  \n",
       "10128  476.0  \n",
       "49649  476.0  \n",
       "20143  476.0  \n",
       "73170  476.0  \n",
       "67245  476.0  \n",
       "...      ...  \n",
       "80058  393.0  \n",
       "68174  393.0  \n",
       "72786  393.0  \n",
       "33525  393.0  \n",
       "49536  393.0  \n",
       "\n",
       "[84717 rows x 21 columns]"
      ]
     },
     "execution_count": 106,
     "metadata": {},
     "output_type": "execute_result"
    }
   ],
   "source": [
    "ScoreData[ScoreData.TARGET == 0].sort_values(by='Score',ascending = False)"
   ]
  },
  {
   "cell_type": "code",
   "execution_count": 109,
   "metadata": {},
   "outputs": [
    {
     "data": {
      "text/plain": [
       "count    84717.000000\n",
       "mean       439.488863\n",
       "std         14.701379\n",
       "min        393.000000\n",
       "25%        429.000000\n",
       "50%        439.000000\n",
       "75%        450.000000\n",
       "max        476.000000\n",
       "Name: Score, dtype: float64"
      ]
     },
     "execution_count": 109,
     "metadata": {},
     "output_type": "execute_result"
    }
   ],
   "source": [
    "ScoreData[ScoreData.TARGET == 0]['Score'].describe()"
   ]
  },
  {
   "cell_type": "code",
   "execution_count": 105,
   "metadata": {},
   "outputs": [
    {
     "data": {
      "text/html": [
       "<div>\n",
       "<style scoped>\n",
       "    .dataframe tbody tr th:only-of-type {\n",
       "        vertical-align: middle;\n",
       "    }\n",
       "\n",
       "    .dataframe tbody tr th {\n",
       "        vertical-align: top;\n",
       "    }\n",
       "\n",
       "    .dataframe thead th {\n",
       "        text-align: right;\n",
       "    }\n",
       "</style>\n",
       "<table border=\"1\" class=\"dataframe\">\n",
       "  <thead>\n",
       "    <tr style=\"text-align: right;\">\n",
       "      <th></th>\n",
       "      <th>TARGET</th>\n",
       "      <th>DAYS_BIRTH</th>\n",
       "      <th>ORGANIZATION_TYPE</th>\n",
       "      <th>NAME_INCOME_TYPE</th>\n",
       "      <th>REGION_RATING_CLIENT_W_CITY</th>\n",
       "      <th>REGION_RATING_CLIENT</th>\n",
       "      <th>NAME_EDUCATION_TYPE</th>\n",
       "      <th>OCCUPATION_TYPE</th>\n",
       "      <th>DAYS_LAST_PHONE_CHANGE</th>\n",
       "      <th>CODE_GENDER</th>\n",
       "      <th>...</th>\n",
       "      <th>REG_CITY_NOT_WORK_CITY</th>\n",
       "      <th>BaseScore</th>\n",
       "      <th>x1</th>\n",
       "      <th>x2</th>\n",
       "      <th>x6</th>\n",
       "      <th>x7</th>\n",
       "      <th>x8</th>\n",
       "      <th>x9</th>\n",
       "      <th>x10</th>\n",
       "      <th>Score</th>\n",
       "    </tr>\n",
       "  </thead>\n",
       "  <tbody>\n",
       "    <tr>\n",
       "      <td>48765</td>\n",
       "      <td>1</td>\n",
       "      <td>-8363</td>\n",
       "      <td>46</td>\n",
       "      <td>5</td>\n",
       "      <td>2</td>\n",
       "      <td>2</td>\n",
       "      <td>3</td>\n",
       "      <td>12</td>\n",
       "      <td>0.0</td>\n",
       "      <td>2</td>\n",
       "      <td>...</td>\n",
       "      <td>0</td>\n",
       "      <td>437.0</td>\n",
       "      <td>9.0</td>\n",
       "      <td>5.0</td>\n",
       "      <td>4.0</td>\n",
       "      <td>4.0</td>\n",
       "      <td>5.0</td>\n",
       "      <td>8.0</td>\n",
       "      <td>4.0</td>\n",
       "      <td>476.0</td>\n",
       "    </tr>\n",
       "    <tr>\n",
       "      <td>65920</td>\n",
       "      <td>1</td>\n",
       "      <td>-9517</td>\n",
       "      <td>46</td>\n",
       "      <td>4</td>\n",
       "      <td>2</td>\n",
       "      <td>2</td>\n",
       "      <td>4</td>\n",
       "      <td>16</td>\n",
       "      <td>-248.0</td>\n",
       "      <td>2</td>\n",
       "      <td>...</td>\n",
       "      <td>0</td>\n",
       "      <td>437.0</td>\n",
       "      <td>9.0</td>\n",
       "      <td>5.0</td>\n",
       "      <td>4.0</td>\n",
       "      <td>4.0</td>\n",
       "      <td>4.0</td>\n",
       "      <td>8.0</td>\n",
       "      <td>4.0</td>\n",
       "      <td>475.0</td>\n",
       "    </tr>\n",
       "    <tr>\n",
       "      <td>55572</td>\n",
       "      <td>1</td>\n",
       "      <td>-8263</td>\n",
       "      <td>46</td>\n",
       "      <td>5</td>\n",
       "      <td>3</td>\n",
       "      <td>3</td>\n",
       "      <td>4</td>\n",
       "      <td>17</td>\n",
       "      <td>-6.0</td>\n",
       "      <td>2</td>\n",
       "      <td>...</td>\n",
       "      <td>0</td>\n",
       "      <td>437.0</td>\n",
       "      <td>9.0</td>\n",
       "      <td>5.0</td>\n",
       "      <td>4.0</td>\n",
       "      <td>4.0</td>\n",
       "      <td>4.0</td>\n",
       "      <td>8.0</td>\n",
       "      <td>4.0</td>\n",
       "      <td>475.0</td>\n",
       "    </tr>\n",
       "    <tr>\n",
       "      <td>76145</td>\n",
       "      <td>1</td>\n",
       "      <td>-8548</td>\n",
       "      <td>46</td>\n",
       "      <td>4</td>\n",
       "      <td>2</td>\n",
       "      <td>2</td>\n",
       "      <td>3</td>\n",
       "      <td>10</td>\n",
       "      <td>0.0</td>\n",
       "      <td>2</td>\n",
       "      <td>...</td>\n",
       "      <td>1</td>\n",
       "      <td>437.0</td>\n",
       "      <td>9.0</td>\n",
       "      <td>5.0</td>\n",
       "      <td>4.0</td>\n",
       "      <td>4.0</td>\n",
       "      <td>5.0</td>\n",
       "      <td>8.0</td>\n",
       "      <td>3.0</td>\n",
       "      <td>475.0</td>\n",
       "    </tr>\n",
       "    <tr>\n",
       "      <td>85814</td>\n",
       "      <td>1</td>\n",
       "      <td>-8665</td>\n",
       "      <td>46</td>\n",
       "      <td>4</td>\n",
       "      <td>2</td>\n",
       "      <td>2</td>\n",
       "      <td>3</td>\n",
       "      <td>17</td>\n",
       "      <td>0.0</td>\n",
       "      <td>2</td>\n",
       "      <td>...</td>\n",
       "      <td>1</td>\n",
       "      <td>437.0</td>\n",
       "      <td>9.0</td>\n",
       "      <td>5.0</td>\n",
       "      <td>4.0</td>\n",
       "      <td>4.0</td>\n",
       "      <td>5.0</td>\n",
       "      <td>8.0</td>\n",
       "      <td>3.0</td>\n",
       "      <td>475.0</td>\n",
       "    </tr>\n",
       "    <tr>\n",
       "      <td>...</td>\n",
       "      <td>...</td>\n",
       "      <td>...</td>\n",
       "      <td>...</td>\n",
       "      <td>...</td>\n",
       "      <td>...</td>\n",
       "      <td>...</td>\n",
       "      <td>...</td>\n",
       "      <td>...</td>\n",
       "      <td>...</td>\n",
       "      <td>...</td>\n",
       "      <td>...</td>\n",
       "      <td>...</td>\n",
       "      <td>...</td>\n",
       "      <td>...</td>\n",
       "      <td>...</td>\n",
       "      <td>...</td>\n",
       "      <td>...</td>\n",
       "      <td>...</td>\n",
       "      <td>...</td>\n",
       "      <td>...</td>\n",
       "      <td>...</td>\n",
       "    </tr>\n",
       "    <tr>\n",
       "      <td>440</td>\n",
       "      <td>1</td>\n",
       "      <td>-22907</td>\n",
       "      <td>9</td>\n",
       "      <td>2</td>\n",
       "      <td>2</td>\n",
       "      <td>2</td>\n",
       "      <td>1</td>\n",
       "      <td>10</td>\n",
       "      <td>-2514.0</td>\n",
       "      <td>1</td>\n",
       "      <td>...</td>\n",
       "      <td>0</td>\n",
       "      <td>437.0</td>\n",
       "      <td>-12.0</td>\n",
       "      <td>-6.0</td>\n",
       "      <td>-9.0</td>\n",
       "      <td>4.0</td>\n",
       "      <td>-10.0</td>\n",
       "      <td>0.0</td>\n",
       "      <td>-5.0</td>\n",
       "      <td>399.0</td>\n",
       "    </tr>\n",
       "    <tr>\n",
       "      <td>74997</td>\n",
       "      <td>1</td>\n",
       "      <td>-22023</td>\n",
       "      <td>5</td>\n",
       "      <td>4</td>\n",
       "      <td>2</td>\n",
       "      <td>2</td>\n",
       "      <td>1</td>\n",
       "      <td>10</td>\n",
       "      <td>-2936.0</td>\n",
       "      <td>1</td>\n",
       "      <td>...</td>\n",
       "      <td>0</td>\n",
       "      <td>437.0</td>\n",
       "      <td>-12.0</td>\n",
       "      <td>-6.0</td>\n",
       "      <td>-9.0</td>\n",
       "      <td>4.0</td>\n",
       "      <td>-10.0</td>\n",
       "      <td>0.0</td>\n",
       "      <td>-5.0</td>\n",
       "      <td>399.0</td>\n",
       "    </tr>\n",
       "    <tr>\n",
       "      <td>65222</td>\n",
       "      <td>1</td>\n",
       "      <td>-21391</td>\n",
       "      <td>22</td>\n",
       "      <td>5</td>\n",
       "      <td>2</td>\n",
       "      <td>2</td>\n",
       "      <td>1</td>\n",
       "      <td>2</td>\n",
       "      <td>-2602.0</td>\n",
       "      <td>1</td>\n",
       "      <td>...</td>\n",
       "      <td>0</td>\n",
       "      <td>437.0</td>\n",
       "      <td>-9.0</td>\n",
       "      <td>-1.0</td>\n",
       "      <td>-9.0</td>\n",
       "      <td>-5.0</td>\n",
       "      <td>-10.0</td>\n",
       "      <td>0.0</td>\n",
       "      <td>-5.0</td>\n",
       "      <td>398.0</td>\n",
       "    </tr>\n",
       "    <tr>\n",
       "      <td>31386</td>\n",
       "      <td>1</td>\n",
       "      <td>-22504</td>\n",
       "      <td>22</td>\n",
       "      <td>3</td>\n",
       "      <td>2</td>\n",
       "      <td>2</td>\n",
       "      <td>1</td>\n",
       "      <td>2</td>\n",
       "      <td>-1876.0</td>\n",
       "      <td>1</td>\n",
       "      <td>...</td>\n",
       "      <td>0</td>\n",
       "      <td>437.0</td>\n",
       "      <td>-12.0</td>\n",
       "      <td>-1.0</td>\n",
       "      <td>-9.0</td>\n",
       "      <td>-5.0</td>\n",
       "      <td>-7.0</td>\n",
       "      <td>0.0</td>\n",
       "      <td>-5.0</td>\n",
       "      <td>398.0</td>\n",
       "    </tr>\n",
       "    <tr>\n",
       "      <td>41490</td>\n",
       "      <td>1</td>\n",
       "      <td>-23112</td>\n",
       "      <td>13</td>\n",
       "      <td>5</td>\n",
       "      <td>2</td>\n",
       "      <td>2</td>\n",
       "      <td>1</td>\n",
       "      <td>3</td>\n",
       "      <td>-2212.0</td>\n",
       "      <td>1</td>\n",
       "      <td>...</td>\n",
       "      <td>0</td>\n",
       "      <td>437.0</td>\n",
       "      <td>-12.0</td>\n",
       "      <td>-3.0</td>\n",
       "      <td>-9.0</td>\n",
       "      <td>-5.0</td>\n",
       "      <td>-10.0</td>\n",
       "      <td>0.0</td>\n",
       "      <td>-5.0</td>\n",
       "      <td>393.0</td>\n",
       "    </tr>\n",
       "  </tbody>\n",
       "</table>\n",
       "<p>7537 rows × 21 columns</p>\n",
       "</div>"
      ],
      "text/plain": [
       "       TARGET  DAYS_BIRTH  ORGANIZATION_TYPE  NAME_INCOME_TYPE  \\\n",
       "48765       1       -8363                 46                 5   \n",
       "65920       1       -9517                 46                 4   \n",
       "55572       1       -8263                 46                 5   \n",
       "76145       1       -8548                 46                 4   \n",
       "85814       1       -8665                 46                 4   \n",
       "...       ...         ...                ...               ...   \n",
       "440         1      -22907                  9                 2   \n",
       "74997       1      -22023                  5                 4   \n",
       "65222       1      -21391                 22                 5   \n",
       "31386       1      -22504                 22                 3   \n",
       "41490       1      -23112                 13                 5   \n",
       "\n",
       "       REGION_RATING_CLIENT_W_CITY  REGION_RATING_CLIENT  NAME_EDUCATION_TYPE  \\\n",
       "48765                            2                     2                    3   \n",
       "65920                            2                     2                    4   \n",
       "55572                            3                     3                    4   \n",
       "76145                            2                     2                    3   \n",
       "85814                            2                     2                    3   \n",
       "...                            ...                   ...                  ...   \n",
       "440                              2                     2                    1   \n",
       "74997                            2                     2                    1   \n",
       "65222                            2                     2                    1   \n",
       "31386                            2                     2                    1   \n",
       "41490                            2                     2                    1   \n",
       "\n",
       "       OCCUPATION_TYPE  DAYS_LAST_PHONE_CHANGE  CODE_GENDER  ...  \\\n",
       "48765               12                     0.0            2  ...   \n",
       "65920               16                  -248.0            2  ...   \n",
       "55572               17                    -6.0            2  ...   \n",
       "76145               10                     0.0            2  ...   \n",
       "85814               17                     0.0            2  ...   \n",
       "...                ...                     ...          ...  ...   \n",
       "440                 10                 -2514.0            1  ...   \n",
       "74997               10                 -2936.0            1  ...   \n",
       "65222                2                 -2602.0            1  ...   \n",
       "31386                2                 -1876.0            1  ...   \n",
       "41490                3                 -2212.0            1  ...   \n",
       "\n",
       "       REG_CITY_NOT_WORK_CITY  BaseScore    x1   x2   x6   x7    x8   x9  x10  \\\n",
       "48765                       0      437.0   9.0  5.0  4.0  4.0   5.0  8.0  4.0   \n",
       "65920                       0      437.0   9.0  5.0  4.0  4.0   4.0  8.0  4.0   \n",
       "55572                       0      437.0   9.0  5.0  4.0  4.0   4.0  8.0  4.0   \n",
       "76145                       1      437.0   9.0  5.0  4.0  4.0   5.0  8.0  3.0   \n",
       "85814                       1      437.0   9.0  5.0  4.0  4.0   5.0  8.0  3.0   \n",
       "...                       ...        ...   ...  ...  ...  ...   ...  ...  ...   \n",
       "440                         0      437.0 -12.0 -6.0 -9.0  4.0 -10.0  0.0 -5.0   \n",
       "74997                       0      437.0 -12.0 -6.0 -9.0  4.0 -10.0  0.0 -5.0   \n",
       "65222                       0      437.0  -9.0 -1.0 -9.0 -5.0 -10.0  0.0 -5.0   \n",
       "31386                       0      437.0 -12.0 -1.0 -9.0 -5.0  -7.0  0.0 -5.0   \n",
       "41490                       0      437.0 -12.0 -3.0 -9.0 -5.0 -10.0  0.0 -5.0   \n",
       "\n",
       "       Score  \n",
       "48765  476.0  \n",
       "65920  475.0  \n",
       "55572  475.0  \n",
       "76145  475.0  \n",
       "85814  475.0  \n",
       "...      ...  \n",
       "440    399.0  \n",
       "74997  399.0  \n",
       "65222  398.0  \n",
       "31386  398.0  \n",
       "41490  393.0  \n",
       "\n",
       "[7537 rows x 21 columns]"
      ]
     },
     "execution_count": 105,
     "metadata": {},
     "output_type": "execute_result"
    }
   ],
   "source": [
    "ScoreData[ScoreData.TARGET == 1].sort_values(by='Score',ascending = False)"
   ]
  },
  {
   "cell_type": "code",
   "execution_count": 110,
   "metadata": {},
   "outputs": [
    {
     "data": {
      "text/plain": [
       "count    7537.000000\n",
       "mean      446.566671\n",
       "std        14.144625\n",
       "min       393.000000\n",
       "25%       437.000000\n",
       "50%       448.000000\n",
       "75%       457.000000\n",
       "max       476.000000\n",
       "Name: Score, dtype: float64"
      ]
     },
     "execution_count": 110,
     "metadata": {},
     "output_type": "execute_result"
    }
   ],
   "source": [
    "ScoreData[ScoreData.TARGET == 1]['Score'].describe()"
   ]
  },
  {
   "cell_type": "code",
   "execution_count": null,
   "metadata": {},
   "outputs": [],
   "source": []
  }
 ],
 "metadata": {
  "kernelspec": {
   "display_name": "Python 3",
   "language": "python",
   "name": "python3"
  },
  "language_info": {
   "codemirror_mode": {
    "name": "ipython",
    "version": 3
   },
   "file_extension": ".py",
   "mimetype": "text/x-python",
   "name": "python",
   "nbconvert_exporter": "python",
   "pygments_lexer": "ipython3",
   "version": "3.7.4"
  }
 },
 "nbformat": 4,
 "nbformat_minor": 2
}
